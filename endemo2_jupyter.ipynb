{
 "cells": [
  {
   "cell_type": "markdown",
   "metadata": {},
   "source": [
    "# Endemo 2 - Useful Energy Demand Model Rework"
   ]
  },
  {
   "cell_type": "markdown",
   "source": [
    "## Create Input Manager"
   ],
   "metadata": {
    "collapsed": false
   }
  },
  {
   "cell_type": "code",
   "execution_count": 1,
   "outputs": [
    {
     "name": "stdout",
     "output_type": "stream",
     "text": [
      "{'RS11', 'DK05', 'NL32', 'AT31', 'UKJ4', 'FRY2', 'PL82', 'RS21', 'SI03', 'CZ06', 'UKF2', 'UKC2', 'DE12', 'UKD4', 'ITH2', 'FRD2', 'SE11', 'DE92', 'ES63', 'FRF3', 'MT00', 'FI1D', 'ES42', 'UKH2', 'FRY5', 'ITF6', 'FRM0', 'SE12', 'CZ05', 'BE34', 'PL63', 'DE25', 'UKF1', 'PL91', 'ES11', 'AT21', 'AT32', 'UKM8', 'ITC3', 'EL30', 'PT17', 'FRH0', 'EL43', 'BE35', 'SE33', 'FRI2', 'AT22', 'DEA3', 'ITF1', 'HU12', 'SE21', 'UKG2', 'BE33', 'MK00', 'PL43', 'DEA5', 'ITH3', 'LT02', 'BE32', 'UKI3', 'FRY1', 'ITI1', 'DEG0', 'ITC2', 'ES52', 'UKM5', 'UKE3', 'BE25', 'AT12', 'ITI3', 'UKJ2', 'DED2', 'UKE4', 'AT34', 'DE93', 'PL72', 'ES23', 'PT16', 'ITG1', 'FRY3', 'HR04', 'FRC2', 'FRJ2', 'FRE1', 'PL22', 'DEB3', 'DE11', 'PL84', 'FRB0', 'DE27', 'IS00', 'NL13', 'PL42', 'SE32', 'UKH1', 'UKL2', 'ES64', 'DE60', 'DK04', 'UKK4', 'DE30', 'UKN0', 'NO07', 'DEC0', 'IE05', 'RO32', 'HU33', 'RO31', 'FI20', 'UKD1', 'AT11', 'EL63', 'IE06', 'UKM7', 'ES30', 'UKD7', 'RO42', 'BG42', 'HU22', 'ITF5', 'PL51', 'DE72', 'EL41', 'FRI3', 'NL31', 'DEE0', 'DEA4', 'EL42', 'FRF2', 'FRD1', 'UKI7', 'RS12', 'SE31', 'DEA2', 'HU23', 'SK01', 'ITC1', 'HU21', 'LV00', 'ES41', 'PL21', 'NL21', 'FRL0', 'UKE2', 'UKF3', 'UKH3', 'EL52', 'NO01', 'SI04', 'ES61', 'CH01', 'PT11', 'UKK1', 'CZ03', 'IE04', 'PT15', 'NO05', 'FI19', 'ES12', 'DE91', 'LU00', 'DEA1', 'FRJ1', 'BE23', 'BE21', 'DE13', 'DE21', 'ES62', 'HR03', 'FRK1', 'BE10', 'UKI6', 'EL53', 'BG33', 'DEB2', 'NL33', 'RO41', 'HU31', 'FR10', 'PL92', 'EL51', 'RO21', 'SK02', 'ITH4', 'NL22', 'AL02', 'FRY4', 'RS22', 'AL03', 'BE31', 'ES51', 'PL61', 'DE50', 'UKI4', 'DE40', 'SK03', 'PT18', 'SK04', 'DEF0', 'UKC1', 'AT33', 'DE14', 'RO22', 'ES53', 'ES43', 'BG31', 'CZ01', 'DE71', 'LI00', 'DE80', 'DED5', 'NL11', 'ES24', 'DE94', 'CH04', 'ITH1', 'ES13', 'NL41', 'PL62', 'RO12', 'EE00', 'PT30', 'SE23', 'EL54', 'ITF3', 'EL64', 'BG34', 'FRG0', 'ITF4', 'PL81', 'UKK3', 'FRE2', 'PL41', 'DED4', 'SE22', 'CZ07', 'EL62', 'UKI5', 'FRI1', 'PL52', 'DEB1', 'UKK2', 'ITC4', 'DE26', 'CH07', 'FRF1', 'UKJ1', 'FRC1', 'DK02', 'BG41', 'DE22', 'UKE1', 'UKG1', 'HU11', 'UKM6', 'CH06', 'NO03', 'DE24', 'AT13', 'PL71', 'UKD6', 'NL12', 'UKD3', 'FI1C', 'DE23', 'HU32', 'ITH5', 'ITI4', 'EL61', 'CZ04', 'DE73', 'LT01', 'PT20', 'KO01', 'ES21', 'CH03', 'UKM9', 'ITI2', 'FRK2', 'ES22', 'ES70', 'BE24', 'UKL1', 'CH05', 'ME00', 'BG32', 'EL65', 'UKJ3', 'CY00', 'NL34', 'CH02', 'AL01', 'DK03', 'ITF2', 'UKG3', 'BA00', 'CZ02', 'NO06', 'ITG2', 'RO11', 'DK01', 'BE22', 'FI1B', 'NO02', 'NL42', 'NO04', 'NL23', 'CZ08'}\n"
     ]
    },
    {
     "name": "stderr",
     "output_type": "stream",
     "text": [
      "C:\\Users\\Chris\\Documents\\Master_Semester_1\\IDP\\endemo2\\input.py:106: UserWarning: NUTS region EU27 might not be read correctly. No parent region was read, but the region code is longer than 2 letters\n",
      "  warnings.warn(\"NUTS region \" + region_name + \" might not be read correctly. No parent region \"\n",
      "C:\\Users\\Chris\\Documents\\Master_Semester_1\\IDP\\endemo2\\input.py:106: UserWarning: NUTS region EFTA might not be read correctly. No parent region was read, but the region code is longer than 2 letters\n",
      "  warnings.warn(\"NUTS region \" + region_name + \" might not be read correctly. No parent region \"\n"
     ]
    },
    {
     "name": "stdout",
     "output_type": "stream",
     "text": [
      "Input was successfully read.\n"
     ]
    },
    {
     "name": "stderr",
     "output_type": "stream",
     "text": [
      "C:\\Users\\Chris\\anaconda3\\envs\\endemo2\\lib\\site-packages\\openpyxl\\workbook\\child.py:99: UserWarning: Title is more than 31 characters. Some applications may not be able to read the file\n",
      "  warnings.warn(\"Title is more than 31 characters. Some applications may not be able to read the file\")\n",
      "C:\\Users\\Chris\\anaconda3\\envs\\endemo2\\lib\\site-packages\\openpyxl\\workbook\\child.py:99: UserWarning: Title is more than 31 characters. Some applications may not be able to read the file\n",
      "  warnings.warn(\"Title is more than 31 characters. Some applications may not be able to read the file\")\n"
     ]
    }
   ],
   "source": [
    "from endemo import Endemo\n",
    "\n",
    "model_instance = Endemo()\n",
    "model_instance.read_input()\n",
    "model_instance.write_debug_output()\n",
    "model_instance.write_output()\n",
    "\n",
    "# TODO: frankreich nuts2 überschneidungen lösen\n"
   ],
   "metadata": {
    "collapsed": false,
    "ExecuteTime": {
     "end_time": "2023-06-29T14:51:41.106532400Z",
     "start_time": "2023-06-29T14:51:33.720827700Z"
    }
   }
  },
  {
   "cell_type": "markdown",
   "source": [
    "### Check if settings were read correctly"
   ],
   "metadata": {
    "collapsed": false
   }
  },
  {
   "cell_type": "code",
   "execution_count": 2,
   "outputs": [
    {
     "name": "stdout",
     "output_type": "stream",
     "text": [
      "Forecast year: 2018\n",
      "Active sectors: ['industry', 'households', 'transport', 'commertial, trade, services']\n"
     ]
    }
   ],
   "source": [
    "# general settings\n",
    "gs = model_instance.input_manager.ctrl.general_settings\n",
    "print(\"Forecast year: \" + str(gs.target_year))\n",
    "print(\"Active sectors: \" + str(gs.get_active_sectors()))\n",
    "# print(\"Population Forecast: \" + input_manager.ctrl.general_settings.population_forecast)\n",
    "#print(\"Timeseries Forecast: \" + ...)\n",
    "# nuts ...\n",
    "# world\n",
    "# nuts2 classification\n",
    "# graphical output\n",
    "# calculate final energy demand"
   ],
   "metadata": {
    "collapsed": false,
    "ExecuteTime": {
     "end_time": "2023-06-28T13:28:38.128230500Z",
     "start_time": "2023-06-28T13:28:38.070114600Z"
    }
   }
  },
  {
   "cell_type": "code",
   "execution_count": 3,
   "outputs": [
    {
     "name": "stdout",
     "output_type": "stream",
     "text": [
      "Active Countries: \n",
      "0                    Belgium\n",
      "1                   Bulgaria\n",
      "2                    Czechia\n",
      "3                    Denmark\n",
      "4                    Germany\n",
      "5                    Ireland\n",
      "6                     Greece\n",
      "7                      Spain\n",
      "8                     France\n",
      "9                    Croatia\n",
      "10                     Italy\n",
      "11                    Latvia\n",
      "12                Luxembourg\n",
      "13                   Hungary\n",
      "14               Netherlands\n",
      "15                   Austria\n",
      "16                    Poland\n",
      "17                  Portugal\n",
      "18                   Romania\n",
      "19                  Slovenia\n",
      "20                  Slovakia\n",
      "21                   Finland\n",
      "22                    Sweden\n",
      "23            United Kingdom\n",
      "24                    Norway\n",
      "25               Switzerland\n",
      "26                Montenegro\n",
      "27           North Macedonia\n",
      "28                   Albania\n",
      "29                    Serbia\n",
      "30    Bosnia and Herzegovina\n",
      "31                   Iceland\n",
      "32                 Lithuania\n",
      "33                   Estonia\n",
      "Name: Country, dtype: object\n"
     ]
    }
   ],
   "source": [
    "print(\"Active Countries: \\n\" + str(gs.active_countries))"
   ],
   "metadata": {
    "collapsed": false,
    "ExecuteTime": {
     "end_time": "2023-06-28T13:28:38.139095Z",
     "start_time": "2023-06-28T13:28:38.090357300Z"
    }
   }
  },
  {
   "cell_type": "code",
   "execution_count": 4,
   "outputs": [
    {
     "name": "stdout",
     "output_type": "stream",
     "text": [
      "Forecast method: ForecastMethod.LINEAR\n",
      "Calculated per capita: True\n",
      "Calc Specific Energy Requirements: True\n",
      "H2 subst of heat: False\n",
      "Skip years: [2009]\n",
      "Last available year (excluding): 2019\n"
     ]
    }
   ],
   "source": [
    "# industry settings\n",
    "inds = model_instance.input_manager.ctrl.industry_settings\n",
    "print(\"Forecast method: \" + str(inds.forecast_method))\n",
    "# print(\"Timetrendmodel for u-shape\")\n",
    "print(\"Calculated per capita: \" + str(inds.production_quantity_calc_per_capita))\n",
    "print(\"Calc Specific Energy Requirements: \" + str(inds.trend_calc_for_spec))\n",
    "print(\"H2 subst of heat: \" + str(inds.h2_subst_of_heat))\n",
    "# print(nuts2...)\n",
    "print(\"Skip years: \" + str(inds.skip_years))\n",
    "print(\"Last available year (excluding): \" + str(inds.last_available_year))"
   ],
   "metadata": {
    "collapsed": false,
    "ExecuteTime": {
     "end_time": "2023-06-28T13:28:38.139095Z",
     "start_time": "2023-06-28T13:28:38.109348700Z"
    }
   }
  },
  {
   "cell_type": "markdown",
   "source": [
    "## Generate output"
   ],
   "metadata": {
    "collapsed": false
   }
  },
  {
   "cell_type": "markdown",
   "source": [
    "### Gdp Prognosis Output"
   ],
   "metadata": {
    "collapsed": false
   }
  },
  {
   "cell_type": "raw",
   "source": [
    "gdp_out_file_path = input_manager.output_path / (\"endemo2_gdp_projections_\" + str(target_year) + \".xlsx\")\n",
    "\n",
    "dict_gdp_out = {\"Country\": [], str(target_year): []}\n",
    "\n",
    "for country in countries:\n",
    "    dict_gdp_out[\"Country\"].append(country.get_name())\n",
    "    dict_gdp_out[str(target_year)].append(country.get_gdp().get_prog(target_year))\n",
    "\n",
    "df_gdp_out = pd.DataFrame(dict_gdp_out)\n",
    "df_gdp_out.to_excel(gdp_out_file_path, index=False, sheet_name=\"Prognosis\")\n",
    "\n",
    "print(\"GDP prognosis for year \" + str(target_year) + \" was successfully written to \" + str(gdp_out_file_path))"
   ],
   "metadata": {
    "collapsed": false
   }
  },
  {
   "cell_type": "markdown",
   "source": [
    "### Amount Prognosis Output"
   ],
   "metadata": {
    "collapsed": false
   }
  },
  {
   "cell_type": "raw",
   "source": [
    "from pandas import ExcelWriter\n",
    "\n",
    "amount_out_file_path = input_manager.output_path / (\"endemo2_amount_projections_\" + str(target_year) + \".xlsx\")\n",
    "\n",
    "with pd.ExcelWriter(amount_out_file_path) as excel_writer:\n",
    "    for product_name, product_obj in input_manager.industry_input.active_products.items():\n",
    "        sheet_name = product_name\n",
    "        dict_amount_out = {\"Country\": [], \"Amount [kt]\": []}\n",
    "        for country in countries:\n",
    "            dict_amount_out[\"Country\"].append(country.get_name())\n",
    "            if input_manager.ctrl.industry_settings.production_quantity_calc_per_capita:\n",
    "                dict_amount_out[\"Amount [kt]\"].append(country.get_sector(sector.SectorIdentifier.INDUSTRY).prog_product_amount(product_name, target_year) * country.get_population().get_prog(target_year))\n",
    "            else:\n",
    "                dict_amount_out[\"Amount [kt]\"].append(country.get_sector(sector.SectorIdentifier.INDUSTRY).prog_product_amount(product_name, target_year))\n",
    "        df_amount_out = pd.DataFrame(dict_amount_out)\n",
    "        df_amount_out.to_excel(excel_writer, index=False, sheet_name=sheet_name, float_format=\"%.10f\")\n",
    "\n",
    "print(\"Product prognosis for year \" + str(target_year) + \" was successfully written to \" + str(amount_out_file_path))\n"
   ],
   "metadata": {
    "collapsed": false
   }
  },
  {
   "cell_type": "markdown",
   "source": [
    "### Specific Consumption Prognosis Output"
   ],
   "metadata": {
    "collapsed": false
   }
  },
  {
   "cell_type": "raw",
   "source": [
    "import products as prod\n",
    "from pandas import ExcelWriter\n",
    "\n",
    "sc_out_file_path = input_manager.output_path / (\"endemo2_specific_consumption_projections_\" + str(target_year) + \".xlsx\")\n",
    "\n",
    "with pd.ExcelWriter(sc_out_file_path) as excel_writer:\n",
    "    for product_name, product_obj in input_manager.industry_input.active_products.items():\n",
    "        sheet_name = product_name\n",
    "        dict_sc_out = {\"Country\": [], \"Electricity [GJ/t]\": [], \"Heat [GJ/t]\": [], \"Hydrogen [GJ/t]\": [], \"max. subst. of heat with H2 [%]\": []}\n",
    "        for country in countries:\n",
    "            dict_sc_out[\"Country\"].append(country.get_name())\n",
    "            sc: prod.SC = country.get_sector(sector.SectorIdentifier.INDUSTRY).get_product(product_name).get_specific_consumption().get(target_year)\n",
    "            dict_sc_out[\"Electricity [GJ/t]\"].append(sc.electricity)\n",
    "            dict_sc_out[\"Heat [GJ/t]\"].append(sc.heat)\n",
    "            dict_sc_out[\"Hydrogen [GJ/t]\"].append(sc.hydrogen)\n",
    "            dict_sc_out[\"max. subst. of heat with H2 [%]\"].append(sc.max_subst_h2)\n",
    "        df_sc_out = pd.DataFrame(dict_sc_out)\n",
    "        df_sc_out.to_excel(excel_writer, index=False, sheet_name=sheet_name, float_format=\"%.5f\")\n",
    "\n",
    "print(\"Product Specific Consumption prognosis for year \" + str(target_year) + \" was successfully written to \" + str(sc_out_file_path))\n"
   ],
   "metadata": {
    "collapsed": false
   }
  },
  {
   "cell_type": "markdown",
   "source": [
    "### Demand Prognosis Output"
   ],
   "metadata": {
    "collapsed": false
   }
  },
  {
   "cell_type": "raw",
   "source": [
    "demand_out_file_path = input_manager.output_path / (\"endemo2_demand_projections_\" + str(target_year) + \".xlsx\")\n",
    "\n",
    "with pd.ExcelWriter(demand_out_file_path) as excel_writer:\n",
    "    for product_name, product_obj in input_manager.industry_input.active_products.items():\n",
    "        sheet_name = product_name\n",
    "        dict_demand_out = {\"Country\": [], \"Electricity [TWh]\": [], \"Heat [TWh]\": [], \"Hydrogen [TWh]\": [], \"Heat Q1 [TWh]\": [], \"Heat Q2 [TWh]\": [], \"Heat Q3 [TWh]\": [], \"Heat Q4 [TWh]\": [], \"Perc. Used [%]\": []}\n",
    "        for country in countries:\n",
    "            dict_demand_out[\"Country\"].append(country.get_name())\n",
    "            product = country.get_sector(sector.SectorIdentifier.INDUSTRY).get_product(product_name)\n",
    "            demand: output.Demand = product.calculate_demand(target_year)\n",
    "            dict_demand_out[\"Electricity [TWh]\"].append(demand.electricity)\n",
    "            dict_demand_out[\"Heat [TWh]\"].append(demand.heat.q1 + demand.heat.q2 + demand.heat.q3 + demand.heat.q4)\n",
    "            dict_demand_out[\"Hydrogen [TWh]\"].append(demand.hydrogen)\n",
    "            dict_demand_out[\"Heat Q1 [TWh]\"].append(demand.heat.q1)\n",
    "            dict_demand_out[\"Heat Q2 [TWh]\"].append(demand.heat.q2)\n",
    "            dict_demand_out[\"Heat Q3 [TWh]\"].append(demand.heat.q3)\n",
    "            dict_demand_out[\"Heat Q4 [TWh]\"].append(demand.heat.q4)\n",
    "            dict_demand_out[\"Perc. Used [%]\"].append(product._perc_used * 100)\n",
    "        df_demand_out = pd.DataFrame(dict_demand_out)\n",
    "        df_demand_out.to_excel(excel_writer, index=False, sheet_name=sheet_name, float_format=\"%.5f\")\n",
    "\n",
    "print(\"Product Demand prognosis for year \" + str(target_year) + \" was successfully written to \" + str(demand_out_file_path))"
   ],
   "metadata": {
    "collapsed": false
   }
  },
  {
   "cell_type": "markdown",
   "source": [
    "## Test Utility functions\n",
    "### Test Regression"
   ],
   "metadata": {
    "collapsed": false
   }
  },
  {
   "cell_type": "code",
   "execution_count": 5,
   "outputs": [
    {
     "data": {
      "text/plain": "<Figure size 640x480 with 1 Axes>",
      "image/png": "[encoded data removed]"
     },
     "metadata": {},
     "output_type": "display_data"
    },
    {
     "data": {
      "text/plain": "<Figure size 640x480 with 1 Axes>",
      "image/png": "[encoded data removed]"
     },
     "metadata": {},
     "output_type": "display_data"
    },
    {
     "data": {
      "text/plain": "(-30.25286763906007, 7.173061390898329, -0.10698871880667692)"
     },
     "execution_count": 5,
     "metadata": {},
     "output_type": "execute_result"
    }
   ],
   "source": [
    "import utility as uty\n",
    "\n",
    "# Test Linear Regression\n",
    "\n",
    "x = [2003, 2004, 2005, 2006, 2007, 2008, 2009, 2010, 2011]\n",
    "y = [1258.809906,1259.17278,1259.17278,1111.120188,1063.946568,1124.9094,1100.233968,1100.233968,1095.153732]\n",
    "data = list(zip(x, y))\n",
    "\n",
    "uty.linear_regression(data, visualize=True)\n",
    "\n",
    "# Test Quadratic Regression\n",
    "\n",
    "x = [6, 9, 12, 12, 15, 21, 24, 24, 27, 30, 36, 39, 45, 48, 57, 60]\n",
    "y = [12, 18, 30, 42, 48, 78, 90, 96, 96, 90, 84, 78, 66, 54, 36, 24]\n",
    "data = list(zip(x, y))\n",
    "\n",
    "uty.quadratic_regression(data, visualize=True)\n"
   ],
   "metadata": {
    "collapsed": false,
    "ExecuteTime": {
     "end_time": "2023-06-28T13:28:38.418105900Z",
     "start_time": "2023-06-28T13:28:38.130011700Z"
    }
   }
  },
  {
   "cell_type": "markdown",
   "source": [
    "### Test filter out NaN and Inf"
   ],
   "metadata": {
    "collapsed": false
   }
  },
  {
   "cell_type": "code",
   "execution_count": 6,
   "outputs": [
    {
     "data": {
      "text/plain": "[(6.0, 12.0),\n (12.0, 42.0),\n (15.0, 48.0),\n (21.0, 78.0),\n (24.0, 90.0),\n (24.0, 96.0),\n (27.0, 96.0),\n (30.0, 90.0),\n (36.0, 84.0),\n (39.0, 78.0),\n (45.0, 66.0),\n (48.0, 54.0),\n (57.0, 36.0),\n (60.0, 24.0)]"
     },
     "execution_count": 6,
     "metadata": {},
     "output_type": "execute_result"
    }
   ],
   "source": [
    "import numpy as np\n",
    "import math\n",
    "import utility as uty\n",
    "\n",
    "x = [6, 9, 12, 12, 15, 21, 24, 24, 27, 30, 36, 39, 45, 48, 57, 60]\n",
    "y = [12, np.NaN, np.inf, 42, 48, 78, 90, 96, 96, 90, 84, 78, 66, 54, 36, 24]\n",
    "data = list(zip(x, y))\n",
    "\n",
    "uty.filter_out_nan_and_inf(data)"
   ],
   "metadata": {
    "collapsed": false,
    "ExecuteTime": {
     "end_time": "2023-06-28T13:28:38.422168200Z",
     "start_time": "2023-06-28T13:28:38.410112200Z"
    }
   }
  },
  {
   "cell_type": "markdown",
   "source": [
    "### Combining Data on the x axis\n",
    "\n",
    "Attention! If the x axis is ascending for both data arrays, use ascending_x=True for better performance!"
   ],
   "metadata": {
    "collapsed": false
   }
  },
  {
   "cell_type": "code",
   "execution_count": 7,
   "outputs": [
    {
     "name": "stdout",
     "output_type": "stream",
     "text": [
      "[(200, 2000), (300, 3000), (500, 5000)]\n",
      "[(200, 2000), (300, 3000), (500, 5000)]\n"
     ]
    },
    {
     "name": "stderr",
     "output_type": "stream",
     "text": [
      "C:\\Users\\Chris\\Documents\\Master_Semester_1\\IDP\\endemo2\\utility.py:171: UserWarning: Are you sure, that your data on x axis is not ascending?\n",
      "  warnings.warn(\"Are you sure, that your data on x axis is not ascending?\")\n"
     ]
    }
   ],
   "source": [
    "import utility as uty\n",
    "\n",
    "a = [(1, 100), (2, 200), (3, 300), (4, 400), (5, 500)]\n",
    "b = [(2, 2000), (3, 3000), (5, 5000)]\n",
    "\n",
    "print(uty.combine_data_on_x(a, b, ascending_x=True))\n",
    "\n",
    "a = [(1, 100), (2, 200), (3, 300), (4, 400), (5, 500)]\n",
    "b = [(3, 3000),(2, 2000),  (5, 5000)]\n",
    "\n",
    "print(uty.combine_data_on_x(a, b))\n"
   ],
   "metadata": {
    "collapsed": false,
    "ExecuteTime": {
     "end_time": "2023-06-28T13:28:38.528344700Z",
     "start_time": "2023-06-28T13:28:38.422168200Z"
    }
   }
  },
  {
   "cell_type": "markdown",
   "source": [
    "### Zip on X explained"
   ],
   "metadata": {
    "collapsed": false
   }
  },
  {
   "cell_type": "code",
   "execution_count": 8,
   "outputs": [
    {
     "name": "stdout",
     "output_type": "stream",
     "text": [
      "[((2, 200), (2, 2000)), ((3, 300), (3, 3000)), ((5, 500), (5, 5000))]\n"
     ]
    }
   ],
   "source": [
    "import utility as uty\n",
    "\n",
    "a = [(1, 100), (2, 200), (3, 300), (4, 400), (5, 500)]\n",
    "b = [(2, 2000), (3, 3000), (5, 5000)]\n",
    "\n",
    "print(list(uty.zip_on_x(a, b)))"
   ],
   "metadata": {
    "collapsed": false,
    "ExecuteTime": {
     "end_time": "2023-06-28T13:28:38.546906Z",
     "start_time": "2023-06-28T13:28:38.456463Z"
    }
   }
  },
  {
   "cell_type": "code",
   "execution_count": 9,
   "outputs": [
    {
     "name": "stdout",
     "output_type": "stream",
     "text": [
      "zipped amount & population: [((2001, 12), (2001, 11000)), ((2003, 11), (2003, 13000)), ((2006, 13), (2006, 15000))]\n",
      "Transformed amount to per capita: [(2001, 0.001090909090909091), (2003, 0.0008461538461538462), (2006, 0.0008666666666666666)]\n"
     ]
    }
   ],
   "source": [
    "import utility as uty\n",
    "\n",
    "amount = [(1998, 10), (2001, 12), (2003, 11), (2006, 13)]\n",
    "population = [(2000, 10000), (2001, 11000), (2002, 12000), (2003, 13000), (2004, 14000), (2005, 14000), (2006, 15000)]\n",
    "gdp = [(2000, 20), (2001, 30), (2002, 20), (2003, 30), (2004, 40), (2005, 50), (2006, 60)]\n",
    "\n",
    "zip_amount_pop = list(uty.zip_on_x(amount, population))\n",
    "\n",
    "print(\"zipped amount & population: \" + str(zip_amount_pop))\n",
    "print(\"Transformed amount to per capita: \" + str(list(map(lambda arg: (arg[0][0], arg[0][1] / arg[1][1]), zip_amount_pop))))"
   ],
   "metadata": {
    "collapsed": false,
    "ExecuteTime": {
     "end_time": "2023-06-28T13:28:38.548414900Z",
     "start_time": "2023-06-28T13:28:38.470065500Z"
    }
   }
  },
  {
   "cell_type": "code",
   "execution_count": 9,
   "outputs": [],
   "source": [],
   "metadata": {
    "collapsed": false,
    "ExecuteTime": {
     "end_time": "2023-06-28T13:28:38.548927900Z",
     "start_time": "2023-06-28T13:28:38.489028Z"
    }
   }
  }
 ],
 "metadata": {
  "kernelspec": {
   "display_name": "Python 3 (ipykernel)",
   "language": "python",
   "name": "python3"
  },
  "language_info": {
   "codemirror_mode": {
    "name": "ipython",
    "version": 3
   },
   "file_extension": ".py",
   "mimetype": "text/x-python",
   "name": "python",
   "nbconvert_exporter": "python",
   "pygments_lexer": "ipython3",
   "version": "3.10.11"
  }
 },
 "nbformat": 4,
 "nbformat_minor": 1
}
