{
 "cells": [
  {
   "cell_type": "markdown",
   "metadata": {},
   "source": [
    "# Endemo 2 - Useful Energy Demand Model Rework"
   ]
  },
  {
   "cell_type": "markdown",
   "source": [
    "### Create Input Manager"
   ],
   "metadata": {
    "collapsed": false
   }
  },
  {
   "cell_type": "code",
   "execution_count": null,
   "outputs": [],
   "source": [
    "from input import Input\n",
    "\n",
    "input_manager = Input()"
   ],
   "metadata": {
    "collapsed": false,
    "is_executing": true
   }
  },
  {
   "cell_type": "markdown",
   "source": [
    "### Fill countries with information"
   ],
   "metadata": {
    "collapsed": false
   }
  },
  {
   "cell_type": "code",
   "execution_count": null,
   "outputs": [],
   "source": [
    "from country import Country\n",
    "\n",
    "countries = []\n",
    "\n",
    "for country_name in input_manager.ctrl.general_settings.active_countries:\n",
    "    countries.append(Country(country_name, input_manager))\n"
   ],
   "metadata": {
    "collapsed": false,
    "is_executing": true
   }
  },
  {
   "cell_type": "code",
   "execution_count": null,
   "outputs": [],
   "source": [
    "\n",
    "import os\n",
    "from pathlib import Path\n",
    "import pandas as pd\n",
    "import utility as uty\n",
    "\n",
    "super_path = Path(os.path.abspath(''))\n",
    "input_path = super_path / 'input'\n",
    "general_path = input_path / 'general'\n",
    "\n",
    "path = general_path\n",
    "\n",
    "gdp_his_ex = pd.read_excel(path / \"GDP_per_capita_historical.xlsx\")\n",
    "gdp_prog_ex = pd.read_excel(path / \"GDP_per_capita_change_rate_projection.xlsx\")\n",
    "\n"
   ],
   "metadata": {
    "collapsed": false,
    "is_executing": true
   }
  },
  {
   "cell_type": "markdown",
   "source": [
    "## Test Utility functions\n",
    "### Test Regression"
   ],
   "metadata": {
    "collapsed": false
   }
  },
  {
   "cell_type": "code",
   "execution_count": null,
   "outputs": [],
   "source": [
    "import utility as uty\n",
    "\n",
    "# Test Linear Regression\n",
    "\n",
    "x = [2003, 2004, 2005, 2006, 2007, 2008, 2009, 2010, 2011]\n",
    "y = [1258.809906,1259.17278,1259.17278,1111.120188,1063.946568,1124.9094,1100.233968,1100.233968,1095.153732]\n",
    "data = list(zip(x, y))\n",
    "\n",
    "uty.linear_regression(data, visualize=True)\n",
    "\n",
    "# Test Quadratic Regression\n",
    "\n",
    "x = [6, 9, 12, 12, 15, 21, 24, 24, 27, 30, 36, 39, 45, 48, 57, 60]\n",
    "y = [12, 18, 30, 42, 48, 78, 90, 96, 96, 90, 84, 78, 66, 54, 36, 24]\n",
    "data = list(zip(x, y))\n",
    "\n",
    "uty.quadratic_regression(data, visualize=True)\n"
   ],
   "metadata": {
    "collapsed": false,
    "is_executing": true
   }
  },
  {
   "cell_type": "markdown",
   "source": [
    "### Test filter out NaN and Inf"
   ],
   "metadata": {
    "collapsed": false
   }
  },
  {
   "cell_type": "code",
   "execution_count": null,
   "outputs": [],
   "source": [
    "import numpy as np\n",
    "import math\n",
    "import utility as uty\n",
    "\n",
    "x = [6, 9, 12, 12, 15, 21, 24, 24, 27, 30, 36, 39, 45, 48, 57, 60]\n",
    "y = [12, np.NaN, np.inf, 42, 48, 78, 90, 96, 96, 90, 84, 78, 66, 54, 36, 24]\n",
    "data = list(zip(x, y))\n",
    "\n",
    "uty.filter_out_NaN_and_Inf(data)"
   ],
   "metadata": {
    "collapsed": false,
    "is_executing": true
   }
  },
  {
   "cell_type": "markdown",
   "source": [
    "### Combining Data on the x axis\n",
    "\n",
    "Attention! If the x axis is ascending for both data arrays, use ascending_x=True for better performance!"
   ],
   "metadata": {
    "collapsed": false
   }
  },
  {
   "cell_type": "code",
   "execution_count": null,
   "outputs": [],
   "source": [
    "import utility as uty\n",
    "\n",
    "a = [(1, 100), (2, 200), (3, 300), (4, 400), (5, 500)]\n",
    "b = [(2, 2000), (3, 3000), (5, 5000)]\n",
    "\n",
    "print(uty.combine_data_on_x(a, b, ascending_x=True))\n",
    "\n",
    "a = [(1, 100), (2, 200), (3, 300), (4, 400), (5, 500)]\n",
    "b = [(3, 3000),(2, 2000),  (5, 5000)]\n",
    "\n",
    "print(uty.combine_data_on_x(a, b))\n"
   ],
   "metadata": {
    "collapsed": false,
    "is_executing": true
   }
  },
  {
   "cell_type": "markdown",
   "source": [
    "### Zip on X explained"
   ],
   "metadata": {
    "collapsed": false
   }
  },
  {
   "cell_type": "code",
   "execution_count": null,
   "outputs": [],
   "source": [
    "import utility as uty\n",
    "\n",
    "a = [(1, 100), (2, 200), (3, 300), (4, 400), (5, 500)]\n",
    "b = [(2, 2000), (3, 3000), (5, 5000)]\n",
    "\n",
    "print(list(uty.zip_on_x(a, b)))"
   ],
   "metadata": {
    "collapsed": false,
    "is_executing": true
   }
  },
  {
   "cell_type": "code",
   "execution_count": null,
   "outputs": [],
   "source": [
    "import utility as uty\n",
    "\n",
    "amount = [(1998, 10), (2001, 12), (2003, 11), (2006, 13)]\n",
    "population = [(2000, 10000), (2001, 11000), (2002, 12000), (2003, 13000), (2004, 14000), (2005, 14000), (2006, 15000)]\n",
    "gdp = [(2000, 20), (2001, 30), (2002, 20), (2003, 30), (2004, 40), (2005, 50), (2006, 60)]\n",
    "\n",
    "zip_amount_pop = list(uty.zip_on_x(amount, population))\n",
    "\n",
    "print(\"zipped amount & population: \" + str(zip_amount_pop))\n",
    "print(\"Transformed amount to per capita: \" + str(list(map(lambda arg: (arg[0][0], arg[0][1] / arg[1][1]), zip_amount_pop))))"
   ],
   "metadata": {
    "collapsed": false,
    "is_executing": true
   }
  },
  {
   "cell_type": "code",
   "execution_count": null,
   "outputs": [],
   "source": [],
   "metadata": {
    "collapsed": false,
    "is_executing": true
   }
  }
 ],
 "metadata": {
  "kernelspec": {
   "display_name": "Python 3 (ipykernel)",
   "language": "python",
   "name": "python3"
  },
  "language_info": {
   "codemirror_mode": {
    "name": "ipython",
    "version": 3
   },
   "file_extension": ".py",
   "mimetype": "text/x-python",
   "name": "python",
   "nbconvert_exporter": "python",
   "pygments_lexer": "ipython3",
   "version": "3.10.11"
  }
 },
 "nbformat": 4,
 "nbformat_minor": 1
}
