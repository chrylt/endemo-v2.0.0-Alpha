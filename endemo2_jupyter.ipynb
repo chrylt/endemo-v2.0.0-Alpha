{
 "cells": [
  {
   "cell_type": "markdown",
   "metadata": {},
   "source": [
    "# Endemo 2 - Useful Energy Demand Model Rework"
   ]
  },
  {
   "cell_type": "markdown",
   "source": [
    "## Create Input Manager"
   ],
   "metadata": {
    "collapsed": false
   }
  },
  {
   "cell_type": "code",
   "execution_count": 1,
   "outputs": [
    {
     "name": "stdout",
     "output_type": "stream",
     "text": [
      "Input was successfully read.\n"
     ]
    },
    {
     "name": "stderr",
     "output_type": "stream",
     "text": [
      "C:\\Users\\Chris\\anaconda3\\envs\\endemo2\\lib\\site-packages\\openpyxl\\workbook\\child.py:99: UserWarning: Title is more than 31 characters. Some applications may not be able to read the file\n",
      "  warnings.warn(\"Title is more than 31 characters. Some applications may not be able to read the file\")\n",
      "C:\\Users\\Chris\\anaconda3\\envs\\endemo2\\lib\\site-packages\\openpyxl\\workbook\\child.py:99: UserWarning: Title is more than 31 characters. Some applications may not be able to read the file\n",
      "  warnings.warn(\"Title is more than 31 characters. Some applications may not be able to read the file\")\n"
     ]
    }
   ],
   "source": [
    "from endemo2 import endemo\n",
    "\n",
    "model_instance = endemo.Endemo()\n",
    "model_instance.read_input()\n",
    "model_instance.write_debug_output()\n",
    "model_instance.write_output()\n"
   ],
   "metadata": {
    "collapsed": false,
    "ExecuteTime": {
     "end_time": "2023-07-11T11:43:29.516926300Z",
     "start_time": "2023-07-11T11:43:16.467664300Z"
    }
   }
  },
  {
   "cell_type": "markdown",
   "source": [
    "### Check if settings were read correctly"
   ],
   "metadata": {
    "collapsed": false
   }
  },
  {
   "cell_type": "code",
   "execution_count": 2,
   "outputs": [
    {
     "name": "stdout",
     "output_type": "stream",
     "text": [
      "Forecast year: 2018\n",
      "Active sectors: ['industry', 'households', 'transport', 'commertial, trade, services']\n"
     ]
    }
   ],
   "source": [
    "# general settings\n",
    "gs = model_instance.input_manager.ctrl.general_settings\n",
    "print(\"Forecast year: \" + str(gs.target_year))\n",
    "print(\"Active sectors: \" + str(gs.get_active_sectors()))\n",
    "# print(\"Population Forecast: \" + input_manager.ctrl.general_settings.population_forecast)\n",
    "#print(\"Timeseries Forecast: \" + ...)\n",
    "# nuts ...\n",
    "# world\n",
    "# nuts2 classification\n",
    "# graphical output\n",
    "# calculate final energy demand"
   ],
   "metadata": {
    "collapsed": false,
    "ExecuteTime": {
     "end_time": "2023-07-11T11:43:29.532927100Z",
     "start_time": "2023-07-11T11:43:29.524926800Z"
    }
   }
  },
  {
   "cell_type": "code",
   "execution_count": 3,
   "outputs": [
    {
     "name": "stdout",
     "output_type": "stream",
     "text": [
      "Active Countries: \n",
      "0                    Belgium\n",
      "1                   Bulgaria\n",
      "2                    Czechia\n",
      "3                    Denmark\n",
      "4                    Germany\n",
      "5                    Ireland\n",
      "6                     Greece\n",
      "7                      Spain\n",
      "8                     France\n",
      "9                    Croatia\n",
      "10                     Italy\n",
      "11                    Latvia\n",
      "12                Luxembourg\n",
      "13                   Hungary\n",
      "14               Netherlands\n",
      "15                   Austria\n",
      "16                    Poland\n",
      "17                  Portugal\n",
      "18                   Romania\n",
      "19                  Slovenia\n",
      "20                  Slovakia\n",
      "21                   Finland\n",
      "22                    Sweden\n",
      "23            United Kingdom\n",
      "24                    Norway\n",
      "25               Switzerland\n",
      "26                Montenegro\n",
      "27           North Macedonia\n",
      "28                   Albania\n",
      "29                    Serbia\n",
      "30    Bosnia and Herzegovina\n",
      "31                   Iceland\n",
      "32                 Lithuania\n",
      "33                   Estonia\n",
      "Name: Country, dtype: object\n"
     ]
    }
   ],
   "source": [
    "print(\"Active Countries: \\n\" + str(gs.active_countries))"
   ],
   "metadata": {
    "collapsed": false,
    "ExecuteTime": {
     "end_time": "2023-07-11T11:43:29.612935900Z",
     "start_time": "2023-07-11T11:43:29.540928400Z"
    }
   }
  },
  {
   "cell_type": "code",
   "execution_count": 4,
   "outputs": [
    {
     "name": "stdout",
     "output_type": "stream",
     "text": [
      "Forecast method: ForecastMethod.LINEAR\n",
      "Calculated per capita: True\n",
      "Calc Specific Energy Requirements: True\n",
      "H2 subst of heat: False\n",
      "Skip years: [2009]\n",
      "Last available year (excluding): 2019\n"
     ]
    }
   ],
   "source": [
    "# industry settings\n",
    "inds = model_instance.input_manager.ctrl.industry_settings\n",
    "print(\"Forecast method: \" + str(inds.forecast_method))\n",
    "# print(\"Timetrendmodel for u-shape\")\n",
    "print(\"Calculated per capita: \" + str(inds.production_quantity_calc_per_capita))\n",
    "print(\"Calc Specific Energy Requirements: \" + str(inds.trend_calc_for_spec))\n",
    "print(\"H2 subst of heat: \" + str(inds.h2_subst_of_heat))\n",
    "# print(nuts2...)\n",
    "print(\"Skip years: \" + str(inds.skip_years))\n",
    "print(\"Last available year (excluding): \" + str(inds.last_available_year))"
   ],
   "metadata": {
    "collapsed": false,
    "ExecuteTime": {
     "end_time": "2023-07-11T11:43:29.636943700Z",
     "start_time": "2023-07-11T11:43:29.556930200Z"
    }
   }
  },
  {
   "cell_type": "markdown",
   "source": [
    "## Generate output"
   ],
   "metadata": {
    "collapsed": false
   }
  },
  {
   "cell_type": "markdown",
   "source": [
    "### Demand Prognosis Output"
   ],
   "metadata": {
    "collapsed": false
   }
  },
  {
   "cell_type": "raw",
   "source": [
    "demand_out_file_path = input_manager.output_path / (\"endemo2_demand_projections_\" + str(target_year) + \".xlsx\")\n",
    "\n",
    "with pd.ExcelWriter(demand_out_file_path) as excel_writer:\n",
    "    for product_name, product_obj in input_manager.industry_input.active_products.items():\n",
    "        sheet_name = product_name\n",
    "        dict_demand_out = {\"Country\": [], \"Electricity [TWh]\": [], \"Heat [TWh]\": [], \"Hydrogen [TWh]\": [], \"Heat Q1 [TWh]\": [], \"Heat Q2 [TWh]\": [], \"Heat Q3 [TWh]\": [], \"Heat Q4 [TWh]\": [], \"Perc. Used [%]\": []}\n",
    "        for country in countries:\n",
    "            dict_demand_out[\"Country\"].append(country.get_name())\n",
    "            product = country.get_sector(sector.SectorIdentifier.INDUSTRY).get_product(product_name)\n",
    "            demand: output.Demand = product.calculate_demand(target_year)\n",
    "            dict_demand_out[\"Electricity [TWh]\"].append(demand.electricity)\n",
    "            dict_demand_out[\"Heat [TWh]\"].append(demand.heat.q1 + demand.heat.q2 + demand.heat.q3 + demand.heat.q4)\n",
    "            dict_demand_out[\"Hydrogen [TWh]\"].append(demand.hydrogen)\n",
    "            dict_demand_out[\"Heat Q1 [TWh]\"].append(demand.heat.q1)\n",
    "            dict_demand_out[\"Heat Q2 [TWh]\"].append(demand.heat.q2)\n",
    "            dict_demand_out[\"Heat Q3 [TWh]\"].append(demand.heat.q3)\n",
    "            dict_demand_out[\"Heat Q4 [TWh]\"].append(demand.heat.q4)\n",
    "            dict_demand_out[\"Perc. Used [%]\"].append(product._perc_used * 100)\n",
    "        df_demand_out = pd.DataFrame(dict_demand_out)\n",
    "        df_demand_out.to_excel(excel_writer, index=False, sheet_name=sheet_name, float_format=\"%.5f\")\n",
    "\n",
    "print(\"Product Demand prognosis for year \" + str(target_year) + \" was successfully written to \" + str(demand_out_file_path))"
   ],
   "metadata": {
    "collapsed": false
   }
  },
  {
   "cell_type": "markdown",
   "source": [
    "## Test Utility functions\n",
    "### Test Regression"
   ],
   "metadata": {
    "collapsed": false
   }
  },
  {
   "cell_type": "code",
   "execution_count": 5,
   "outputs": [
    {
     "ename": "ModuleNotFoundError",
     "evalue": "No module named 'utility'",
     "output_type": "error",
     "traceback": [
      "\u001B[1;31m---------------------------------------------------------------------------\u001B[0m",
      "\u001B[1;31mModuleNotFoundError\u001B[0m                       Traceback (most recent call last)",
      "Cell \u001B[1;32mIn[5], line 1\u001B[0m\n\u001B[1;32m----> 1\u001B[0m \u001B[38;5;28;01mimport\u001B[39;00m \u001B[38;5;21;01mutility\u001B[39;00m \u001B[38;5;28;01mas\u001B[39;00m \u001B[38;5;21;01muty\u001B[39;00m\n\u001B[0;32m      3\u001B[0m \u001B[38;5;66;03m# Test Linear Regression\u001B[39;00m\n\u001B[0;32m      5\u001B[0m x \u001B[38;5;241m=\u001B[39m [\u001B[38;5;241m2003\u001B[39m, \u001B[38;5;241m2004\u001B[39m, \u001B[38;5;241m2005\u001B[39m, \u001B[38;5;241m2006\u001B[39m, \u001B[38;5;241m2007\u001B[39m, \u001B[38;5;241m2008\u001B[39m, \u001B[38;5;241m2009\u001B[39m, \u001B[38;5;241m2010\u001B[39m, \u001B[38;5;241m2011\u001B[39m]\n",
      "\u001B[1;31mModuleNotFoundError\u001B[0m: No module named 'utility'"
     ]
    }
   ],
   "source": [
    "import utility as uty\n",
    "\n",
    "# Test Linear Regression\n",
    "\n",
    "x = [2003, 2004, 2005, 2006, 2007, 2008, 2009, 2010, 2011]\n",
    "y = [1258.809906,1259.17278,1259.17278,1111.120188,1063.946568,1124.9094,1100.233968,1100.233968,1095.153732]\n",
    "data = list(zip(x, y))\n",
    "\n",
    "uty.linear_regression(data, visualize=True)\n",
    "\n",
    "# Test Quadratic Regression\n",
    "\n",
    "x = [6, 9, 12, 12, 15, 21, 24, 24, 27, 30, 36, 39, 45, 48, 57, 60]\n",
    "y = [12, 18, 30, 42, 48, 78, 90, 96, 96, 90, 84, 78, 66, 54, 36, 24]\n",
    "data = list(zip(x, y))\n",
    "\n",
    "uty.quadratic_regression(data, visualize=True)\n"
   ],
   "metadata": {
    "collapsed": false,
    "ExecuteTime": {
     "end_time": "2023-07-11T11:43:31.239391Z",
     "start_time": "2023-07-11T11:43:29.564932700Z"
    }
   }
  },
  {
   "cell_type": "markdown",
   "source": [
    "### Test filter out NaN and Inf"
   ],
   "metadata": {
    "collapsed": false
   }
  },
  {
   "cell_type": "code",
   "execution_count": null,
   "outputs": [],
   "source": [
    "import numpy as np\n",
    "import math\n",
    "import utility as uty\n",
    "\n",
    "x = [6, 9, 12, 12, 15, 21, 24, 24, 27, 30, 36, 39, 45, 48, 57, 60]\n",
    "y = [12, np.NaN, np.inf, 42, 48, 78, 90, 96, 96, 90, 84, 78, 66, 54, 36, 24]\n",
    "data = list(zip(x, y))\n",
    "\n",
    "uty.filter_out_nan_and_inf(data)"
   ],
   "metadata": {
    "collapsed": false
   }
  },
  {
   "cell_type": "markdown",
   "source": [
    "### Combining Data on the x axis\n",
    "\n",
    "Attention! If the x axis is ascending for both data arrays, use ascending_x=True for better performance!"
   ],
   "metadata": {
    "collapsed": false
   }
  },
  {
   "cell_type": "code",
   "execution_count": null,
   "outputs": [],
   "source": [
    "import utility as uty\n",
    "\n",
    "a = [(1, 100), (2, 200), (3, 300), (4, 400), (5, 500)]\n",
    "b = [(2, 2000), (3, 3000), (5, 5000)]\n",
    "\n",
    "print(uty.combine_data_on_x(a, b, ascending_x=True))\n",
    "\n",
    "a = [(1, 100), (2, 200), (3, 300), (4, 400), (5, 500)]\n",
    "b = [(3, 3000),(2, 2000),  (5, 5000)]\n",
    "\n",
    "print(uty.combine_data_on_x(a, b))\n"
   ],
   "metadata": {
    "collapsed": false
   }
  },
  {
   "cell_type": "markdown",
   "source": [
    "### Zip on X explained"
   ],
   "metadata": {
    "collapsed": false
   }
  },
  {
   "cell_type": "code",
   "execution_count": null,
   "outputs": [],
   "source": [
    "import utility as uty\n",
    "\n",
    "a = [(1, 100), (2, 200), (3, 300), (4, 400), (5, 500)]\n",
    "b = [(2, 2000), (3, 3000), (5, 5000)]\n",
    "\n",
    "print(list(uty.zip_on_x(a, b)))"
   ],
   "metadata": {
    "collapsed": false
   }
  },
  {
   "cell_type": "code",
   "execution_count": null,
   "outputs": [],
   "source": [
    "import utility as uty\n",
    "\n",
    "amount = [(1998, 10), (2001, 12), (2003, 11), (2006, 13)]\n",
    "population = [(2000, 10000), (2001, 11000), (2002, 12000), (2003, 13000), (2004, 14000), (2005, 14000), (2006, 15000)]\n",
    "gdp = [(2000, 20), (2001, 30), (2002, 20), (2003, 30), (2004, 40), (2005, 50), (2006, 60)]\n",
    "\n",
    "zip_amount_pop = list(uty.zip_on_x(amount, population))\n",
    "\n",
    "print(\"zipped amount & population: \" + str(zip_amount_pop))\n",
    "print(\"Transformed amount to per capita: \" + str(list(map(lambda arg: (arg[0][0], arg[0][1] / arg[1][1]), zip_amount_pop))))"
   ],
   "metadata": {
    "collapsed": false
   }
  },
  {
   "cell_type": "code",
   "execution_count": null,
   "outputs": [],
   "source": [],
   "metadata": {
    "collapsed": false
   }
  }
 ],
 "metadata": {
  "kernelspec": {
   "display_name": "Python 3 (ipykernel)",
   "language": "python",
   "name": "python3"
  },
  "language_info": {
   "codemirror_mode": {
    "name": "ipython",
    "version": 3
   },
   "file_extension": ".py",
   "mimetype": "text/x-python",
   "name": "python",
   "nbconvert_exporter": "python",
   "pygments_lexer": "ipython3",
   "version": "3.10.11"
  }
 },
 "nbformat": 4,
 "nbformat_minor": 1
}
