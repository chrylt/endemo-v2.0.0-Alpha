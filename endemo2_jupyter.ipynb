{
 "cells": [
  {
   "cell_type": "markdown",
   "metadata": {},
   "source": [
    "# Endemo 2 - Useful Energy Demand Model Rework"
   ]
  },
  {
   "cell_type": "markdown",
   "metadata": {},
   "source": [
    "## Industry Sector\n",
    "\n"
   ]
  },
  {
   "cell_type": "markdown",
   "source": [
    "### Import Packages"
   ],
   "metadata": {
    "collapsed": false
   }
  },
  {
   "cell_type": "code",
   "execution_count": 1,
   "outputs": [],
   "source": [
    "import pathlib\n",
    "\n",
    "import xlrd as x\n",
    "import pandas as pd\n",
    "from pathlib import Path\n",
    "import os"
   ],
   "metadata": {
    "collapsed": false,
    "ExecuteTime": {
     "end_time": "2023-05-30T09:15:36.295024Z",
     "start_time": "2023-05-30T09:15:35.888796400Z"
    }
   }
  },
  {
   "cell_type": "markdown",
   "source": [
    "### Create Input Manager"
   ],
   "metadata": {
    "collapsed": false
   }
  },
  {
   "cell_type": "code",
   "execution_count": 2,
   "outputs": [
    {
     "name": "stderr",
     "output_type": "stream",
     "text": [
      "C:\\Users\\Chris\\Documents\\Master_Semester_1\\IDP\\endemo2\\control_parameters.py:44: SyntaxWarning: \"is\" with a literal. Did you mean \"==\"?\n",
      "  return [sector for (sector, isActive) in self._sectors_active_values.items() if isActive is 1]\n"
     ]
    },
    {
     "name": "stdout",
     "output_type": "stream",
     "text": [
      "0                    Belgium\n",
      "1                   Bulgaria\n",
      "2                    Czechia\n",
      "3                    Denmark\n",
      "4                    Germany\n",
      "5                    Ireland\n",
      "6                     Greece\n",
      "7                      Spain\n",
      "8                     France\n",
      "9                    Croatia\n",
      "10                     Italy\n",
      "11                    Latvia\n",
      "12                Luxembourg\n",
      "13                   Hungary\n",
      "14               Netherlands\n",
      "15                   Austria\n",
      "16                    Poland\n",
      "17                  Portugal\n",
      "18                   Romania\n",
      "19                  Slovenia\n",
      "20                  Slovakia\n",
      "21                   Finland\n",
      "22                    Sweden\n",
      "23            United Kingdom\n",
      "24                    Norway\n",
      "25               Switzerland\n",
      "26                Montenegro\n",
      "27           North Macedonia\n",
      "28                   Albania\n",
      "29                    Serbia\n",
      "30    Bosnia and Herzegovina\n",
      "31                   Iceland\n",
      "32                 Lithuania\n",
      "33                   Estonia\n",
      "Name: Country, dtype: object\n"
     ]
    }
   ],
   "source": [
    "from input import Input\n",
    "\n",
    "input_manager = Input()"
   ],
   "metadata": {
    "collapsed": false,
    "ExecuteTime": {
     "end_time": "2023-05-30T09:15:42.072988300Z",
     "start_time": "2023-05-30T09:15:41.784093900Z"
    }
   }
  },
  {
   "cell_type": "markdown",
   "source": [
    "### Read production data"
   ],
   "metadata": {
    "collapsed": false
   }
  },
  {
   "cell_type": "code",
   "execution_count": 9,
   "outputs": [
    {
     "name": "stdout",
     "output_type": "stream",
     "text": [
      "steel                   Country          1967          1968          1969  \\\n",
      "0                  Belgium   9712.000000  11568.000000  12832.000000   \n",
      "1                  Denmark    401.000000    457.000000    482.000000   \n",
      "2                   France  19658.000000  20403.000000  22510.000000   \n",
      "3                  Germany  36744.000000  41159.000000  45316.000000   \n",
      "4                  Ireland     54.000000     68.000000     81.000000   \n",
      "5                    Italy  15890.000000  16964.000000  16428.000000   \n",
      "6               Luxembourg   4461.000000   4834.000000   5521.000000   \n",
      "7              Netherlands   3401.000000   3706.000000   4712.000000   \n",
      "8           United Kingdom  24324.000000  26299.000000  26096.000000   \n",
      "9                  Austria   3023.000000   3467.000000   3926.000000   \n",
      "10                 Finland    411.000000    729.000000    978.000000   \n",
      "11                  Greece    210.000000    210.000000    450.000000   \n",
      "12                  Norway    790.000000    824.000000    854.000000   \n",
      "13                Portugal    315.000000    313.000000    400.000000   \n",
      "14                   Spain   4512.000000   5003.000000   5982.000000   \n",
      "15                  Sweden   4768.000000   5095.000000   5322.000000   \n",
      "16             Switzerland    445.000000    453.000000    500.000000   \n",
      "17                Bulgaria   1239.000000   1461.000000   1515.000000   \n",
      "18                 Hungary   2739.000000   2903.000000   3032.000000   \n",
      "19                  Poland  10412.000000  11007.000000  11251.000000   \n",
      "20                 Romania   4088.000000   4323.000000   5540.000000   \n",
      "21                 Albania           NaN           NaN           NaN   \n",
      "22                  Latvia           NaN           NaN           NaN   \n",
      "23                 Czechia   6575.411223   6938.265067   7100.629015   \n",
      "24                Slovakia   3427.588777   3616.734933   3701.370985   \n",
      "25                Slovenia    458.571785    499.622971    555.692884   \n",
      "26  Bosnia and Herzegovina    298.471910    325.191011    361.685393   \n",
      "27                 Croatia    116.644195    127.086142    141.348315   \n",
      "28         North Macedonia    195.550562    213.056180    236.966292   \n",
      "29              Montenegro     80.339291     87.531237     97.354381   \n",
      "30                  Serbia    682.422257    743.512459    826.952735   \n",
      "31              Bangladesh           NaN           NaN           NaN   \n",
      "32                   China  14000.000000  15000.000000  16000.000000   \n",
      "33                   India   6331.000000   6448.000000   6557.000000   \n",
      "34               Indonesia      0.000000      0.000000      0.000000   \n",
      "35                   Japan  62154.000000  66893.000000  82166.000000   \n",
      "36               Korea DPR   1450.000000   1750.000000   2000.000000   \n",
      "37                   Korea           NaN           NaN           NaN   \n",
      "38                Malaysia     60.000000     70.000000     74.000000   \n",
      "39                Mongolia           NaN           NaN           NaN   \n",
      "40                 Myanmar           NaN           NaN           NaN   \n",
      "41                Pakistan           NaN           NaN           NaN   \n",
      "42             Philippines     85.000000     92.000000    118.000000   \n",
      "43               Singapore     60.000000    104.000000    108.000000   \n",
      "44               Sri Lanka           NaN           NaN           NaN   \n",
      "45          Taiwan (China)    443.000000    474.000000    480.000000   \n",
      "46                Thailand     35.000000    118.000000    121.000000   \n",
      "47                 Vietnam           NaN           NaN           NaN   \n",
      "48               Australia   6365.000000   6596.000000   7032.000000   \n",
      "49             New Zealand     65.000000     87.000000    102.000000   \n",
      "\n",
      "            1970          1971          1972           1973           1974  \\\n",
      "0   12607.000000  12445.000000  14532.000000   15522.000000   16227.000000   \n",
      "1     473.000000    471.000000    498.000000     453.000000     536.000000   \n",
      "2   23774.000000  22843.000000  24054.000000   25270.000000   27021.000000   \n",
      "3   45041.000000  40313.000000  43705.000000   49521.000000   53232.000000   \n",
      "4      80.000000     80.000000     77.000000     116.000000     110.000000   \n",
      "5   17277.000000  17452.000000  19813.000000   20995.000000   23804.000000   \n",
      "6    5462.000000   5241.000000   5457.000000    5924.000000    6447.000000   \n",
      "7    5042.000000   5083.000000   5585.000000    5523.000000    5837.000000   \n",
      "8   27833.000000  24219.000000  25431.000000   26667.000000   22384.000000   \n",
      "9    4079.000000   3960.000000   4069.000000    4238.000000    4699.000000   \n",
      "10   1169.000000   1025.000000   1456.000000    1615.000000    1656.000000   \n",
      "11    450.000000    475.000000    675.000000    1087.000000     926.000000   \n",
      "12    870.000000    883.000000    916.000000     963.000000     913.000000   \n",
      "13    385.000000    412.000000    425.000000     501.000000     399.000000   \n",
      "14   7394.000000   8025.000000   9526.000000   10800.000000   11502.000000   \n",
      "15   5497.000000   5271.000000   5257.000000    5663.000000    5988.000000   \n",
      "16    524.000000    532.000000    543.000000     584.000000     592.000000   \n",
      "17   1800.000000   1948.000000   2121.000000    2246.000000    2188.000000   \n",
      "18   3110.000000   3110.000000   3273.000000    3332.000000    3468.000000   \n",
      "19  11750.000000  12688.000000  13424.000000   14057.000000   14556.000000   \n",
      "20   6517.000000   6803.000000   7401.000000    8161.000000    8840.000000   \n",
      "21           NaN           NaN           NaN            NaN            NaN   \n",
      "22           NaN           NaN           NaN            NaN            NaN   \n",
      "23   7546.308192   7933.483760   8366.673403    8649.331288    8966.171057   \n",
      "24   3933.691808   4135.516240   4361.326597    4508.668712    4673.828943   \n",
      "25    557.695381    614.015605    647.807740     669.835206     709.885144   \n",
      "26    362.988764    399.646067    421.640449     435.977528     462.044944   \n",
      "27    141.857678    156.183521    164.779026     170.382022     180.569288   \n",
      "28    237.820225    261.837079    276.247191     285.640449     302.719101   \n",
      "29     97.705208    107.572206    113.492405     117.351498     124.368030   \n",
      "30    829.932744    913.745522    964.033188     996.813296    1056.413493   \n",
      "31           NaN           NaN     65.000000      68.000000      74.000000   \n",
      "32  18000.000000  21000.000000  23000.000000   26000.000000   26000.000000   \n",
      "33   6276.000000   6101.000000   6856.000000    6889.000000    7068.000000   \n",
      "34     10.000000     10.000000     30.000000      50.000000      80.000000   \n",
      "35  93322.000000  88557.000000  96900.000000  119322.000000  117131.000000   \n",
      "36   2160.000000   2360.000000   2500.000000    2900.000000    3200.000000   \n",
      "37           NaN           NaN           NaN            NaN            NaN   \n",
      "38    122.000000    160.000000    187.000000     180.000000     182.000000   \n",
      "39           NaN           NaN           NaN            NaN            NaN   \n",
      "40           NaN           NaN           NaN            NaN            NaN   \n",
      "41           NaN           NaN           NaN            NaN            NaN   \n",
      "42    131.000000    159.000000    203.000000     254.000000     279.000000   \n",
      "43    107.000000    123.000000    198.000000     211.000000     194.000000   \n",
      "44           NaN           NaN           NaN            NaN            NaN   \n",
      "45    350.000000    470.000000    540.000000     535.000000     901.000000   \n",
      "46    174.000000    190.000000    283.000000     324.000000     326.000000   \n",
      "47           NaN           NaN           NaN            NaN            NaN   \n",
      "48   6839.000000   6753.000000   6751.000000    7699.000000    7813.000000   \n",
      "49    157.000000    144.000000    157.000000     190.000000     194.000000   \n",
      "\n",
      "             1975  ...    2012    2013    2014    2015    2016    2017  \\\n",
      "0    11582.000000  ...    7301    7127    7331    7257    7667    7842   \n",
      "1      557.000000  ...       0       0       0       0       0       0   \n",
      "2    21531.000000  ...   15609   15665   16143   14984   14413   15505   \n",
      "3    40412.000000  ...   42661   42645   42943   42676   42080   43297   \n",
      "4       81.000000  ...       0       0       0       0       0       0   \n",
      "5    21865.000000  ...   27252   24093   23714   22018   23373   24068   \n",
      "6     4624.000000  ...    2208    2090    2193    2127    2175    2172   \n",
      "7     4817.000000  ...    6879    6713    6964    6995    6917    6781   \n",
      "8    19773.000000  ...    9579   11858   12033   10907    7635    7491   \n",
      "9     4069.000000  ...    7421    7953    7876    7667    7438    8135   \n",
      "10    1616.000000  ...    3759    3517    3807    3988    4101    4003   \n",
      "11     900.000000  ...    1247    1030    1022     910    1158    1359   \n",
      "12     891.000000  ...     700     605     600     590     620     603   \n",
      "13     443.000000  ...    1960    2050    2070    2030    2010    2076   \n",
      "14   11102.000000  ...   13639   14252   14249   14845   13616   14441   \n",
      "15    5611.000000  ...    4326    4404    4539    4557    4817    4926   \n",
      "16     420.000000  ...    1450    1530    1475    1475    1500    1450   \n",
      "17    2265.000000  ...     633     523     612     543     527     652   \n",
      "18    3673.000000  ...    1542     883    1152    1675    1274    1901   \n",
      "19   15007.000000  ...    8366    7950    8558    9198    9001   10332   \n",
      "20    9549.000000  ...    3292    2985    3158    3352    3276    3361   \n",
      "21            NaN  ...     500     550     560     150      50       0   \n",
      "22            NaN  ...     805     198       0       0       0       0   \n",
      "23    9415.794298  ...    5072    5171    5360    5262    5305    4550   \n",
      "24    4908.205702  ...    4403    4511    4705    4562    4808    4974   \n",
      "25     729.910112  ...     632     618     615     604     613     648   \n",
      "26     475.078652  ...     700     722     793     819     806     756   \n",
      "27     185.662921  ...       1     135     167     122       0       0   \n",
      "28     311.258427  ...     217     100     188     121     169     273   \n",
      "29     127.876296  ...     120      70     140     150     120     120   \n",
      "30    1086.213592  ...     346     396     583     955    1173    1477   \n",
      "31      76.000000  ...      87      84      90     100     100     100   \n",
      "32   26000.000000  ...  731040  822000  822306  803825  807609  870855   \n",
      "33    7991.000000  ...   77264   81299   87292   89026   95477  101455   \n",
      "34     100.000000  ...    2254    2644    4428    4854    4746    5195   \n",
      "35  102313.000000  ...  107232  110595  110666  105134  104775  104661   \n",
      "36    2900.000000  ...    1280    1250    1250    1250    1250    1250   \n",
      "37            NaN  ...   69073   66061   71543   69670   68576   71030   \n",
      "38     183.000000  ...    5612    4693    4316    3784    2764    3215   \n",
      "39            NaN  ...      35      40      45      45      50      50   \n",
      "40            NaN  ...      25      30      35      35      35      35   \n",
      "41            NaN  ...    1631    1845    2423    2892    3553    4966   \n",
      "42     311.000000  ...    1260    1308    1196     968    1075    1378   \n",
      "43     196.000000  ...     688     434     540     501     520     596   \n",
      "44            NaN  ...      30      30      30      30      30      30   \n",
      "45    1010.000000  ...   20664   22282   23121   21392   21751   22438   \n",
      "46     251.000000  ...    3328    3579    4095    3718    3825    4471   \n",
      "47            NaN  ...    5298    5474    5847    5647    7811   11473   \n",
      "48    7869.000000  ...    4893    4688    4607    4925    5259    5328   \n",
      "49     185.000000  ...     912     900     859     793     577     657   \n",
      "\n",
      "      2018    2019       2020       2021  \n",
      "0     7980    7760     6119.0     6909.0  \n",
      "1        0       0        0.0        0.0  \n",
      "2    15387   14450    11595.0    13947.0  \n",
      "3    42435   39700    35700.0    40100.0  \n",
      "4        0       0    35690.0        0.0  \n",
      "5    24532   23190    20379.0    24413.0  \n",
      "6     2228    2119     1886.0     2073.0  \n",
      "7     6813    6657     6620.0     6620.0  \n",
      "8     7266    7218     7085.0     7222.0  \n",
      "9     6885    7424     6765.0     7884.0  \n",
      "10    4146    3473     3497.0     4340.0  \n",
      "11    1467    1350     1408.0     1498.0  \n",
      "12     575     621      623.0      622.0  \n",
      "13    2215    2033     2202.0     1953.0  \n",
      "14   14320   13588    10998.0    14185.0  \n",
      "15    4654    4721     4408.0     4678.0  \n",
      "16    1500    1500     1175.0     1200.0  \n",
      "17     666     566      483.0      548.0  \n",
      "18    1989    1769     1513.0     1100.0  \n",
      "19   10167    8956     7855.0     8454.0  \n",
      "20    3550    3448     2790.0     3375.0  \n",
      "21       0       0        0.0        0.0  \n",
      "22       0       0        0.0        0.0  \n",
      "23    4938    4437     4464.0     4817.0  \n",
      "24    5225    3600     3443.0     4863.0  \n",
      "25     654     623      585.0      662.0  \n",
      "26     695     801      759.0      915.0  \n",
      "27     136      69       45.0      185.0  \n",
      "28     266     239      179.0      315.0  \n",
      "29     120      75       20.0       20.0  \n",
      "30    1973    1929     1455.0     1667.0  \n",
      "31     100    5100     5500.0     5500.0  \n",
      "32  928264  996342  1064732.0  1032790.0  \n",
      "33  109272  111351   100256.0   118201.0  \n",
      "34    6183    7783    12871.0    14300.0  \n",
      "35  104319   99284    83186.0    96334.0  \n",
      "36    1250    1250     1250.0     1250.0  \n",
      "37   72464   71412    67078.0    70418.0  \n",
      "38    4108    6820     6618.0     6900.0  \n",
      "39      50      50        NaN        NaN  \n",
      "40      35     350      350.0      400.0  \n",
      "41    4719    3304     3803.0     5283.0  \n",
      "42    1475    1915      892.0      900.0  \n",
      "43     618     766      405.0      572.0  \n",
      "44      30      30       30.0       30.0  \n",
      "45   23240   21954    20958.0    23233.0  \n",
      "46    6403    4246     4467.0     5473.0  \n",
      "47   15471   17469    19900.0    23019.0  \n",
      "48    5689    5493     5490.0     5780.0  \n",
      "49     652     667      585.0      645.0  \n",
      "\n",
      "[50 rows x 56 columns]\n"
     ]
    },
    {
     "ename": "TypeError",
     "evalue": "Product.__init__() takes 1 positional argument but 4 were given",
     "output_type": "error",
     "traceback": [
      "\u001B[1;31m---------------------------------------------------------------------------\u001B[0m",
      "\u001B[1;31mTypeError\u001B[0m                                 Traceback (most recent call last)",
      "Cell \u001B[1;32mIn[9], line 38\u001B[0m\n\u001B[0;32m     13\u001B[0m Retrieve \u001B[38;5;241m=\u001B[39m namedtuple(\u001B[38;5;124m\"\u001B[39m\u001B[38;5;124mRetrieve\u001B[39m\u001B[38;5;124m\"\u001B[39m, [\u001B[38;5;124m\"\u001B[39m\u001B[38;5;124mfile_name\u001B[39m\u001B[38;5;124m\"\u001B[39m, \u001B[38;5;124m\"\u001B[39m\u001B[38;5;124msheet_name\u001B[39m\u001B[38;5;124m\"\u001B[39m, \u001B[38;5;124m\"\u001B[39m\u001B[38;5;124msheet_transform\u001B[39m\u001B[38;5;124m\"\u001B[39m])\n\u001B[0;32m     14\u001B[0m data_access_spec \u001B[38;5;241m=\u001B[39m {\u001B[38;5;124m\"\u001B[39m\u001B[38;5;124msteel\u001B[39m\u001B[38;5;124m\"\u001B[39m: Retrieve(\u001B[38;5;124m\"\u001B[39m\u001B[38;5;124mSteel_Production.xlsx\u001B[39m\u001B[38;5;124m\"\u001B[39m, \u001B[38;5;124m\"\u001B[39m\u001B[38;5;124mData_total\u001B[39m\u001B[38;5;124m\"\u001B[39m, \u001B[38;5;28;01mlambda\u001B[39;00m x: x),\n\u001B[0;32m     15\u001B[0m                     \u001B[38;5;124m\"\u001B[39m\u001B[38;5;124msteel_prim\u001B[39m\u001B[38;5;124m\"\u001B[39m: Retrieve(\u001B[38;5;124m\"\u001B[39m\u001B[38;5;124mSteel_Production.xlsx\u001B[39m\u001B[38;5;124m\"\u001B[39m, \u001B[38;5;124m\"\u001B[39m\u001B[38;5;124mSteel_prim\u001B[39m\u001B[38;5;124m\"\u001B[39m, \u001B[38;5;28;01mlambda\u001B[39;00m x: x),\n\u001B[0;32m     16\u001B[0m                     \u001B[38;5;124m\"\u001B[39m\u001B[38;5;124msteel_sec\u001B[39m\u001B[38;5;124m\"\u001B[39m: Retrieve(\u001B[38;5;124m\"\u001B[39m\u001B[38;5;124mSteel_Production.xlsx\u001B[39m\u001B[38;5;124m\"\u001B[39m, \u001B[38;5;124m\"\u001B[39m\u001B[38;5;124mSteel_sec\u001B[39m\u001B[38;5;124m\"\u001B[39m, \u001B[38;5;28;01mlambda\u001B[39;00m x: x),\n\u001B[1;32m   (...)\u001B[0m\n\u001B[0;32m     35\u001B[0m                     \u001B[38;5;124m\"\u001B[39m\u001B[38;5;124mglass\u001B[39m\u001B[38;5;124m\"\u001B[39m: Retrieve(\u001B[38;5;124m\"\u001B[39m\u001B[38;5;124mGlass_Production.xlsx\u001B[39m\u001B[38;5;124m\"\u001B[39m, \u001B[38;5;124m\"\u001B[39m\u001B[38;5;124mData_const\u001B[39m\u001B[38;5;124m\"\u001B[39m, \u001B[38;5;28;01mlambda\u001B[39;00m x: x\u001B[38;5;241m.\u001B[39mdrop(\u001B[38;5;124m'\u001B[39m\u001B[38;5;124mComment\u001B[39m\u001B[38;5;124m'\u001B[39m, axis\u001B[38;5;241m=\u001B[39m\u001B[38;5;241m1\u001B[39m)),\n\u001B[0;32m     36\u001B[0m                     }\n\u001B[1;32m---> 38\u001B[0m \u001B[43mSECTOR\u001B[49m\u001B[43m[\u001B[49m\u001B[38;5;124;43m\"\u001B[39;49m\u001B[38;5;124;43mindustry\u001B[39;49m\u001B[38;5;124;43m\"\u001B[39;49m\u001B[43m]\u001B[49m\u001B[38;5;241;43m.\u001B[39;49m\u001B[43mload_production_data\u001B[49m\u001B[43m(\u001B[49m\u001B[43mproduct_names\u001B[49m\u001B[43m,\u001B[49m\u001B[43m \u001B[49m\u001B[43mdata_access_spec\u001B[49m\u001B[43m)\u001B[49m\n",
      "File \u001B[1;32m~\\Documents\\Master_Semester_1\\IDP\\endemo2\\industry_sector.py:26\u001B[0m, in \u001B[0;36mIndustry.load_production_data\u001B[1;34m(cls, product_names, data_access_spec)\u001B[0m\n\u001B[0;32m     23\u001B[0m \u001B[38;5;28mprint\u001B[39m(product_name \u001B[38;5;241m+\u001B[39m \u001B[38;5;28mstr\u001B[39m(excel))\n\u001B[0;32m     24\u001B[0m specific_demand \u001B[38;5;241m=\u001B[39m pd\u001B[38;5;241m.\u001B[39mread_excel(Industry\u001B[38;5;241m.\u001B[39minput_path \u001B[38;5;241m/\u001B[39m \u001B[38;5;124m\"\u001B[39m\u001B[38;5;124mSpecific_Consumption.xlsx\u001B[39m\u001B[38;5;124m\"\u001B[39m,\n\u001B[0;32m     25\u001B[0m                   sheet_name\u001B[38;5;241m=\u001B[39mproduct_name)\n\u001B[1;32m---> 26\u001B[0m Industry\u001B[38;5;241m.\u001B[39mproducts[product_name] \u001B[38;5;241m=\u001B[39m \u001B[43mProduct\u001B[49m\u001B[43m(\u001B[49m\u001B[43mproduct_name\u001B[49m\u001B[43m,\u001B[49m\u001B[43m \u001B[49m\u001B[43mexcel\u001B[49m\u001B[43m,\u001B[49m\u001B[43m \u001B[49m\u001B[43mspecific_demand\u001B[49m\u001B[43m)\u001B[49m\n\u001B[0;32m     27\u001B[0m Industry\u001B[38;5;241m.\u001B[39madd_to_hierarchy(product_name, Industry\u001B[38;5;241m.\u001B[39mproducts[product_name])\n",
      "\u001B[1;31mTypeError\u001B[0m: Product.__init__() takes 1 positional argument but 4 were given"
     ]
    }
   ],
   "source": [
    "\n",
    "from collections import namedtuple\n",
    "\n",
    "\n",
    "gs_param_ind_subs = pd.read_excel(input_path / \"Set_and_Control_Parameters.xlsx\", sheet_name=\"IND_subsectors\")\n",
    "\n",
    "product_names = gs_param_ind_subs.get(\"Main subsectors\")\n",
    "\n",
    "multiply_with_scalar = lambda e, s : e.combine(e.loc[e.index >= 0, e.columns != 'Country'].apply(lambda y : y * s), lambda s1, s2 : s2, overwrite=False)\n",
    "\n",
    "chem_prod_ren_perc = gs_param_ind_subs.loc[gs_param_ind_subs[\"Parameter\"] == \"Percentage of chemical production with renewable H2\", \"Value\"].iloc[0] / 100\n",
    "dir_steel_perc = gs_param_ind_subs.loc[gs_param_ind_subs[\"Parameter\"] == \"Percentage of direct steel in steel production\", \"Value\"].iloc[0] / 100\n",
    "\n",
    "Retrieve = namedtuple(\"Retrieve\", [\"file_name\", \"sheet_name\", \"sheet_transform\"])\n",
    "data_access_spec = {\"steel\": Retrieve(\"Steel_Production.xlsx\", \"Data_total\", lambda x: x),\n",
    "                    \"steel_prim\": Retrieve(\"Steel_Production.xlsx\", \"Steel_prim\", lambda x: x),\n",
    "                    \"steel_sec\": Retrieve(\"Steel_Production.xlsx\", \"Steel_sec\", lambda x: x),\n",
    "                    \"steel_direct\": Retrieve(\"Steel_Production.xlsx\", \"Data_total\", lambda x: multiply_with_scalar(x, dir_steel_perc)),\n",
    "                    \"alu_prim\": Retrieve(\"Aluminium_Production.xlsx\", \"Prim_Data\", lambda x: x),\n",
    "                    \"alu_sec\": Retrieve(\"Aluminium_Production.xlsx\", \"Sec_Data_const\", lambda x: x),\n",
    "                    \"copper_prim\": Retrieve(\"Copper_Production.xlsx\", \"Copper_WSP\", lambda x : x.loc[x[\"Type\"] == \"Primary\"].drop(\"Type\", axis=1)),\n",
    "                    \"copper_sec\": Retrieve(\"Copper_Production.xlsx\", \"Copper_WSP\", lambda x : x.loc[x[\"Type\"] == \"Secondary\"].drop(\"Type\", axis=1)),\n",
    "                    \"chlorine\": Retrieve(\"Chlorin_Production.xlsx\", \"Data\", lambda x: x),\n",
    "                    \"ammonia\": Retrieve(\"Ammonia_Production.xlsx\", \"Data_const\", lambda x : multiply_with_scalar(x, chem_prod_ren_perc)),\n",
    "                    \"methanol\": Retrieve(\"Methanol_Production.xlsx\", \"Data_const\", lambda x : multiply_with_scalar(x, chem_prod_ren_perc)),\n",
    "                    \"ethylene\": Retrieve(\"Ethylene_Production.xlsx\", \"Data_const\", lambda x : multiply_with_scalar(x, chem_prod_ren_perc)),\n",
    "                    \"propylene\": Retrieve(\"Propylene_Production.xlsx\", \"Data_const\", lambda x : multiply_with_scalar(x, chem_prod_ren_perc)),\n",
    "                    \"aromate\": Retrieve(\"Aromate_Production.xlsx\", \"Data_const\", lambda x : multiply_with_scalar(x, chem_prod_ren_perc)),\n",
    "                    \"ammonia_classic\": Retrieve(\"Ammonia_Production.xlsx\", \"Data_const\", lambda x: x),\n",
    "                    \"methanol_classic\": Retrieve(\"Methanol_Production.xlsx\", \"Data_const\", lambda x: x),\n",
    "                    \"ethylene_classic\": Retrieve(\"Ethylene_Production.xlsx\", \"Data_const\", lambda x: x),\n",
    "                    \"propylene_classic\": Retrieve(\"Propylene_Production.xlsx\", \"Data_const\", lambda x: x),\n",
    "                    \"aromate_classic\": Retrieve(\"Aromate_Production.xlsx\", \"Data_const\", lambda x: x),\n",
    "                    \"paper\": Retrieve(\"Paper_Production.xlsx\", \"Data\", lambda x: x),\n",
    "                    \"cement\": Retrieve(\"Cement_Production.xlsx\", \"Data\", lambda x: x),\n",
    "                    \"glass\": Retrieve(\"Glass_Production.xlsx\", \"Data_const\", lambda x: x.drop('Comment', axis=1)),\n",
    "                    }\n",
    "\n",
    "SECTOR[\"industry\"].load_production_data(product_names, data_access_spec)\n"
   ],
   "metadata": {
    "collapsed": false,
    "ExecuteTime": {
     "end_time": "2023-05-24T12:44:40.714020100Z",
     "start_time": "2023-05-24T12:44:40.172864300Z"
    }
   }
  },
  {
   "cell_type": "code",
   "execution_count": null,
   "outputs": [],
   "source": [
    "SECTOR[\"industry\"].add_to_hierarchy(\"alu_prim\", SECTOR[\"industry\"].products[\"alu_prim\"])\n",
    "SECTOR[\"industry\"].add_to_hierarchy(\"alu_sec\", SECTOR[\"industry\"].products[\"alu_sec\"])\n",
    "SECTOR[\"industry\"].add_to_hierarchy(\"alu_sec\", SECTOR[\"industry\"].products[\"alu_sec\"])\n",
    "SECTOR[\"industry\"].add_to_hierarchy(\"ammonia\", SECTOR[\"industry\"].products[\"ammonia\"])\n",
    "SECTOR[\"industry\"].add_to_hierarchy(\"ammonia_classic\", SECTOR[\"industry\"].products[\"ammonia_classic\"])\n",
    "\n",
    "SECTOR[\"industry\"].add_to_hierarchy(\"chlorine\", SECTOR[\"industry\"].products[\"chlorine\"])"
   ],
   "metadata": {
    "collapsed": false
   }
  },
  {
   "cell_type": "code",
   "execution_count": null,
   "outputs": [],
   "source": [
    "prod = SECTOR[\"industry\"].products[\"alu_prim\"]"
   ],
   "metadata": {
    "collapsed": false
   }
  },
  {
   "cell_type": "code",
   "execution_count": null,
   "outputs": [],
   "source": [
    "dir(prod)"
   ],
   "metadata": {
    "collapsed": false
   }
  },
  {
   "cell_type": "markdown",
   "source": [
    "# New"
   ],
   "metadata": {
    "collapsed": false
   }
  },
  {
   "cell_type": "markdown",
   "source": [
    "## Test Utility functions\n",
    "### Test Regression"
   ],
   "metadata": {
    "collapsed": false
   }
  },
  {
   "cell_type": "code",
   "execution_count": 10,
   "outputs": [
    {
     "data": {
      "text/plain": "<Figure size 640x480 with 1 Axes>",
      "image/png": "[encoded data removed]"
     },
     "metadata": {},
     "output_type": "display_data"
    },
    {
     "data": {
      "text/plain": "<Figure size 640x480 with 1 Axes>",
      "image/png": "[encoded data removed]"
     },
     "metadata": {},
     "output_type": "display_data"
    },
    {
     "data": {
      "text/plain": "(-30.25286763906007, 7.173061390898329, -0.10698871880667692)"
     },
     "execution_count": 10,
     "metadata": {},
     "output_type": "execute_result"
    }
   ],
   "source": [
    "import utility as uty\n",
    "\n",
    "# Test Linear Regression\n",
    "\n",
    "x = [2003, 2004, 2005, 2006, 2007, 2008, 2009, 2010, 2011]\n",
    "y = [1258.809906,1259.17278,1259.17278,1111.120188,1063.946568,1124.9094,1100.233968,1100.233968,1095.153732]\n",
    "data = list(zip(x, y))\n",
    "\n",
    "uty.linear_regression(data, visualize=True)\n",
    "\n",
    "# Test Quadratic Regression\n",
    "\n",
    "x = [6, 9, 12, 12, 15, 21, 24, 24, 27, 30, 36, 39, 45, 48, 57, 60]\n",
    "y = [12, 18, 30, 42, 48, 78, 90, 96, 96, 90, 84, 78, 66, 54, 36, 24]\n",
    "data = list(zip(x, y))\n",
    "\n",
    "uty.quadratic_regression(data, visualize=True)\n"
   ],
   "metadata": {
    "collapsed": false,
    "ExecuteTime": {
     "end_time": "2023-05-24T12:45:22.181293600Z",
     "start_time": "2023-05-24T12:45:21.396356100Z"
    }
   }
  },
  {
   "cell_type": "markdown",
   "source": [
    "### Test filter out NaN and Inf"
   ],
   "metadata": {
    "collapsed": false
   }
  },
  {
   "cell_type": "code",
   "execution_count": 11,
   "outputs": [
    {
     "data": {
      "text/plain": "[(6, 12),\n (12, 42),\n (15, 48),\n (21, 78),\n (24, 90),\n (24, 96),\n (27, 96),\n (30, 90),\n (36, 84),\n (39, 78),\n (45, 66),\n (48, 54),\n (57, 36),\n (60, 24)]"
     },
     "execution_count": 11,
     "metadata": {},
     "output_type": "execute_result"
    }
   ],
   "source": [
    "import numpy as np\n",
    "import math\n",
    "import utility as uty\n",
    "\n",
    "x = [6, 9, 12, 12, 15, 21, 24, 24, 27, 30, 36, 39, 45, 48, 57, 60]\n",
    "y = [12, np.NaN, np.inf, 42, 48, 78, 90, 96, 96, 90, 84, 78, 66, 54, 36, 24]\n",
    "data = list(zip(x, y))\n",
    "\n",
    "uty.filter_out_NaN_and_Inf(data)"
   ],
   "metadata": {
    "collapsed": false,
    "ExecuteTime": {
     "end_time": "2023-05-24T12:45:26.168412200Z",
     "start_time": "2023-05-24T12:45:26.082393800Z"
    }
   }
  },
  {
   "cell_type": "markdown",
   "source": [
    "### Combining Data on the x axis\n",
    "\n",
    "Attention! If the x axis is ascending for both data arrays, use ascending_x=True for better performance!"
   ],
   "metadata": {
    "collapsed": false
   }
  },
  {
   "cell_type": "code",
   "execution_count": 1,
   "outputs": [
    {
     "name": "stdout",
     "output_type": "stream",
     "text": [
      "[(200, 2000), (300, 3000), (500, 5000)]\n",
      "[(200, 2000), (300, 3000), (500, 5000)]\n"
     ]
    }
   ],
   "source": [
    "import utility as uty\n",
    "\n",
    "a = [(1, 100), (2, 200), (3, 300), (4, 400), (5, 500)]\n",
    "b = [(2, 2000), (3, 3000), (5, 5000)]\n",
    "\n",
    "print(uty.combine_data_on_x(a, b, ascending_x=True))\n",
    "\n",
    "a = [(1, 100), (2, 200), (3, 300), (4, 400), (5, 500)]\n",
    "b = [(3, 3000),(2, 2000),  (5, 5000)]\n",
    "\n",
    "print(uty.combine_data_on_x(a, b))\n"
   ],
   "metadata": {
    "collapsed": false,
    "ExecuteTime": {
     "end_time": "2023-05-24T12:46:51.693264700Z",
     "start_time": "2023-05-24T12:46:50.902057900Z"
    }
   }
  },
  {
   "cell_type": "markdown",
   "source": [
    "### Zip on X explained"
   ],
   "metadata": {
    "collapsed": false
   }
  },
  {
   "cell_type": "code",
   "execution_count": 3,
   "outputs": [
    {
     "name": "stdout",
     "output_type": "stream",
     "text": [
      "[((2, 200), (2, 2000)), ((3, 300), (3, 3000)), ((5, 500), (5, 5000))]\n"
     ]
    }
   ],
   "source": [
    "import utility as uty\n",
    "\n",
    "a = [(1, 100), (2, 200), (3, 300), (4, 400), (5, 500)]\n",
    "b = [(2, 2000), (3, 3000), (5, 5000)]\n",
    "\n",
    "print(list(uty.zip_on_x(a, b)))"
   ],
   "metadata": {
    "collapsed": false,
    "ExecuteTime": {
     "end_time": "2023-05-30T08:09:15.221958400Z",
     "start_time": "2023-05-30T08:09:15.209957100Z"
    }
   }
  },
  {
   "cell_type": "code",
   "execution_count": 3,
   "outputs": [
    {
     "name": "stdout",
     "output_type": "stream",
     "text": [
      "zipped amount & population: [((2001, 12), (2001, 11000)), ((2003, 11), (2003, 13000)), ((2006, 13), (2006, 15000))]\n",
      "Transformed amount to per capita: [(2001, 0.001090909090909091), (2003, 0.0008461538461538462), (2006, 0.0008666666666666666)]\n"
     ]
    }
   ],
   "source": [
    "import utility as uty\n",
    "\n",
    "amount = [(1998, 10), (2001, 12), (2003, 11), (2006, 13)]\n",
    "population = [(2000, 10000), (2001, 11000), (2002, 12000), (2003, 13000), (2004, 14000), (2005, 14000), (2006, 15000)]\n",
    "gdp = [(2000, 20), (2001, 30), (2002, 20), (2003, 30), (2004, 40), (2005, 50), (2006, 60)]\n",
    "\n",
    "zip_amount_pop = list(uty.zip_on_x(amount, population))\n",
    "\n",
    "print(\"zipped amount & population: \" + str(zip_amount_pop))\n",
    "print(\"Transformed amount to per capita: \" + str(list(map(lambda arg: (arg[0][0], arg[0][1] / arg[1][1]), zip_amount_pop))))"
   ],
   "metadata": {
    "collapsed": false,
    "ExecuteTime": {
     "end_time": "2023-05-30T11:25:25.795494700Z",
     "start_time": "2023-05-30T11:25:24.707225900Z"
    }
   }
  },
  {
   "cell_type": "code",
   "execution_count": null,
   "outputs": [],
   "source": [],
   "metadata": {
    "collapsed": false
   }
  }
 ],
 "metadata": {
  "kernelspec": {
   "display_name": "Python 3 (ipykernel)",
   "language": "python",
   "name": "python3"
  },
  "language_info": {
   "codemirror_mode": {
    "name": "ipython",
    "version": 3
   },
   "file_extension": ".py",
   "mimetype": "text/x-python",
   "name": "python",
   "nbconvert_exporter": "python",
   "pygments_lexer": "ipython3",
   "version": "3.10.11"
  }
 },
 "nbformat": 4,
 "nbformat_minor": 1
}
