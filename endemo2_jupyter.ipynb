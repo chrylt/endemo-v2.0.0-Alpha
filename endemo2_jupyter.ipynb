{
 "cells": [
  {
   "cell_type": "markdown",
   "metadata": {},
   "source": [
    "# Endemo - Useful Energy Demand Model"
   ]
  },
  {
   "cell_type": "markdown",
   "source": [
    "## Create Input Manager"
   ],
   "metadata": {
    "collapsed": false
   }
  },
  {
   "cell_type": "code",
   "execution_count": 1,
   "outputs": [
    {
     "name": "stdout",
     "output_type": "stream",
     "text": [
      "Reading Input ...\n",
      "Input was successfully read.\n",
      "Preprocessing Data ...\n",
      "Preprocessing was successfully completed.\n",
      "Creating instance filters...\n",
      "Instance filters were successfully created.\n",
      "Initiating model...\n",
      "Model was successfully initiated.\n",
      "Writing preprocessing output...\n"
     ]
    },
    {
     "ename": "TypeError",
     "evalue": "'float' object cannot be interpreted as an integer",
     "output_type": "error",
     "traceback": [
      "\u001B[1;31m---------------------------------------------------------------------------\u001B[0m",
      "\u001B[1;31mTypeError\u001B[0m                                 Traceback (most recent call last)",
      "Cell \u001B[1;32mIn[1], line 9\u001B[0m\n\u001B[0;32m      6\u001B[0m warnings\u001B[38;5;241m.\u001B[39msimplefilter(\u001B[38;5;124m'\u001B[39m\u001B[38;5;124mignore\u001B[39m\u001B[38;5;124m'\u001B[39m, \u001B[38;5;167;01mUserWarning\u001B[39;00m)\n\u001B[0;32m      8\u001B[0m model_instance \u001B[38;5;241m=\u001B[39m endemo\u001B[38;5;241m.\u001B[39mEndemo()\n\u001B[1;32m----> 9\u001B[0m \u001B[43mmodel_instance\u001B[49m\u001B[38;5;241;43m.\u001B[39;49m\u001B[43mexecute_with_preprocessing\u001B[49m\u001B[43m(\u001B[49m\u001B[43m)\u001B[49m\n",
      "File \u001B[1;32m~\\Documents\\Master_Semester_1\\IDP\\endemo2\\endemo2\\endemo.py:47\u001B[0m, in \u001B[0;36mEndemo.execute_with_preprocessing\u001B[1;34m(self)\u001B[0m\n\u001B[0;32m     44\u001B[0m \u001B[38;5;28mself\u001B[39m\u001B[38;5;241m.\u001B[39mcreate_instance()\n\u001B[0;32m     46\u001B[0m \u001B[38;5;66;03m# generate output files\u001B[39;00m\n\u001B[1;32m---> 47\u001B[0m \u001B[38;5;28;43mself\u001B[39;49m\u001B[38;5;241;43m.\u001B[39;49m\u001B[43mwrite_all_output\u001B[49m\u001B[43m(\u001B[49m\u001B[43m)\u001B[49m\n",
      "File \u001B[1;32m~\\Documents\\Master_Semester_1\\IDP\\endemo2\\endemo2\\endemo.py:93\u001B[0m, in \u001B[0;36mEndemo.write_all_output\u001B[1;34m(self)\u001B[0m\n\u001B[0;32m     91\u001B[0m \u001B[38;5;28;01mdef\u001B[39;00m \u001B[38;5;21mwrite_all_output\u001B[39m(\u001B[38;5;28mself\u001B[39m):\n\u001B[0;32m     92\u001B[0m \u001B[38;5;250m    \u001B[39m\u001B[38;5;124;03m\"\"\" Writes the whole output to the output folder. \"\"\"\u001B[39;00m\n\u001B[1;32m---> 93\u001B[0m     \u001B[38;5;28;43mself\u001B[39;49m\u001B[38;5;241;43m.\u001B[39;49m\u001B[43mwrite_preprocessing_output\u001B[49m\u001B[43m(\u001B[49m\u001B[43m)\u001B[49m\n\u001B[0;32m     94\u001B[0m     \u001B[38;5;28mself\u001B[39m\u001B[38;5;241m.\u001B[39mwrite_model_output()\n",
      "File \u001B[1;32m~\\Documents\\Master_Semester_1\\IDP\\endemo2\\endemo2\\endemo.py:99\u001B[0m, in \u001B[0;36mEndemo.write_preprocessing_output\u001B[1;34m(self)\u001B[0m\n\u001B[0;32m     97\u001B[0m \u001B[38;5;250m\u001B[39m\u001B[38;5;124;03m\"\"\" Writes all the output that comes from preprocessing. \"\"\"\u001B[39;00m\n\u001B[0;32m     98\u001B[0m \u001B[38;5;28mprint\u001B[39m(\u001B[38;5;124m\"\u001B[39m\u001B[38;5;124mWriting preprocessing output...\u001B[39m\u001B[38;5;124m\"\u001B[39m)\n\u001B[1;32m---> 99\u001B[0m \u001B[43mgenerate_preprocessing_output\u001B[49m\u001B[43m(\u001B[49m\u001B[38;5;28;43mself\u001B[39;49m\u001B[38;5;241;43m.\u001B[39;49m\u001B[43minput_manager\u001B[49m\u001B[43m,\u001B[49m\u001B[43m \u001B[49m\u001B[38;5;28;43mself\u001B[39;49m\u001B[38;5;241;43m.\u001B[39;49m\u001B[43mpreprocessor\u001B[49m\u001B[43m)\u001B[49m\n\u001B[0;32m    100\u001B[0m \u001B[38;5;28mprint\u001B[39m(\u001B[38;5;124m\"\u001B[39m\u001B[38;5;124mPreprocessing output was successfully written.\u001B[39m\u001B[38;5;124m\"\u001B[39m)\n",
      "File \u001B[1;32m~\\Documents\\Master_Semester_1\\IDP\\endemo2\\endemo2\\output\\preprocessing_output.py:33\u001B[0m, in \u001B[0;36mgenerate_preprocessing_output\u001B[1;34m(input_manager, preprocessor)\u001B[0m\n\u001B[0;32m     30\u001B[0m generate_specific_consumption_output(folder_name, input_manager, preprocessor\u001B[38;5;241m.\u001B[39mcountries_pp)\n\u001B[0;32m     32\u001B[0m \u001B[38;5;28;01mif\u001B[39;00m input_manager\u001B[38;5;241m.\u001B[39mctrl\u001B[38;5;241m.\u001B[39mgeneral_settings\u001B[38;5;241m.\u001B[39mtoggle_graphical_output:\n\u001B[1;32m---> 33\u001B[0m     \u001B[43mgenerate_visual_output\u001B[49m\u001B[43m(\u001B[49m\u001B[43mfolder_name\u001B[49m\u001B[43m,\u001B[49m\u001B[43m \u001B[49m\u001B[43minput_manager\u001B[49m\u001B[43m,\u001B[49m\u001B[43m \u001B[49m\u001B[43mpreprocessor\u001B[49m\u001B[38;5;241;43m.\u001B[39;49m\u001B[43mcountries_pp\u001B[49m\u001B[43m)\u001B[49m\n",
      "File \u001B[1;32m~\\Documents\\Master_Semester_1\\IDP\\endemo2\\endemo2\\output\\preprocessing_output.py:52\u001B[0m, in \u001B[0;36mgenerate_visual_output\u001B[1;34m(folder, input_manager, countries_pp)\u001B[0m\n\u001B[0;32m     50\u001B[0m             series_hy \u001B[38;5;241m=\u001B[39m sc_pp\u001B[38;5;241m.\u001B[39mspecific_consumption_historical[DemandType\u001B[38;5;241m.\u001B[39mHYDROGEN]\n\u001B[0;32m     51\u001B[0m             series_hy\u001B[38;5;241m.\u001B[39mget_coef()\u001B[38;5;241m.\u001B[39mset_method(ForecastMethod\u001B[38;5;241m.\u001B[39mLINEAR)\n\u001B[1;32m---> 52\u001B[0m             \u001B[43msave_multiple_series_plot\u001B[49m\u001B[43m(\u001B[49m\u001B[43minput_manager\u001B[49m\u001B[43m,\u001B[49m\u001B[43m \u001B[49m\u001B[43mdirectory\u001B[49m\u001B[43m,\u001B[49m\n\u001B[0;32m     53\u001B[0m \u001B[43m                                      \u001B[49m\u001B[43m[\u001B[49m\u001B[43mseries_el\u001B[49m\u001B[43m,\u001B[49m\u001B[43m \u001B[49m\u001B[43mseries_he\u001B[49m\u001B[43m,\u001B[49m\u001B[43m \u001B[49m\u001B[43mseries_hy\u001B[49m\u001B[43m]\u001B[49m\u001B[43m,\u001B[49m\n\u001B[0;32m     54\u001B[0m \u001B[43m                                      \u001B[49m\u001B[43m[\u001B[49m\u001B[38;5;124;43m\"\u001B[39;49m\u001B[38;5;124;43melectricity\u001B[39;49m\u001B[38;5;124;43m\"\u001B[39;49m\u001B[43m,\u001B[49m\u001B[43m \u001B[49m\u001B[38;5;124;43m\"\u001B[39;49m\u001B[38;5;124;43mheat\u001B[39;49m\u001B[38;5;124;43m\"\u001B[39;49m\u001B[43m,\u001B[49m\u001B[43m \u001B[49m\u001B[38;5;124;43m\"\u001B[39;49m\u001B[38;5;124;43mhydrogen\u001B[39;49m\u001B[38;5;124;43m\"\u001B[39;49m\u001B[43m]\u001B[49m\u001B[43m,\u001B[49m\n\u001B[0;32m     55\u001B[0m \u001B[43m                                      \u001B[49m\u001B[43mx_label\u001B[49m\u001B[43m,\u001B[49m\u001B[43m \u001B[49m\u001B[43my_label\u001B[49m\u001B[43m,\u001B[49m\u001B[43m \u001B[49m\u001B[43mcountry_name\u001B[49m\u001B[43m,\u001B[49m\u001B[43m \u001B[49m\u001B[43mproduct_name\u001B[49m\u001B[43m)\u001B[49m\n\u001B[0;32m     57\u001B[0m \u001B[38;5;66;03m# generate vis output amount_vs_year\u001B[39;00m\n\u001B[0;32m     58\u001B[0m \u001B[38;5;28;01mfor\u001B[39;00m product_name, product_input \u001B[38;5;129;01min\u001B[39;00m input_manager\u001B[38;5;241m.\u001B[39mindustry_input\u001B[38;5;241m.\u001B[39mactive_products\u001B[38;5;241m.\u001B[39mitems():\n",
      "File \u001B[1;32m~\\Documents\\Master_Semester_1\\IDP\\endemo2\\endemo2\\output\\output_utility.py:358\u001B[0m, in \u001B[0;36msave_multiple_series_plot\u001B[1;34m(input_manager, folder, tdss, labels, x_label, y_label, country_name, product_name)\u001B[0m\n\u001B[0;32m    355\u001B[0m colors \u001B[38;5;241m=\u001B[39m itertools\u001B[38;5;241m.\u001B[39mcycle(sns\u001B[38;5;241m.\u001B[39mcolor_palette())\n\u001B[0;32m    357\u001B[0m \u001B[38;5;28;01mfor\u001B[39;00m series, label \u001B[38;5;129;01min\u001B[39;00m \u001B[38;5;28mlist\u001B[39m(\u001B[38;5;28mzip\u001B[39m(tdss, labels)):\n\u001B[1;32m--> 358\u001B[0m     \u001B[43madd_series_to_plot_simple\u001B[49m\u001B[43m(\u001B[49m\u001B[43mseries\u001B[49m\u001B[43m,\u001B[49m\u001B[43m \u001B[49m\u001B[43mcolors\u001B[49m\u001B[43m,\u001B[49m\u001B[43m \u001B[49m\u001B[43mlabel\u001B[49m\u001B[43m)\u001B[49m\n\u001B[0;32m    360\u001B[0m image_label \u001B[38;5;241m=\u001B[39m product_name \u001B[38;5;241m+\u001B[39m \u001B[38;5;124m\"\u001B[39m\u001B[38;5;124m - \u001B[39m\u001B[38;5;124m\"\u001B[39m \u001B[38;5;241m+\u001B[39m country_name\n\u001B[0;32m    362\u001B[0m plt\u001B[38;5;241m.\u001B[39mtitle(image_label)\n",
      "File \u001B[1;32m~\\Documents\\Master_Semester_1\\IDP\\endemo2\\endemo2\\output\\output_utility.py:336\u001B[0m, in \u001B[0;36madd_series_to_plot_simple\u001B[1;34m(series, colors, label)\u001B[0m\n\u001B[0;32m    334\u001B[0m \u001B[38;5;66;03m# get coef function\u001B[39;00m\n\u001B[0;32m    335\u001B[0m (start, end) \u001B[38;5;241m=\u001B[39m get_year_range([series])\n\u001B[1;32m--> 336\u001B[0m x_extrapol \u001B[38;5;241m=\u001B[39m \u001B[38;5;28;43mrange\u001B[39;49m\u001B[43m(\u001B[49m\u001B[43mstart\u001B[49m\u001B[43m,\u001B[49m\u001B[43m \u001B[49m\u001B[43mend\u001B[49m\u001B[43m \u001B[49m\u001B[38;5;241;43m+\u001B[39;49m\u001B[43m \u001B[49m\u001B[38;5;241;43m2\u001B[39;49m\u001B[43m)\u001B[49m\n\u001B[0;32m    337\u001B[0m coef_func \u001B[38;5;241m=\u001B[39m []\n\u001B[0;32m    338\u001B[0m \u001B[38;5;28;01mmatch\u001B[39;00m method:\n\u001B[0;32m    339\u001B[0m     \u001B[38;5;28;01mcase\u001B[39;00m ForecastMethod\u001B[38;5;241m.\u001B[39mLINEAR:\n\u001B[0;32m    340\u001B[0m         \u001B[38;5;66;03m# Plot linear regression\u001B[39;00m\n\u001B[1;32m   (...)\u001B[0m\n\u001B[0;32m    346\u001B[0m         \u001B[38;5;66;03m# Plot exp regression\u001B[39;00m\n\u001B[0;32m    347\u001B[0m         coef_func \u001B[38;5;241m=\u001B[39m [uty\u001B[38;5;241m.\u001B[39mexp_change((coef\u001B[38;5;241m.\u001B[39m_exp[\u001B[38;5;241m0\u001B[39m][\u001B[38;5;241m0\u001B[39m], coef\u001B[38;5;241m.\u001B[39m_exp[\u001B[38;5;241m0\u001B[39m][\u001B[38;5;241m1\u001B[39m]), coef\u001B[38;5;241m.\u001B[39m_exp[\u001B[38;5;241m1\u001B[39m], e) \u001B[38;5;28;01mfor\u001B[39;00m e \u001B[38;5;129;01min\u001B[39;00m x_extrapol]\n",
      "\u001B[1;31mTypeError\u001B[0m: 'float' object cannot be interpreted as an integer"
     ]
    },
    {
     "data": {
      "text/plain": "<Figure size 640x480 with 1 Axes>",
      "image/png": "[encoded data removed]"
     },
     "metadata": {},
     "output_type": "display_data"
    }
   ],
   "source": [
    "from endemo2 import endemo\n",
    "import warnings\n",
    "import numpy as np\n",
    "\n",
    "warnings.simplefilter('ignore', np.RankWarning)\n",
    "warnings.simplefilter('ignore', UserWarning)\n",
    "\n",
    "model_instance = endemo.Endemo()\n",
    "model_instance.execute_with_preprocessing()\n"
   ],
   "metadata": {
    "collapsed": false
   }
  },
  {
   "cell_type": "code",
   "execution_count": 3,
   "outputs": [
    {
     "name": "stdout",
     "output_type": "stream",
     "text": [
      "Updating settings for new scenario...\n"
     ]
    },
    {
     "ename": "AttributeError",
     "evalue": "'NoneType' object has no attribute 'update_set_and_control_parameters'",
     "output_type": "error",
     "traceback": [
      "\u001B[1;31m---------------------------------------------------------------------------\u001B[0m",
      "\u001B[1;31mAttributeError\u001B[0m                            Traceback (most recent call last)",
      "Cell \u001B[1;32mIn[3], line 2\u001B[0m\n\u001B[0;32m      1\u001B[0m \u001B[38;5;66;03m# instance 2\u001B[39;00m\n\u001B[1;32m----> 2\u001B[0m \u001B[43mmodel_instance\u001B[49m\u001B[38;5;241;43m.\u001B[39;49m\u001B[43mexecute_without_preprocessing\u001B[49m\u001B[43m(\u001B[49m\u001B[43m)\u001B[49m\n",
      "File \u001B[1;32m~\\Documents\\Master_Semester_1\\IDP\\endemo2\\endemo2\\endemo.py:54\u001B[0m, in \u001B[0;36mEndemo.execute_without_preprocessing\u001B[1;34m(self)\u001B[0m\n\u001B[0;32m     49\u001B[0m \u001B[38;5;28;01mdef\u001B[39;00m \u001B[38;5;21mexecute_without_preprocessing\u001B[39m(\u001B[38;5;28mself\u001B[39m):\n\u001B[0;32m     50\u001B[0m \u001B[38;5;250m    \u001B[39m\u001B[38;5;124;03m\"\"\"\u001B[39;00m\n\u001B[0;32m     51\u001B[0m \u001B[38;5;124;03m    Executes only the model with the updated settings.\u001B[39;00m\n\u001B[0;32m     52\u001B[0m \u001B[38;5;124;03m    Builds upon, but does not recalculate preprocessing.\u001B[39;00m\n\u001B[0;32m     53\u001B[0m \u001B[38;5;124;03m    \"\"\"\u001B[39;00m\n\u001B[1;32m---> 54\u001B[0m     \u001B[38;5;28;43mself\u001B[39;49m\u001B[38;5;241;43m.\u001B[39;49m\u001B[43mupdate_settings\u001B[49m\u001B[43m(\u001B[49m\u001B[43m)\u001B[49m\n\u001B[0;32m     55\u001B[0m     \u001B[38;5;28mself\u001B[39m\u001B[38;5;241m.\u001B[39mcreate_instance()\n\u001B[0;32m     56\u001B[0m     \u001B[38;5;28mself\u001B[39m\u001B[38;5;241m.\u001B[39mwrite_model_output()\n",
      "File \u001B[1;32m~\\Documents\\Master_Semester_1\\IDP\\endemo2\\endemo2\\endemo.py:62\u001B[0m, in \u001B[0;36mEndemo.update_settings\u001B[1;34m(self)\u001B[0m\n\u001B[0;32m     60\u001B[0m \u001B[38;5;66;03m# read input_and_settings, TODO: separate the instance settings from pre-preprocessing settings\u001B[39;00m\n\u001B[0;32m     61\u001B[0m \u001B[38;5;28mprint\u001B[39m(\u001B[38;5;124m\"\u001B[39m\u001B[38;5;124mUpdating settings for new scenario...\u001B[39m\u001B[38;5;124m\"\u001B[39m)\n\u001B[1;32m---> 62\u001B[0m \u001B[38;5;28;43mself\u001B[39;49m\u001B[38;5;241;43m.\u001B[39;49m\u001B[43minput_manager\u001B[49m\u001B[38;5;241;43m.\u001B[39;49m\u001B[43mupdate_set_and_control_parameters\u001B[49m()\n\u001B[0;32m     63\u001B[0m \u001B[38;5;28mprint\u001B[39m(\u001B[38;5;124m\"\u001B[39m\u001B[38;5;124mSettings were successfully updated.\u001B[39m\u001B[38;5;124m\"\u001B[39m)\n",
      "\u001B[1;31mAttributeError\u001B[0m: 'NoneType' object has no attribute 'update_set_and_control_parameters'"
     ]
    }
   ],
   "source": [
    "# instance 2\n",
    "model_instance.execute_without_preprocessing()"
   ],
   "metadata": {
    "collapsed": false,
    "ExecuteTime": {
     "end_time": "2023-08-09T13:55:24.469836600Z",
     "start_time": "2023-08-09T13:55:24.419910Z"
    }
   }
  },
  {
   "cell_type": "code",
   "execution_count": 1,
   "outputs": [
    {
     "data": {
      "text/plain": "(1999.0, 2001.0)"
     },
     "execution_count": 1,
     "metadata": {},
     "output_type": "execute_result"
    }
   ],
   "source": [
    "# instance 3\n",
    "model_instance.execute_without_preprocessing()"
   ],
   "metadata": {
    "collapsed": false,
    "ExecuteTime": {
     "end_time": "2023-08-10T08:20:48.621306800Z",
     "start_time": "2023-08-10T08:20:47.380379600Z"
    }
   }
  },
  {
   "cell_type": "markdown",
   "source": [
    "### Check if settings were read correctly"
   ],
   "metadata": {
    "collapsed": false,
    "ExecuteTime": {
     "end_time": "2023-08-10T08:09:11.880678400Z",
     "start_time": "2023-08-10T08:09:11.861278700Z"
    }
   },
   "outputs": [
    {
     "data": {
      "text/plain": "5"
     },
     "execution_count": 4,
     "metadata": {},
     "output_type": "execute_result"
    }
   ],
   "execution_count": 4
  },
  {
   "cell_type": "code",
   "execution_count": null,
   "outputs": [],
   "source": [
    "# general settings\n",
    "gs = model_instance.input_manager.ctrl.general_settings\n",
    "print(\"Forecast year: \" + str(gs.target_year))\n",
    "print(\"Active sectors: \" + str(gs.get_active_sectors()))\n",
    "# print(\"Population Forecast: \" + input_manager.ctrl.general_settings.population_forecast)\n",
    "#print(\"Timeseries Forecast: \" + ...)\n",
    "# nuts ...\n",
    "# world\n",
    "# nuts2 classification\n",
    "# graphical output\n",
    "# calculate final energy demand"
   ],
   "metadata": {
    "collapsed": false
   }
  },
  {
   "cell_type": "code",
   "execution_count": null,
   "outputs": [],
   "source": [
    "print(\"Active Countries: \\n\" + str(gs.active_countries))"
   ],
   "metadata": {
    "collapsed": false
   }
  },
  {
   "cell_type": "code",
   "execution_count": null,
   "outputs": [],
   "source": [
    "# industry settings\n",
    "inds = model_instance.input_manager.ctrl.industry_settings\n",
    "print(\"Forecast method: \" + str(inds.forecast_method))\n",
    "# print(\"Timetrendmodel for u-shape\")\n",
    "print(\"Calculated per capita: \" + str(inds.production_quantity_calc_per_capita))\n",
    "print(\"Calc Specific Energy Requirements: \" + str(inds.trend_calc_for_spec))\n",
    "print(\"H2 subst of heat: \" + str(inds.h2_subst_of_heat))\n",
    "# print(nuts2...)\n",
    "print(\"Skip years: \" + str(inds.skip_years))\n",
    "print(\"Last available year (excluding): \" + str(inds.last_available_year))"
   ],
   "metadata": {
    "collapsed": false
   }
  },
  {
   "cell_type": "markdown",
   "source": [
    "## Test Utility functions\n",
    "### Test Regression"
   ],
   "metadata": {
    "collapsed": false
   }
  },
  {
   "cell_type": "code",
   "execution_count": null,
   "outputs": [],
   "source": [
    "import endemo2.utility as uty\n",
    "\n",
    "# Test Linear Regression\n",
    "\n",
    "x = [2003, 2004, 2005, 2006, 2007, 2008, 2009, 2010, 2011]\n",
    "y = [1258.809906,1259.17278,1259.17278,1111.120188,1063.946568,1124.9094,1100.233968,1100.233968,1095.153732]\n",
    "data = list(zip(x, y))\n",
    "\n",
    "uty.linear_regression(data, visualize=True)\n",
    "\n",
    "# Test Quadratic Regression\n",
    "\n",
    "x = [6, 9, 12, 12, 15, 21, 24, 24, 27, 30, 36, 39, 45, 48, 57, 60]\n",
    "y = [12, 18, 30, 42, 48, 78, 90, 96, 96, 90, 84, 78, 66, 54, 36, 24]\n",
    "data = list(zip(x, y))\n",
    "\n",
    "uty.quadratic_regression(data, visualize=True)\n"
   ],
   "metadata": {
    "collapsed": false
   }
  },
  {
   "cell_type": "markdown",
   "source": [
    "### Test filter out NaN and Inf"
   ],
   "metadata": {
    "collapsed": false
   }
  },
  {
   "cell_type": "code",
   "execution_count": null,
   "outputs": [],
   "source": [
    "import numpy as np\n",
    "import math\n",
    "import endemo2.utility as uty\n",
    "\n",
    "x = [6, 9, 12, 12, 15, 21, 24, 24, 27, 30, 36, 39, 45, 48, 57, 60]\n",
    "y = [12, np.NaN, np.inf, 42, 48, 78, 90, 96, 96, 90, 84, 78, 66, 54, 36, 24]\n",
    "data = list(zip(x, y))\n",
    "\n",
    "uty.filter_out_nan_and_inf(data)"
   ],
   "metadata": {
    "collapsed": false
   }
  },
  {
   "cell_type": "markdown",
   "source": [
    "### Combining Data on the x axis\n",
    "\n",
    "Attention! If the x axis is ascending for both data arrays, use ascending_x=True for better performance!"
   ],
   "metadata": {
    "collapsed": false
   }
  },
  {
   "cell_type": "code",
   "execution_count": null,
   "outputs": [],
   "source": [
    "import endemo2.utility as uty\n",
    "\n",
    "a = [(1, 100), (2, 200), (3, 300), (4, 400), (5, 500)]\n",
    "b = [(2, 2000), (3, 3000), (5, 5000)]\n",
    "\n",
    "print(uty.combine_data_on_x(a, b, ascending_x=True))\n",
    "\n",
    "a = [(1, 100), (2, 200), (3, 300), (4, 400), (5, 500)]\n",
    "b = [(3, 3000),(2, 2000),  (5, 5000)]\n",
    "\n",
    "print(uty.combine_data_on_x(a, b))\n"
   ],
   "metadata": {
    "collapsed": false
   }
  },
  {
   "cell_type": "markdown",
   "source": [
    "### Zip on X explained"
   ],
   "metadata": {
    "collapsed": false
   }
  },
  {
   "cell_type": "code",
   "execution_count": null,
   "outputs": [],
   "source": [
    "import endemo2.utility as uty\n",
    "\n",
    "a = [(1, 100), (2, 200), (3, 300), (4, 400), (5, 500)]\n",
    "b = [(2, 2000), (3, 3000), (5, 5000)]\n",
    "\n",
    "print(list(uty.zip_on_x(a, b)))"
   ],
   "metadata": {
    "collapsed": false
   }
  },
  {
   "cell_type": "code",
   "execution_count": null,
   "outputs": [],
   "source": [
    "import endemo2.utility as uty\n",
    "\n",
    "amount = [(1998, 10), (2001, 12), (2003, 11), (2006, 13)]\n",
    "population = [(2000, 10000), (2001, 11000), (2002, 12000), (2003, 13000), (2004, 14000), (2005, 14000), (2006, 15000)]\n",
    "gdp = [(2000, 20), (2001, 30), (2002, 20), (2003, 30), (2004, 40), (2005, 50), (2006, 60)]\n",
    "\n",
    "zip_amount_pop = list(uty.zip_on_x(amount, population))\n",
    "\n",
    "print(\"zipped amount & population: \" + str(zip_amount_pop))\n",
    "print(\"Transformed amount to per capita: \" + str(list(map(lambda arg: (arg[0][0], arg[0][1] / arg[1][1]), zip_amount_pop))))"
   ],
   "metadata": {
    "collapsed": false
   }
  },
  {
   "cell_type": "code",
   "execution_count": null,
   "outputs": [],
   "source": [
    "import endemo2.utility as uty\n",
    "\n",
    "x = [(2000, 20), (2001, 30), (2002, 20), (2003, 30), (2004, 40), (2005, 50), (2006, 60)]\n",
    "uty.cut_after_x(x, 2002)\n"
   ],
   "metadata": {
    "collapsed": false
   }
  },
  {
   "cell_type": "code",
   "execution_count": null,
   "outputs": [],
   "source": [
    "x[:len(x)-1]"
   ],
   "metadata": {
    "collapsed": false
   }
  },
  {
   "cell_type": "code",
   "execution_count": null,
   "outputs": [],
   "source": [
    "from endemo2.data_structures.containers import Demand, Heat\n",
    "d0:Demand = Demand()\n",
    "print(str(d0))\n",
    "d1 = Demand(1, Heat(1, 1, 1, 1), 1)\n",
    "print(str(d1))\n",
    "d2 = Demand(1, Heat(1, 1, 1, 1), 1)\n",
    "print(str(d2))\n",
    "d3 = Demand(1, Heat(1, 1, 1, 1), 1)\n",
    "print(str(d3))\n",
    "d0.add(d1)\n",
    "d0.add(d2)\n",
    "d0.add(d3)\n",
    "print(str(d0))\n",
    "\n"
   ],
   "metadata": {
    "collapsed": false
   }
  },
  {
   "cell_type": "code",
   "execution_count": null,
   "outputs": [],
   "source": [],
   "metadata": {
    "collapsed": false
   }
  }
 ],
 "metadata": {
  "kernelspec": {
   "display_name": "Python 3 (ipykernel)",
   "language": "python",
   "name": "python3"
  },
  "language_info": {
   "codemirror_mode": {
    "name": "ipython",
    "version": 3
   },
   "file_extension": ".py",
   "mimetype": "text/x-python",
   "name": "python",
   "nbconvert_exporter": "python",
   "pygments_lexer": "ipython3",
   "version": "3.10.11"
  }
 },
 "nbformat": 4,
 "nbformat_minor": 1
}
