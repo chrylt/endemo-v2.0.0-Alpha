{
 "cells": [
  {
   "cell_type": "markdown",
   "metadata": {},
   "source": [
    "# Endemo 2 - Useful Energy Demand Model Rework"
   ]
  },
  {
   "cell_type": "markdown",
   "metadata": {},
   "source": [
    "## Industry Sector\n",
    "\n"
   ]
  },
  {
   "cell_type": "markdown",
   "source": [
    "### Import Packages"
   ],
   "metadata": {
    "collapsed": false
   }
  },
  {
   "cell_type": "code",
   "execution_count": 1,
   "outputs": [],
   "source": [
    "import pathlib\n",
    "\n",
    "import xlrd as x\n",
    "import pandas as pd\n",
    "from pathlib import Path\n",
    "import os"
   ],
   "metadata": {
    "collapsed": false
   }
  },
  {
   "cell_type": "markdown",
   "source": [
    "### Import Custom Classes"
   ],
   "metadata": {
    "collapsed": false
   }
  },
  {
   "cell_type": "code",
   "execution_count": 2,
   "outputs": [
    {
     "name": "stderr",
     "output_type": "stream",
     "text": [
      "C:\\Users\\Chris\\Documents\\Master_Semester_1\\IDP\\endemo2\\ControlParameters.py:26: SyntaxWarning: \"is\" with a literal. Did you mean \"==\"?\n",
      "  return [sector for (sector, isActive) in self._sectors_active_values.items() if isActive is 1]\n"
     ]
    }
   ],
   "source": [
    "from control_parameters import ControlParameters\n",
    "from industry_sector import Industry\n",
    "from household_sector import Household\n",
    "from transport_sector import Transport\n",
    "from commercial_trade_services_sector import CommercialTradeServices\n",
    "from countries import Countries"
   ],
   "metadata": {
    "collapsed": false
   }
  },
  {
   "cell_type": "markdown",
   "source": [
    "### Associate strings with code\n",
    "\n",
    "SECTOR_NAME_TO_OBJECT_MAP: necessary to connect the activated sectors in Set_and_Control_Parameters.xlsl with the code execution"
   ],
   "metadata": {
    "collapsed": false
   }
  },
  {
   "cell_type": "code",
   "execution_count": 3,
   "outputs": [],
   "source": [
    "SECTOR_NAME_TO_OBJECT_MAP = dict({\"industry\":Industry(), \"households\":Household(), \"transport\":Transport(), \"commertial, trade, services\":CommercialTradeServices()})\n",
    "\n",
    "\n"
   ],
   "metadata": {
    "collapsed": false
   }
  },
  {
   "cell_type": "markdown",
   "source": [
    "### Set Input Paths"
   ],
   "metadata": {
    "collapsed": false
   }
  },
  {
   "cell_type": "code",
   "execution_count": 4,
   "outputs": [
    {
     "name": "stdout",
     "output_type": "stream",
     "text": [
      "Input folder at C:\\Users\\Chris\\Documents\\Master_Semester_1\\IDP\\endemo2\\input\n"
     ]
    }
   ],
   "source": [
    "# change path to point to your endemo2 folder\n",
    "\n",
    "super_path = Path(os.path.abspath(''))\n",
    "input_path = super_path / 'input'\n",
    "print(\"Input folder at \" + str(input_path))\n",
    "\n",
    "general_path = input_path / 'general'\n",
    "industry_path = input_path / 'industry'\n"
   ],
   "metadata": {
    "collapsed": false
   }
  },
  {
   "cell_type": "markdown",
   "source": [
    "### Read control parameters"
   ],
   "metadata": {
    "collapsed": false
   }
  },
  {
   "cell_type": "code",
   "execution_count": 5,
   "outputs": [
    {
     "name": "stdout",
     "output_type": "stream",
     "text": [
      "sectors_active_values: {'industry': 1, 'households': 1, 'transport': 1, 'commertial, trade, services': 1}\n",
      "parameter_values: {'Forecast year': 2050, 'Population forecast': 1, 'Timeseries forecast': 1, 'NUTS2 geographical resolution': 1, 'World calculation': 0, 'NUTS2 classification': 2016, 'Graphical output': 1}\n"
     ]
    }
   ],
   "source": [
    "set_and_control_parameters = pd.read_excel(input_path / 'Set_and_Control_Parameters.xlsx')\n",
    "ctrl = ControlParameters(set_and_control_parameters)\n",
    "print(ctrl)"
   ],
   "metadata": {
    "collapsed": false
   }
  },
  {
   "cell_type": "markdown",
   "source": [
    "### Read available countries"
   ],
   "metadata": {
    "collapsed": false
   }
  },
  {
   "cell_type": "code",
   "execution_count": 9,
   "outputs": [
    {
     "data": {
      "text/plain": "{'Afghanistan',\n 'Albania',\n 'Algeria',\n 'American Samoa',\n 'Andorra',\n 'Angola',\n 'Anguilla',\n 'Antarctica',\n 'Antigua and Barbuda',\n 'Argentina',\n 'Armenia',\n 'Aruba',\n 'Australia',\n 'Austria',\n 'Azerbaijan',\n 'Bahamas',\n 'Bahrain',\n 'Bangladesh',\n 'Barbados',\n 'Belarus',\n 'Belgium',\n 'Belize',\n 'Benin',\n 'Bermuda',\n 'Bhutan',\n 'Bolivia',\n 'Bonaire, Sint Eustatius and Saba',\n 'Bosnia and Herzegovina',\n 'Botswana',\n 'Bouvet Island',\n 'Brazil',\n 'British Indian Ocean Territory',\n 'Brunei Darussalam',\n 'Bulgaria',\n 'Burkina Faso',\n 'Burundi',\n 'Cabo Verde',\n 'Cambodia',\n 'Cameroon',\n 'Canada',\n 'Cayman Islands',\n 'Central African Republic',\n 'Chad',\n 'Chile',\n 'China',\n 'Christmas Island',\n 'Cocos (Keeling) Islands',\n 'Colombia',\n 'Comoros',\n 'Congo',\n 'Cook Islands',\n 'Costa Rica',\n 'Croatia',\n 'Cuba',\n 'Curaçao',\n 'Cyprus',\n 'Czechia',\n \"Côte d'Ivoire\",\n 'DR Congo',\n 'Denmark',\n 'Djibouti',\n 'Dominica',\n 'Dominican Republic',\n 'Ecuador',\n 'Egypt',\n 'El Salvador',\n 'Equatorial Guinea',\n 'Eritrea',\n 'Estonia',\n 'Eswatini',\n 'Ethiopia',\n 'Falkland Islands [Malvinas]',\n 'Faroe Islands',\n 'Fiji',\n 'Finland',\n 'France',\n 'French Guiana',\n 'French Polynesia',\n 'French Southern Territories',\n 'Gabon',\n 'Gambia',\n 'Georgia',\n 'Germany',\n 'Ghana',\n 'Gibraltar',\n 'Greece',\n 'Greenland',\n 'Grenada',\n 'Guadeloupe',\n 'Guam',\n 'Guatemala',\n 'Guernsey',\n 'Guinea',\n 'Guinea-Bissau',\n 'Guyana',\n 'Haiti',\n 'Heard Island and McDonald Islands',\n 'Holy See',\n 'Honduras',\n 'Hong Kong (China)',\n 'Hungary',\n 'Iceland',\n 'India',\n 'Indonesia',\n 'Iran',\n 'Iraq',\n 'Ireland',\n 'Isle of Man',\n 'Israel',\n 'Italy',\n 'Jamaica',\n 'Japan',\n 'Jersey',\n 'Jordan',\n 'Kazakhstan',\n 'Kenya',\n 'Kiribati',\n 'Korea',\n 'Korea DPR',\n 'Kosovo',\n 'Kuwait',\n 'Kyrgyzstan',\n 'Lao PDR',\n 'Latvia',\n 'Lebanon',\n 'Lesotho',\n 'Liberia',\n 'Libya',\n 'Liechtenstein',\n 'Lithuania',\n 'Luxembourg',\n 'Macao (China)',\n 'Madagascar',\n 'Malawi',\n 'Malaysia',\n 'Maldives',\n 'Mali',\n 'Malta',\n 'Marshall Islands',\n 'Martinique',\n 'Mauritania',\n 'Mauritius',\n 'Mayotte',\n 'Mexico',\n 'Micronesia',\n 'Moldova',\n 'Monaco',\n 'Mongolia',\n 'Montenegro',\n 'Montserrat',\n 'Morocco',\n 'Mozambique',\n 'Myanmar',\n 'Namibia',\n 'Nauru',\n 'Nepal',\n 'Netherlands',\n 'New Caledonia',\n 'New Zealand',\n 'Nicaragua',\n 'Niger',\n 'Nigeria',\n 'Niue',\n 'Norfolk Island',\n 'North Macedonia',\n 'Northern Mariana Islands',\n 'Norway',\n 'Oman',\n 'Pakistan',\n 'Palau',\n 'Palestine',\n 'Panama',\n 'Papua New Guinea',\n 'Paraguay',\n 'Peru',\n 'Philippines',\n 'Pitcairn',\n 'Poland',\n 'Portugal',\n 'Puerto Rico',\n 'Qatar',\n 'Romania',\n 'Russian Federation',\n 'Rwanda',\n 'Réunion',\n 'Saint Barthélemy',\n 'Saint Helena, Ascension and Tristan da Cunha',\n 'Saint Kitts and Nevis',\n 'Saint Lucia',\n 'Saint Martin (French part)',\n 'Saint Pierre and Miquelon',\n 'Saint Vincent and the Grenadines',\n 'Samoa',\n 'San Marino',\n 'Sao Tome and Principe',\n 'Saudi Arabia',\n 'Senegal',\n 'Serbia',\n 'Seychelles',\n 'Sierra Leone',\n 'Singapore',\n 'Sint Maarten (Dutch part)',\n 'Slovakia',\n 'Slovenia',\n 'Solomon Islands',\n 'Somalia',\n 'South Africa',\n 'South Georgia and the South Sandwich Islands',\n 'South Sudan',\n 'Spain',\n 'Sri Lanka',\n 'Sudan',\n 'Suriname',\n 'Svalbard and Jan Mayen',\n 'Sweden',\n 'Switzerland',\n 'Syria',\n 'Taiwan (China)',\n 'Tajikistan',\n 'Tanzania',\n 'Thailand',\n 'Timor-Leste',\n 'Togo',\n 'Tokelau',\n 'Tonga',\n 'Trinidad and Tobago',\n 'Tunisia',\n 'Turkey',\n 'Turkmenistan',\n 'Turks and Caicos Islands',\n 'Tuvalu',\n 'Uganda',\n 'Ukraine',\n 'United Arab Emirates',\n 'United Kingdom',\n 'United Kingdom of Great Britain and Northern Ireland',\n 'United States Minor Outlying Islands',\n 'United States of America',\n 'Uruguay',\n 'Uzbekistan',\n 'Vanuatu',\n 'Venezuela',\n 'Vietnam',\n 'Virgin Islands (British)',\n 'Virgin Islands (U.S.)',\n 'Wallis and Futuna',\n 'Western Sahara',\n 'Yemen',\n 'Zambia',\n 'Zimbabwe',\n 'Åland Islands'}"
     },
     "execution_count": 9,
     "metadata": {},
     "output_type": "execute_result"
    }
   ],
   "source": [
    "abbreviations = pd.read_excel(general_path / 'Abbreviations.xlsx')\n",
    "countries = Countries(abbreviations)\n",
    "print(countries)"
   ],
   "metadata": {
    "collapsed": false,
    "ExecuteTime": {
     "end_time": "2023-05-02T14:54:01.256734100Z",
     "start_time": "2023-05-02T14:54:01.188412500Z"
    }
   }
  },
  {
   "cell_type": "markdown",
   "source": [
    "### Read production data"
   ],
   "metadata": {
    "collapsed": false
   }
  },
  {
   "cell_type": "code",
   "execution_count": 6,
   "outputs": [],
   "source": [
    "\n",
    "products = {'Aluminium', 'Ammonia', 'Aromate', 'Cement', 'Chlorin', 'Cooper', 'Ethylene', 'Glass', 'Paper', 'Propylene', 'Steel'}\n",
    "\n",
    "for product in products:\n",
    "    file_name = product + \"_Production.xlsx\"\n",
    "    # todo: read file and create product object (product class needs to be implemented first"
   ],
   "metadata": {
    "collapsed": false
   }
  }
 ],
 "metadata": {
  "kernelspec": {
   "display_name": "Python 3 (ipykernel)",
   "language": "python",
   "name": "python3"
  },
  "language_info": {
   "codemirror_mode": {
    "name": "ipython",
    "version": 3
   },
   "file_extension": ".py",
   "mimetype": "text/x-python",
   "name": "python",
   "nbconvert_exporter": "python",
   "pygments_lexer": "ipython3",
   "version": "3.10.11"
  }
 },
 "nbformat": 4,
 "nbformat_minor": 1
}
