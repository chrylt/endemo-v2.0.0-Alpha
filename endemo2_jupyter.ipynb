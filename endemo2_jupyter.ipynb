{
 "cells": [
  {
   "cell_type": "markdown",
   "metadata": {},
   "source": [
    "# Endemo - Useful Energy Demand Model"
   ]
  },
  {
   "cell_type": "markdown",
   "source": [
    "## Create Input Manager"
   ],
   "metadata": {
    "collapsed": false
   }
  },
  {
   "cell_type": "code",
   "execution_count": 1,
   "outputs": [
    {
     "name": "stdout",
     "output_type": "stream",
     "text": [
      "Reading Input ...\n",
      "{'ES42', 'UKF1', 'ITC3', 'DE25', 'SE23', 'NL41', 'UKM5', 'ITC2', 'PL72', 'FRF2', 'ITF5', 'FRC1', 'NL12', 'UKG3', 'DE30', 'ITI4', 'ITG2', 'DEA5', 'ES41', 'UKJ2', 'UKF3', 'LT02', 'UKK2', 'EL43', 'EE00', 'UKI3', 'AT33', 'MT00', 'FRM0', 'ES52', 'FRF1', 'EL52', 'FRK2', 'SI03', 'PT11', 'SK02', 'ES53', 'EL42', 'PL63', 'UKE1', 'EL54', 'ES22', 'DEB2', 'CH05', 'DE26', 'NL23', 'DE13', 'ES24', 'UKD1', 'HU21', 'NL42', 'CZ06', 'FRJ1', 'FRD2', 'UKH3', 'DEA3', 'BG41', 'FRC2', 'ITC1', 'FRG0', 'UKJ1', 'RS21', 'NL22', 'UKC2', 'AT21', 'UKC1', 'FI1D', 'FRE2', 'EL53', 'SI04', 'RO31', 'UKF2', 'DE60', 'BE34', 'EL41', 'ITF2', 'RO21', 'AT11', 'ITC4', 'LV00', 'PT17', 'DEB3', 'DEG0', 'CH03', 'ES64', 'CZ07', 'ES51', 'UKM8', 'BE32', 'DK02', 'FRB0', 'HU11', 'DE93', 'CZ08', 'RO42', 'EL51', 'CH02', 'BG32', 'ITI2', 'NO06', 'ITF6', 'SE12', 'UKD7', 'DE50', 'FI1C', 'SE21', 'IE06', 'PL42', 'ES21', 'RS22', 'ITG1', 'UKG2', 'BE22', 'UKD6', 'IS00', 'FI1B', 'NL31', 'UKI5', 'NO01', 'DED2', 'CZ04', 'DEC0', 'PL81', 'CY00', 'ITI1', 'ES30', 'FI20', 'DEF0', 'SE22', 'NL32', 'BE21', 'DED4', 'CZ05', 'NL21', 'PL61', 'FRD1', 'BG31', 'NL11', 'RO32', 'FRH0', 'ITH5', 'LI00', 'FRJ2', 'PL22', 'DE24', 'FR10', 'DE12', 'PT16', 'AT34', 'ITI3', 'DED5', 'DE11', 'EL63', 'ITF4', 'UKH2', 'DE91', 'HU32', 'ITH2', 'AL03', 'UKE3', 'UKG1', 'BE31', 'BE23', 'PL91', 'EL65', 'DEE0', 'HU23', 'DE92', 'HR04', 'PT15', 'HU31', 'UKD4', 'HU33', 'NL34', 'NO02', 'RO41', 'FRF3', 'UKK4', 'DE80', 'NO04', 'UKL2', 'BE25', 'DEA4', 'CZ01', 'EL64', 'FRY1', 'CZ02', 'RO12', 'PL82', 'RS12', 'HR03', 'ES11', 'PL21', 'DK01', 'ES61', 'DE23', 'ES63', 'LU00', 'UKI4', 'CH01', 'SE32', 'MK00', 'DEA2', 'EL61', 'ITH4', 'SK03', 'BG34', 'EL62', 'UKI7', 'RS11', 'ES13', 'NO07', 'DK05', 'SE31', 'BE24', 'DEB1', 'UKI6', 'ES43', 'FRK1', 'PL43', 'PT18', 'PT30', 'DE40', 'DE94', 'BG33', 'PL92', 'FRI1', 'SK01', 'IE05', 'UKM7', 'DE14', 'DE21', 'BG42', 'AT32', 'ES23', 'NO05', 'UKN0', 'FRE1', 'FRY2', 'KO01', 'NL13', 'RO11', 'PL62', 'AT13', 'UKE2', 'DE27', 'ITH3', 'ES70', 'FRY5', 'UKK1', 'DK03', 'UKK3', 'CH06', 'EL30', 'BE35', 'CH04', 'DK04', 'HU12', 'AL01', 'DE22', 'AT31', 'PL84', 'AL02', 'UKD3', 'AT22', 'PT20', 'CH07', 'FI19', 'SE11', 'FRY3', 'UKM6', 'DE73', 'ITF3', 'PL71', 'AT12', 'RO22', 'SE33', 'UKL1', 'BE10', 'CZ03', 'DEA1', 'HU22', 'PL41', 'BE33', 'UKJ4', 'UKE4', 'NL33', 'FRI3', 'UKM9', 'ITF1', 'ME00', 'FRY4', 'IE04', 'DE72', 'ES62', 'PL51', 'UKH1', 'PL52', 'DE71', 'NO03', 'SK04', 'ES12', 'ITH1', 'LT01', 'FRI2', 'FRL0', 'UKJ3', 'BA00'}\n",
      "{'ES42', 'UKF1', 'ITC3', 'DE25', 'SE23', 'NL41', 'UKM5', 'ITC2', 'PL72', 'FRF2', 'ITF5', 'FRC1', 'NL12', 'UKG3', 'DE30', 'ITI4', 'ITG2', 'DEA5', 'ES41', 'UKJ2', 'UKF3', 'LT02', 'UKK2', 'EL43', 'EE00', 'UKI3', 'AT33', 'MT00', 'FRM0', 'ES52', 'FRF1', 'EL52', 'FRK2', 'SI03', 'PT11', 'SK02', 'ES53', 'EL42', 'PL63', 'UKE1', 'EL54', 'ES22', 'DEB2', 'CH05', 'DE26', 'NL23', 'DE13', 'ES24', 'UKD1', 'HU21', 'NL42', 'CZ06', 'FRJ1', 'FRD2', 'UKH3', 'DEA3', 'BG41', 'FRC2', 'ITC1', 'FRG0', 'UKJ1', 'RS21', 'NL22', 'UKC2', 'AT21', 'UKC1', 'FI1D', 'FRE2', 'EL53', 'SI04', 'RO31', 'UKF2', 'DE60', 'BE34', 'EL41', 'ITF2', 'RO21', 'AT11', 'ITC4', 'LV00', 'PT17', 'DEB3', 'DEG0', 'CH03', 'ES64', 'CZ07', 'ES51', 'UKM8', 'BE32', 'DK02', 'FRB0', 'HU11', 'DE93', 'CZ08', 'RO42', 'EL51', 'CH02', 'BG32', 'ITI2', 'NO06', 'ITF6', 'SE12', 'UKD7', 'DE50', 'FI1C', 'SE21', 'IE06', 'PL42', 'ES21', 'RS22', 'ITG1', 'UKG2', 'BE22', 'UKD6', 'IS00', 'FI1B', 'NL31', 'UKI5', 'NO01', 'DED2', 'CZ04', 'DEC0', 'PL81', 'CY00', 'ITI1', 'ES30', 'FI20', 'DEF0', 'SE22', 'NL32', 'BE21', 'DED4', 'CZ05', 'NL21', 'PL61', 'FRD1', 'BG31', 'NL11', 'RO32', 'FRH0', 'ITH5', 'LI00', 'FRJ2', 'PL22', 'DE24', 'FR10', 'DE12', 'PT16', 'AT34', 'ITI3', 'DED5', 'DE11', 'EL63', 'ITF4', 'UKH2', 'DE91', 'HU32', 'ITH2', 'AL03', 'UKE3', 'UKG1', 'BE31', 'BE23', 'PL91', 'EL65', 'DEE0', 'HU23', 'DE92', 'HR04', 'PT15', 'HU31', 'UKD4', 'HU33', 'NL34', 'NO02', 'RO41', 'FRF3', 'UKK4', 'DE80', 'NO04', 'UKL2', 'BE25', 'DEA4', 'CZ01', 'EL64', 'FRY1', 'CZ02', 'RO12', 'PL82', 'RS12', 'HR03', 'ES11', 'PL21', 'DK01', 'ES61', 'DE23', 'ES63', 'LU00', 'UKI4', 'CH01', 'SE32', 'MK00', 'DEA2', 'EL61', 'ITH4', 'SK03', 'BG34', 'EL62', 'UKI7', 'RS11', 'ES13', 'NO07', 'DK05', 'SE31', 'BE24', 'DEB1', 'UKI6', 'ES43', 'FRK1', 'PL43', 'PT18', 'PT30', 'DE40', 'DE94', 'BG33', 'PL92', 'FRI1', 'SK01', 'IE05', 'UKM7', 'DE14', 'DE21', 'BG42', 'AT32', 'ES23', 'NO05', 'UKN0', 'FRE1', 'FRY2', 'KO01', 'NL13', 'RO11', 'PL62', 'AT13', 'UKE2', 'DE27', 'ITH3', 'ES70', 'FRY5', 'UKK1', 'DK03', 'UKK3', 'CH06', 'EL30', 'BE35', 'CH04', 'DK04', 'HU12', 'AL01', 'DE22', 'AT31', 'PL84', 'AL02', 'UKD3', 'AT22', 'PT20', 'CH07', 'FI19', 'SE11', 'FRY3', 'UKM6', 'DE73', 'ITF3', 'PL71', 'AT12', 'RO22', 'SE33', 'UKL1', 'BE10', 'CZ03', 'DEA1', 'HU22', 'PL41', 'BE33', 'UKJ4', 'UKE4', 'NL33', 'FRI3', 'UKM9', 'ITF1', 'ME00', 'FRY4', 'IE04', 'DE72', 'ES62', 'PL51', 'UKH1', 'PL52', 'DE71', 'NO03', 'SK04', 'ES12', 'ITH1', 'LT01', 'FRI2', 'FRL0', 'UKJ3', 'BA00'}\n",
      "{'ES42', 'UKF1', 'ITC3', 'DE25', 'SE23', 'NL41', 'UKM5', 'ITC2', 'PL72', 'FRF2', 'ITF5', 'FRC1', 'NL12', 'UKG3', 'DE30', 'ITI4', 'ITG2', 'DEA5', 'ES41', 'UKJ2', 'UKF3', 'LT02', 'UKK2', 'EL43', 'EE00', 'UKI3', 'AT33', 'MT00', 'FRM0', 'ES52', 'FRF1', 'EL52', 'FRK2', 'SI03', 'PT11', 'SK02', 'ES53', 'EL42', 'PL63', 'UKE1', 'EL54', 'ES22', 'DEB2', 'CH05', 'DE26', 'NL23', 'DE13', 'ES24', 'UKD1', 'HU21', 'NL42', 'CZ06', 'FRJ1', 'FRD2', 'UKH3', 'DEA3', 'BG41', 'FRC2', 'ITC1', 'FRG0', 'UKJ1', 'RS21', 'NL22', 'UKC2', 'AT21', 'UKC1', 'FI1D', 'FRE2', 'EL53', 'SI04', 'RO31', 'UKF2', 'DE60', 'BE34', 'EL41', 'ITF2', 'RO21', 'AT11', 'ITC4', 'LV00', 'PT17', 'DEB3', 'DEG0', 'CH03', 'ES64', 'CZ07', 'ES51', 'UKM8', 'BE32', 'DK02', 'FRB0', 'HU11', 'DE93', 'CZ08', 'RO42', 'EL51', 'CH02', 'BG32', 'ITI2', 'NO06', 'ITF6', 'SE12', 'UKD7', 'DE50', 'FI1C', 'SE21', 'IE06', 'PL42', 'ES21', 'RS22', 'ITG1', 'UKG2', 'BE22', 'UKD6', 'IS00', 'FI1B', 'NL31', 'UKI5', 'NO01', 'DED2', 'CZ04', 'DEC0', 'PL81', 'CY00', 'ITI1', 'ES30', 'FI20', 'DEF0', 'SE22', 'NL32', 'BE21', 'DED4', 'CZ05', 'NL21', 'PL61', 'FRD1', 'BG31', 'NL11', 'RO32', 'FRH0', 'ITH5', 'LI00', 'FRJ2', 'PL22', 'DE24', 'FR10', 'DE12', 'PT16', 'AT34', 'ITI3', 'DED5', 'DE11', 'EL63', 'ITF4', 'UKH2', 'DE91', 'HU32', 'ITH2', 'AL03', 'UKE3', 'UKG1', 'BE31', 'BE23', 'PL91', 'EL65', 'DEE0', 'HU23', 'DE92', 'HR04', 'PT15', 'HU31', 'UKD4', 'HU33', 'NL34', 'NO02', 'RO41', 'FRF3', 'UKK4', 'DE80', 'NO04', 'UKL2', 'BE25', 'DEA4', 'CZ01', 'EL64', 'FRY1', 'CZ02', 'RO12', 'PL82', 'RS12', 'HR03', 'ES11', 'PL21', 'DK01', 'ES61', 'DE23', 'ES63', 'LU00', 'UKI4', 'CH01', 'SE32', 'MK00', 'DEA2', 'EL61', 'ITH4', 'SK03', 'BG34', 'EL62', 'UKI7', 'RS11', 'ES13', 'NO07', 'DK05', 'SE31', 'BE24', 'DEB1', 'UKI6', 'ES43', 'FRK1', 'PL43', 'PT18', 'PT30', 'DE40', 'DE94', 'BG33', 'PL92', 'FRI1', 'SK01', 'IE05', 'UKM7', 'DE14', 'DE21', 'BG42', 'AT32', 'ES23', 'NO05', 'UKN0', 'FRE1', 'FRY2', 'KO01', 'NL13', 'RO11', 'PL62', 'AT13', 'UKE2', 'DE27', 'ITH3', 'ES70', 'FRY5', 'UKK1', 'DK03', 'UKK3', 'CH06', 'EL30', 'BE35', 'CH04', 'DK04', 'HU12', 'AL01', 'DE22', 'AT31', 'PL84', 'AL02', 'UKD3', 'AT22', 'PT20', 'CH07', 'FI19', 'SE11', 'FRY3', 'UKM6', 'DE73', 'ITF3', 'PL71', 'AT12', 'RO22', 'SE33', 'UKL1', 'BE10', 'CZ03', 'DEA1', 'HU22', 'PL41', 'BE33', 'UKJ4', 'UKE4', 'NL33', 'FRI3', 'UKM9', 'ITF1', 'ME00', 'FRY4', 'IE04', 'DE72', 'ES62', 'PL51', 'UKH1', 'PL52', 'DE71', 'NO03', 'SK04', 'ES12', 'ITH1', 'LT01', 'FRI2', 'FRL0', 'UKJ3', 'BA00'}\n",
      "{'ES42', 'UKF1', 'ITC3', 'DE25', 'SE23', 'NL41', 'UKM5', 'ITC2', 'PL72', 'FRF2', 'ITF5', 'FRC1', 'NL12', 'UKG3', 'DE30', 'ITI4', 'ITG2', 'DEA5', 'ES41', 'UKJ2', 'UKF3', 'LT02', 'UKK2', 'EL43', 'EE00', 'UKI3', 'AT33', 'MT00', 'FRM0', 'ES52', 'FRF1', 'EL52', 'FRK2', 'SI03', 'PT11', 'SK02', 'ES53', 'EL42', 'PL63', 'UKE1', 'EL54', 'ES22', 'DEB2', 'CH05', 'DE26', 'NL23', 'DE13', 'ES24', 'UKD1', 'HU21', 'NL42', 'CZ06', 'FRJ1', 'FRD2', 'UKH3', 'DEA3', 'BG41', 'FRC2', 'ITC1', 'FRG0', 'UKJ1', 'RS21', 'NL22', 'UKC2', 'AT21', 'UKC1', 'FI1D', 'FRE2', 'EL53', 'SI04', 'RO31', 'UKF2', 'DE60', 'BE34', 'EL41', 'ITF2', 'RO21', 'AT11', 'ITC4', 'LV00', 'PT17', 'DEB3', 'DEG0', 'CH03', 'ES64', 'CZ07', 'ES51', 'UKM8', 'BE32', 'DK02', 'FRB0', 'HU11', 'DE93', 'CZ08', 'RO42', 'EL51', 'CH02', 'BG32', 'ITI2', 'NO06', 'ITF6', 'SE12', 'UKD7', 'DE50', 'FI1C', 'SE21', 'IE06', 'PL42', 'ES21', 'RS22', 'ITG1', 'UKG2', 'BE22', 'UKD6', 'IS00', 'FI1B', 'NL31', 'UKI5', 'NO01', 'DED2', 'CZ04', 'DEC0', 'PL81', 'CY00', 'ITI1', 'ES30', 'FI20', 'DEF0', 'SE22', 'NL32', 'BE21', 'DED4', 'CZ05', 'NL21', 'PL61', 'FRD1', 'BG31', 'NL11', 'RO32', 'FRH0', 'ITH5', 'LI00', 'FRJ2', 'PL22', 'DE24', 'FR10', 'DE12', 'PT16', 'AT34', 'ITI3', 'DED5', 'DE11', 'EL63', 'ITF4', 'UKH2', 'DE91', 'HU32', 'ITH2', 'AL03', 'UKE3', 'UKG1', 'BE31', 'BE23', 'PL91', 'EL65', 'DEE0', 'HU23', 'DE92', 'HR04', 'PT15', 'HU31', 'UKD4', 'HU33', 'NL34', 'NO02', 'RO41', 'FRF3', 'UKK4', 'DE80', 'NO04', 'UKL2', 'BE25', 'DEA4', 'CZ01', 'EL64', 'FRY1', 'CZ02', 'RO12', 'PL82', 'RS12', 'HR03', 'ES11', 'PL21', 'DK01', 'ES61', 'DE23', 'ES63', 'LU00', 'UKI4', 'CH01', 'SE32', 'MK00', 'DEA2', 'EL61', 'ITH4', 'SK03', 'BG34', 'EL62', 'UKI7', 'RS11', 'ES13', 'NO07', 'DK05', 'SE31', 'BE24', 'DEB1', 'UKI6', 'ES43', 'FRK1', 'PL43', 'PT18', 'PT30', 'DE40', 'DE94', 'BG33', 'PL92', 'FRI1', 'SK01', 'IE05', 'UKM7', 'DE14', 'DE21', 'BG42', 'AT32', 'ES23', 'NO05', 'UKN0', 'FRE1', 'FRY2', 'KO01', 'NL13', 'RO11', 'PL62', 'AT13', 'UKE2', 'DE27', 'ITH3', 'ES70', 'FRY5', 'UKK1', 'DK03', 'UKK3', 'CH06', 'EL30', 'BE35', 'CH04', 'DK04', 'HU12', 'AL01', 'DE22', 'AT31', 'PL84', 'AL02', 'UKD3', 'AT22', 'PT20', 'CH07', 'FI19', 'SE11', 'FRY3', 'UKM6', 'DE73', 'ITF3', 'PL71', 'AT12', 'RO22', 'SE33', 'UKL1', 'BE10', 'CZ03', 'DEA1', 'HU22', 'PL41', 'BE33', 'UKJ4', 'UKE4', 'NL33', 'FRI3', 'UKM9', 'ITF1', 'ME00', 'FRY4', 'IE04', 'DE72', 'ES62', 'PL51', 'UKH1', 'PL52', 'DE71', 'NO03', 'SK04', 'ES12', 'ITH1', 'LT01', 'FRI2', 'FRL0', 'UKJ3', 'BA00'}\n",
      "{'ES42', 'UKF1', 'ITC3', 'DE25', 'SE23', 'NL41', 'UKM5', 'ITC2', 'PL72', 'FRF2', 'ITF5', 'FRC1', 'NL12', 'UKG3', 'DE30', 'ITI4', 'ITG2', 'DEA5', 'ES41', 'UKJ2', 'UKF3', 'LT02', 'UKK2', 'EL43', 'EE00', 'UKI3', 'AT33', 'MT00', 'FRM0', 'ES52', 'FRF1', 'EL52', 'FRK2', 'SI03', 'PT11', 'SK02', 'ES53', 'EL42', 'PL63', 'UKE1', 'EL54', 'ES22', 'DEB2', 'CH05', 'DE26', 'NL23', 'DE13', 'ES24', 'UKD1', 'HU21', 'NL42', 'CZ06', 'FRJ1', 'FRD2', 'UKH3', 'DEA3', 'BG41', 'FRC2', 'ITC1', 'FRG0', 'UKJ1', 'RS21', 'NL22', 'UKC2', 'AT21', 'UKC1', 'FI1D', 'FRE2', 'EL53', 'SI04', 'RO31', 'UKF2', 'DE60', 'BE34', 'EL41', 'ITF2', 'RO21', 'AT11', 'ITC4', 'LV00', 'PT17', 'DEB3', 'DEG0', 'CH03', 'ES64', 'CZ07', 'ES51', 'UKM8', 'BE32', 'DK02', 'FRB0', 'HU11', 'DE93', 'CZ08', 'RO42', 'EL51', 'CH02', 'BG32', 'ITI2', 'NO06', 'ITF6', 'SE12', 'UKD7', 'DE50', 'FI1C', 'SE21', 'IE06', 'PL42', 'ES21', 'RS22', 'ITG1', 'UKG2', 'BE22', 'UKD6', 'IS00', 'FI1B', 'NL31', 'UKI5', 'NO01', 'DED2', 'CZ04', 'DEC0', 'PL81', 'CY00', 'ITI1', 'ES30', 'FI20', 'DEF0', 'SE22', 'NL32', 'BE21', 'DED4', 'CZ05', 'NL21', 'PL61', 'FRD1', 'BG31', 'NL11', 'RO32', 'FRH0', 'ITH5', 'LI00', 'FRJ2', 'PL22', 'DE24', 'FR10', 'DE12', 'PT16', 'AT34', 'ITI3', 'DED5', 'DE11', 'EL63', 'ITF4', 'UKH2', 'DE91', 'HU32', 'ITH2', 'AL03', 'UKE3', 'UKG1', 'BE31', 'BE23', 'PL91', 'EL65', 'DEE0', 'HU23', 'DE92', 'HR04', 'PT15', 'HU31', 'UKD4', 'HU33', 'NL34', 'NO02', 'RO41', 'FRF3', 'UKK4', 'DE80', 'NO04', 'UKL2', 'BE25', 'DEA4', 'CZ01', 'EL64', 'FRY1', 'CZ02', 'RO12', 'PL82', 'RS12', 'HR03', 'ES11', 'PL21', 'DK01', 'ES61', 'DE23', 'ES63', 'LU00', 'UKI4', 'CH01', 'SE32', 'MK00', 'DEA2', 'EL61', 'ITH4', 'SK03', 'BG34', 'EL62', 'UKI7', 'RS11', 'ES13', 'NO07', 'DK05', 'SE31', 'BE24', 'DEB1', 'UKI6', 'ES43', 'FRK1', 'PL43', 'PT18', 'PT30', 'DE40', 'DE94', 'BG33', 'PL92', 'FRI1', 'SK01', 'IE05', 'UKM7', 'DE14', 'DE21', 'BG42', 'AT32', 'ES23', 'NO05', 'UKN0', 'FRE1', 'FRY2', 'KO01', 'NL13', 'RO11', 'PL62', 'AT13', 'UKE2', 'DE27', 'ITH3', 'ES70', 'FRY5', 'UKK1', 'DK03', 'UKK3', 'CH06', 'EL30', 'BE35', 'CH04', 'DK04', 'HU12', 'AL01', 'DE22', 'AT31', 'PL84', 'AL02', 'UKD3', 'AT22', 'PT20', 'CH07', 'FI19', 'SE11', 'FRY3', 'UKM6', 'DE73', 'ITF3', 'PL71', 'AT12', 'RO22', 'SE33', 'UKL1', 'BE10', 'CZ03', 'DEA1', 'HU22', 'PL41', 'BE33', 'UKJ4', 'UKE4', 'NL33', 'FRI3', 'UKM9', 'ITF1', 'ME00', 'FRY4', 'IE04', 'DE72', 'ES62', 'PL51', 'UKH1', 'PL52', 'DE71', 'NO03', 'SK04', 'ES12', 'ITH1', 'LT01', 'FRI2', 'FRL0', 'UKJ3', 'BA00'}\n",
      "{'ES42', 'UKF1', 'ITC3', 'DE25', 'SE23', 'NL41', 'UKM5', 'ITC2', 'PL72', 'FRF2', 'ITF5', 'FRC1', 'NL12', 'UKG3', 'DE30', 'ITI4', 'ITG2', 'DEA5', 'ES41', 'UKJ2', 'UKF3', 'LT02', 'UKK2', 'EL43', 'EE00', 'UKI3', 'AT33', 'MT00', 'FRM0', 'ES52', 'FRF1', 'EL52', 'FRK2', 'SI03', 'PT11', 'SK02', 'ES53', 'EL42', 'PL63', 'UKE1', 'EL54', 'ES22', 'DEB2', 'CH05', 'DE26', 'NL23', 'DE13', 'ES24', 'UKD1', 'HU21', 'NL42', 'CZ06', 'FRJ1', 'FRD2', 'UKH3', 'DEA3', 'BG41', 'FRC2', 'ITC1', 'FRG0', 'UKJ1', 'RS21', 'NL22', 'UKC2', 'AT21', 'UKC1', 'FI1D', 'FRE2', 'EL53', 'SI04', 'RO31', 'UKF2', 'DE60', 'BE34', 'EL41', 'ITF2', 'RO21', 'AT11', 'ITC4', 'LV00', 'PT17', 'DEB3', 'DEG0', 'CH03', 'ES64', 'CZ07', 'ES51', 'UKM8', 'BE32', 'DK02', 'FRB0', 'HU11', 'DE93', 'CZ08', 'RO42', 'EL51', 'CH02', 'BG32', 'ITI2', 'NO06', 'ITF6', 'SE12', 'UKD7', 'DE50', 'FI1C', 'SE21', 'IE06', 'PL42', 'ES21', 'RS22', 'ITG1', 'UKG2', 'BE22', 'UKD6', 'IS00', 'FI1B', 'NL31', 'UKI5', 'NO01', 'DED2', 'CZ04', 'DEC0', 'PL81', 'CY00', 'ITI1', 'ES30', 'FI20', 'DEF0', 'SE22', 'NL32', 'BE21', 'DED4', 'CZ05', 'NL21', 'PL61', 'FRD1', 'BG31', 'NL11', 'RO32', 'FRH0', 'ITH5', 'LI00', 'FRJ2', 'PL22', 'DE24', 'FR10', 'DE12', 'PT16', 'AT34', 'ITI3', 'DED5', 'DE11', 'EL63', 'ITF4', 'UKH2', 'DE91', 'HU32', 'ITH2', 'AL03', 'UKE3', 'UKG1', 'BE31', 'BE23', 'PL91', 'EL65', 'DEE0', 'HU23', 'DE92', 'HR04', 'PT15', 'HU31', 'UKD4', 'HU33', 'NL34', 'NO02', 'RO41', 'FRF3', 'UKK4', 'DE80', 'NO04', 'UKL2', 'BE25', 'DEA4', 'CZ01', 'EL64', 'FRY1', 'CZ02', 'RO12', 'PL82', 'RS12', 'HR03', 'ES11', 'PL21', 'DK01', 'ES61', 'DE23', 'ES63', 'LU00', 'UKI4', 'CH01', 'SE32', 'MK00', 'DEA2', 'EL61', 'ITH4', 'SK03', 'BG34', 'EL62', 'UKI7', 'RS11', 'ES13', 'NO07', 'DK05', 'SE31', 'BE24', 'DEB1', 'UKI6', 'ES43', 'FRK1', 'PL43', 'PT18', 'PT30', 'DE40', 'DE94', 'BG33', 'PL92', 'FRI1', 'SK01', 'IE05', 'UKM7', 'DE14', 'DE21', 'BG42', 'AT32', 'ES23', 'NO05', 'UKN0', 'FRE1', 'FRY2', 'KO01', 'NL13', 'RO11', 'PL62', 'AT13', 'UKE2', 'DE27', 'ITH3', 'ES70', 'FRY5', 'UKK1', 'DK03', 'UKK3', 'CH06', 'EL30', 'BE35', 'CH04', 'DK04', 'HU12', 'AL01', 'DE22', 'AT31', 'PL84', 'AL02', 'UKD3', 'AT22', 'PT20', 'CH07', 'FI19', 'SE11', 'FRY3', 'UKM6', 'DE73', 'ITF3', 'PL71', 'AT12', 'RO22', 'SE33', 'UKL1', 'BE10', 'CZ03', 'DEA1', 'HU22', 'PL41', 'BE33', 'UKJ4', 'UKE4', 'NL33', 'FRI3', 'UKM9', 'ITF1', 'ME00', 'FRY4', 'IE04', 'DE72', 'ES62', 'PL51', 'UKH1', 'PL52', 'DE71', 'NO03', 'SK04', 'ES12', 'ITH1', 'LT01', 'FRI2', 'FRL0', 'UKJ3', 'BA00'}\n",
      "{'ES42', 'UKF1', 'ITC3', 'DE25', 'SE23', 'NL41', 'UKM5', 'ITC2', 'PL72', 'FRF2', 'ITF5', 'FRC1', 'NL12', 'UKG3', 'DE30', 'ITI4', 'ITG2', 'DEA5', 'ES41', 'UKJ2', 'UKF3', 'LT02', 'UKK2', 'EL43', 'EE00', 'UKI3', 'AT33', 'MT00', 'FRM0', 'ES52', 'FRF1', 'EL52', 'FRK2', 'SI03', 'PT11', 'SK02', 'ES53', 'EL42', 'PL63', 'UKE1', 'EL54', 'ES22', 'DEB2', 'CH05', 'DE26', 'NL23', 'DE13', 'ES24', 'UKD1', 'HU21', 'NL42', 'CZ06', 'FRJ1', 'FRD2', 'UKH3', 'DEA3', 'BG41', 'FRC2', 'ITC1', 'FRG0', 'UKJ1', 'RS21', 'NL22', 'UKC2', 'AT21', 'UKC1', 'FI1D', 'FRE2', 'EL53', 'SI04', 'RO31', 'UKF2', 'DE60', 'BE34', 'EL41', 'ITF2', 'RO21', 'AT11', 'ITC4', 'LV00', 'PT17', 'DEB3', 'DEG0', 'CH03', 'ES64', 'CZ07', 'ES51', 'UKM8', 'BE32', 'DK02', 'FRB0', 'HU11', 'DE93', 'CZ08', 'RO42', 'EL51', 'CH02', 'BG32', 'ITI2', 'NO06', 'ITF6', 'SE12', 'UKD7', 'DE50', 'FI1C', 'SE21', 'IE06', 'PL42', 'ES21', 'RS22', 'ITG1', 'UKG2', 'BE22', 'UKD6', 'IS00', 'FI1B', 'NL31', 'UKI5', 'NO01', 'DED2', 'CZ04', 'DEC0', 'PL81', 'CY00', 'ITI1', 'ES30', 'FI20', 'DEF0', 'SE22', 'NL32', 'BE21', 'DED4', 'CZ05', 'NL21', 'PL61', 'FRD1', 'BG31', 'NL11', 'RO32', 'FRH0', 'ITH5', 'LI00', 'FRJ2', 'PL22', 'DE24', 'FR10', 'DE12', 'PT16', 'AT34', 'ITI3', 'DED5', 'DE11', 'EL63', 'ITF4', 'UKH2', 'DE91', 'HU32', 'ITH2', 'AL03', 'UKE3', 'UKG1', 'BE31', 'BE23', 'PL91', 'EL65', 'DEE0', 'HU23', 'DE92', 'HR04', 'PT15', 'HU31', 'UKD4', 'HU33', 'NL34', 'NO02', 'RO41', 'FRF3', 'UKK4', 'DE80', 'NO04', 'UKL2', 'BE25', 'DEA4', 'CZ01', 'EL64', 'FRY1', 'CZ02', 'RO12', 'PL82', 'RS12', 'HR03', 'ES11', 'PL21', 'DK01', 'ES61', 'DE23', 'ES63', 'LU00', 'UKI4', 'CH01', 'SE32', 'MK00', 'DEA2', 'EL61', 'ITH4', 'SK03', 'BG34', 'EL62', 'UKI7', 'RS11', 'ES13', 'NO07', 'DK05', 'SE31', 'BE24', 'DEB1', 'UKI6', 'ES43', 'FRK1', 'PL43', 'PT18', 'PT30', 'DE40', 'DE94', 'BG33', 'PL92', 'FRI1', 'SK01', 'IE05', 'UKM7', 'DE14', 'DE21', 'BG42', 'AT32', 'ES23', 'NO05', 'UKN0', 'FRE1', 'FRY2', 'KO01', 'NL13', 'RO11', 'PL62', 'AT13', 'UKE2', 'DE27', 'ITH3', 'ES70', 'FRY5', 'UKK1', 'DK03', 'UKK3', 'CH06', 'EL30', 'BE35', 'CH04', 'DK04', 'HU12', 'AL01', 'DE22', 'AT31', 'PL84', 'AL02', 'UKD3', 'AT22', 'PT20', 'CH07', 'FI19', 'SE11', 'FRY3', 'UKM6', 'DE73', 'ITF3', 'PL71', 'AT12', 'RO22', 'SE33', 'UKL1', 'BE10', 'CZ03', 'DEA1', 'HU22', 'PL41', 'BE33', 'UKJ4', 'UKE4', 'NL33', 'FRI3', 'UKM9', 'ITF1', 'ME00', 'FRY4', 'IE04', 'DE72', 'ES62', 'PL51', 'UKH1', 'PL52', 'DE71', 'NO03', 'SK04', 'ES12', 'ITH1', 'LT01', 'FRI2', 'FRL0', 'UKJ3', 'BA00'}\n",
      "{'ES42', 'UKF1', 'ITC3', 'DE25', 'SE23', 'NL41', 'UKM5', 'ITC2', 'PL72', 'FRF2', 'ITF5', 'FRC1', 'NL12', 'UKG3', 'DE30', 'ITI4', 'ITG2', 'DEA5', 'ES41', 'UKJ2', 'UKF3', 'LT02', 'UKK2', 'EL43', 'EE00', 'UKI3', 'AT33', 'MT00', 'FRM0', 'ES52', 'FRF1', 'EL52', 'FRK2', 'SI03', 'PT11', 'SK02', 'ES53', 'EL42', 'PL63', 'UKE1', 'EL54', 'ES22', 'DEB2', 'CH05', 'DE26', 'NL23', 'DE13', 'ES24', 'UKD1', 'HU21', 'NL42', 'CZ06', 'FRJ1', 'FRD2', 'UKH3', 'DEA3', 'BG41', 'FRC2', 'ITC1', 'FRG0', 'UKJ1', 'RS21', 'NL22', 'UKC2', 'AT21', 'UKC1', 'FI1D', 'FRE2', 'EL53', 'SI04', 'RO31', 'UKF2', 'DE60', 'BE34', 'EL41', 'ITF2', 'RO21', 'AT11', 'ITC4', 'LV00', 'PT17', 'DEB3', 'DEG0', 'CH03', 'ES64', 'CZ07', 'ES51', 'UKM8', 'BE32', 'DK02', 'FRB0', 'HU11', 'DE93', 'CZ08', 'RO42', 'EL51', 'CH02', 'BG32', 'ITI2', 'NO06', 'ITF6', 'SE12', 'UKD7', 'DE50', 'FI1C', 'SE21', 'IE06', 'PL42', 'ES21', 'RS22', 'ITG1', 'UKG2', 'BE22', 'UKD6', 'IS00', 'FI1B', 'NL31', 'UKI5', 'NO01', 'DED2', 'CZ04', 'DEC0', 'PL81', 'CY00', 'ITI1', 'ES30', 'FI20', 'DEF0', 'SE22', 'NL32', 'BE21', 'DED4', 'CZ05', 'NL21', 'PL61', 'FRD1', 'BG31', 'NL11', 'RO32', 'FRH0', 'ITH5', 'LI00', 'FRJ2', 'PL22', 'DE24', 'FR10', 'DE12', 'PT16', 'AT34', 'ITI3', 'DED5', 'DE11', 'EL63', 'ITF4', 'UKH2', 'DE91', 'HU32', 'ITH2', 'AL03', 'UKE3', 'UKG1', 'BE31', 'BE23', 'PL91', 'EL65', 'DEE0', 'HU23', 'DE92', 'HR04', 'PT15', 'HU31', 'UKD4', 'HU33', 'NL34', 'NO02', 'RO41', 'FRF3', 'UKK4', 'DE80', 'NO04', 'UKL2', 'BE25', 'DEA4', 'CZ01', 'EL64', 'FRY1', 'CZ02', 'RO12', 'PL82', 'RS12', 'HR03', 'ES11', 'PL21', 'DK01', 'ES61', 'DE23', 'ES63', 'LU00', 'UKI4', 'CH01', 'SE32', 'MK00', 'DEA2', 'EL61', 'ITH4', 'SK03', 'BG34', 'EL62', 'UKI7', 'RS11', 'ES13', 'NO07', 'DK05', 'SE31', 'BE24', 'DEB1', 'UKI6', 'ES43', 'FRK1', 'PL43', 'PT18', 'PT30', 'DE40', 'DE94', 'BG33', 'PL92', 'FRI1', 'SK01', 'IE05', 'UKM7', 'DE14', 'DE21', 'BG42', 'AT32', 'ES23', 'NO05', 'UKN0', 'FRE1', 'FRY2', 'KO01', 'NL13', 'RO11', 'PL62', 'AT13', 'UKE2', 'DE27', 'ITH3', 'ES70', 'FRY5', 'UKK1', 'DK03', 'UKK3', 'CH06', 'EL30', 'BE35', 'CH04', 'DK04', 'HU12', 'AL01', 'DE22', 'AT31', 'PL84', 'AL02', 'UKD3', 'AT22', 'PT20', 'CH07', 'FI19', 'SE11', 'FRY3', 'UKM6', 'DE73', 'ITF3', 'PL71', 'AT12', 'RO22', 'SE33', 'UKL1', 'BE10', 'CZ03', 'DEA1', 'HU22', 'PL41', 'BE33', 'UKJ4', 'UKE4', 'NL33', 'FRI3', 'UKM9', 'ITF1', 'ME00', 'FRY4', 'IE04', 'DE72', 'ES62', 'PL51', 'UKH1', 'PL52', 'DE71', 'NO03', 'SK04', 'ES12', 'ITH1', 'LT01', 'FRI2', 'FRL0', 'UKJ3', 'BA00'}\n",
      "{'ES42', 'UKF1', 'ITC3', 'DE25', 'SE23', 'NL41', 'UKM5', 'ITC2', 'PL72', 'FRF2', 'ITF5', 'FRC1', 'NL12', 'UKG3', 'DE30', 'ITI4', 'ITG2', 'DEA5', 'ES41', 'UKJ2', 'UKF3', 'LT02', 'UKK2', 'EL43', 'EE00', 'UKI3', 'AT33', 'MT00', 'FRM0', 'ES52', 'FRF1', 'EL52', 'FRK2', 'SI03', 'PT11', 'SK02', 'ES53', 'EL42', 'PL63', 'UKE1', 'EL54', 'ES22', 'DEB2', 'CH05', 'DE26', 'NL23', 'DE13', 'ES24', 'UKD1', 'HU21', 'NL42', 'CZ06', 'FRJ1', 'FRD2', 'UKH3', 'DEA3', 'BG41', 'FRC2', 'ITC1', 'FRG0', 'UKJ1', 'RS21', 'NL22', 'UKC2', 'AT21', 'UKC1', 'FI1D', 'FRE2', 'EL53', 'SI04', 'RO31', 'UKF2', 'DE60', 'BE34', 'EL41', 'ITF2', 'RO21', 'AT11', 'ITC4', 'LV00', 'PT17', 'DEB3', 'DEG0', 'CH03', 'ES64', 'CZ07', 'ES51', 'UKM8', 'BE32', 'DK02', 'FRB0', 'HU11', 'DE93', 'CZ08', 'RO42', 'EL51', 'CH02', 'BG32', 'ITI2', 'NO06', 'ITF6', 'SE12', 'UKD7', 'DE50', 'FI1C', 'SE21', 'IE06', 'PL42', 'ES21', 'RS22', 'ITG1', 'UKG2', 'BE22', 'UKD6', 'IS00', 'FI1B', 'NL31', 'UKI5', 'NO01', 'DED2', 'CZ04', 'DEC0', 'PL81', 'CY00', 'ITI1', 'ES30', 'FI20', 'DEF0', 'SE22', 'NL32', 'BE21', 'DED4', 'CZ05', 'NL21', 'PL61', 'FRD1', 'BG31', 'NL11', 'RO32', 'FRH0', 'ITH5', 'LI00', 'FRJ2', 'PL22', 'DE24', 'FR10', 'DE12', 'PT16', 'AT34', 'ITI3', 'DED5', 'DE11', 'EL63', 'ITF4', 'UKH2', 'DE91', 'HU32', 'ITH2', 'AL03', 'UKE3', 'UKG1', 'BE31', 'BE23', 'PL91', 'EL65', 'DEE0', 'HU23', 'DE92', 'HR04', 'PT15', 'HU31', 'UKD4', 'HU33', 'NL34', 'NO02', 'RO41', 'FRF3', 'UKK4', 'DE80', 'NO04', 'UKL2', 'BE25', 'DEA4', 'CZ01', 'EL64', 'FRY1', 'CZ02', 'RO12', 'PL82', 'RS12', 'HR03', 'ES11', 'PL21', 'DK01', 'ES61', 'DE23', 'ES63', 'LU00', 'UKI4', 'CH01', 'SE32', 'MK00', 'DEA2', 'EL61', 'ITH4', 'SK03', 'BG34', 'EL62', 'UKI7', 'RS11', 'ES13', 'NO07', 'DK05', 'SE31', 'BE24', 'DEB1', 'UKI6', 'ES43', 'FRK1', 'PL43', 'PT18', 'PT30', 'DE40', 'DE94', 'BG33', 'PL92', 'FRI1', 'SK01', 'IE05', 'UKM7', 'DE14', 'DE21', 'BG42', 'AT32', 'ES23', 'NO05', 'UKN0', 'FRE1', 'FRY2', 'KO01', 'NL13', 'RO11', 'PL62', 'AT13', 'UKE2', 'DE27', 'ITH3', 'ES70', 'FRY5', 'UKK1', 'DK03', 'UKK3', 'CH06', 'EL30', 'BE35', 'CH04', 'DK04', 'HU12', 'AL01', 'DE22', 'AT31', 'PL84', 'AL02', 'UKD3', 'AT22', 'PT20', 'CH07', 'FI19', 'SE11', 'FRY3', 'UKM6', 'DE73', 'ITF3', 'PL71', 'AT12', 'RO22', 'SE33', 'UKL1', 'BE10', 'CZ03', 'DEA1', 'HU22', 'PL41', 'BE33', 'UKJ4', 'UKE4', 'NL33', 'FRI3', 'UKM9', 'ITF1', 'ME00', 'FRY4', 'IE04', 'DE72', 'ES62', 'PL51', 'UKH1', 'PL52', 'DE71', 'NO03', 'SK04', 'ES12', 'ITH1', 'LT01', 'FRI2', 'FRL0', 'UKJ3', 'BA00'}\n",
      "{'ES42', 'UKF1', 'ITC3', 'DE25', 'SE23', 'NL41', 'UKM5', 'ITC2', 'PL72', 'FRF2', 'ITF5', 'FRC1', 'NL12', 'UKG3', 'DE30', 'ITI4', 'ITG2', 'DEA5', 'ES41', 'UKJ2', 'UKF3', 'LT02', 'UKK2', 'EL43', 'EE00', 'UKI3', 'AT33', 'MT00', 'FRM0', 'ES52', 'FRF1', 'EL52', 'FRK2', 'SI03', 'PT11', 'SK02', 'ES53', 'EL42', 'PL63', 'UKE1', 'EL54', 'ES22', 'DEB2', 'CH05', 'DE26', 'NL23', 'DE13', 'ES24', 'UKD1', 'HU21', 'NL42', 'CZ06', 'FRJ1', 'FRD2', 'UKH3', 'DEA3', 'BG41', 'FRC2', 'ITC1', 'FRG0', 'UKJ1', 'RS21', 'NL22', 'UKC2', 'AT21', 'UKC1', 'FI1D', 'FRE2', 'EL53', 'SI04', 'RO31', 'UKF2', 'DE60', 'BE34', 'EL41', 'ITF2', 'RO21', 'AT11', 'ITC4', 'LV00', 'PT17', 'DEB3', 'DEG0', 'CH03', 'ES64', 'CZ07', 'ES51', 'UKM8', 'BE32', 'DK02', 'FRB0', 'HU11', 'DE93', 'CZ08', 'RO42', 'EL51', 'CH02', 'BG32', 'ITI2', 'NO06', 'ITF6', 'SE12', 'UKD7', 'DE50', 'FI1C', 'SE21', 'IE06', 'PL42', 'ES21', 'RS22', 'ITG1', 'UKG2', 'BE22', 'UKD6', 'IS00', 'FI1B', 'NL31', 'UKI5', 'NO01', 'DED2', 'CZ04', 'DEC0', 'PL81', 'CY00', 'ITI1', 'ES30', 'FI20', 'DEF0', 'SE22', 'NL32', 'BE21', 'DED4', 'CZ05', 'NL21', 'PL61', 'FRD1', 'BG31', 'NL11', 'RO32', 'FRH0', 'ITH5', 'LI00', 'FRJ2', 'PL22', 'DE24', 'FR10', 'DE12', 'PT16', 'AT34', 'ITI3', 'DED5', 'DE11', 'EL63', 'ITF4', 'UKH2', 'DE91', 'HU32', 'ITH2', 'AL03', 'UKE3', 'UKG1', 'BE31', 'BE23', 'PL91', 'EL65', 'DEE0', 'HU23', 'DE92', 'HR04', 'PT15', 'HU31', 'UKD4', 'HU33', 'NL34', 'NO02', 'RO41', 'FRF3', 'UKK4', 'DE80', 'NO04', 'UKL2', 'BE25', 'DEA4', 'CZ01', 'EL64', 'FRY1', 'CZ02', 'RO12', 'PL82', 'RS12', 'HR03', 'ES11', 'PL21', 'DK01', 'ES61', 'DE23', 'ES63', 'LU00', 'UKI4', 'CH01', 'SE32', 'MK00', 'DEA2', 'EL61', 'ITH4', 'SK03', 'BG34', 'EL62', 'UKI7', 'RS11', 'ES13', 'NO07', 'DK05', 'SE31', 'BE24', 'DEB1', 'UKI6', 'ES43', 'FRK1', 'PL43', 'PT18', 'PT30', 'DE40', 'DE94', 'BG33', 'PL92', 'FRI1', 'SK01', 'IE05', 'UKM7', 'DE14', 'DE21', 'BG42', 'AT32', 'ES23', 'NO05', 'UKN0', 'FRE1', 'FRY2', 'KO01', 'NL13', 'RO11', 'PL62', 'AT13', 'UKE2', 'DE27', 'ITH3', 'ES70', 'FRY5', 'UKK1', 'DK03', 'UKK3', 'CH06', 'EL30', 'BE35', 'CH04', 'DK04', 'HU12', 'AL01', 'DE22', 'AT31', 'PL84', 'AL02', 'UKD3', 'AT22', 'PT20', 'CH07', 'FI19', 'SE11', 'FRY3', 'UKM6', 'DE73', 'ITF3', 'PL71', 'AT12', 'RO22', 'SE33', 'UKL1', 'BE10', 'CZ03', 'DEA1', 'HU22', 'PL41', 'BE33', 'UKJ4', 'UKE4', 'NL33', 'FRI3', 'UKM9', 'ITF1', 'ME00', 'FRY4', 'IE04', 'DE72', 'ES62', 'PL51', 'UKH1', 'PL52', 'DE71', 'NO03', 'SK04', 'ES12', 'ITH1', 'LT01', 'FRI2', 'FRL0', 'UKJ3', 'BA00'}\n",
      "{'ES42', 'UKF1', 'ITC3', 'DE25', 'SE23', 'NL41', 'UKM5', 'ITC2', 'PL72', 'FRF2', 'ITF5', 'FRC1', 'NL12', 'UKG3', 'DE30', 'ITI4', 'ITG2', 'DEA5', 'ES41', 'UKJ2', 'UKF3', 'LT02', 'UKK2', 'EL43', 'EE00', 'UKI3', 'AT33', 'MT00', 'FRM0', 'ES52', 'FRF1', 'EL52', 'FRK2', 'SI03', 'PT11', 'SK02', 'ES53', 'EL42', 'PL63', 'UKE1', 'EL54', 'ES22', 'DEB2', 'CH05', 'DE26', 'NL23', 'DE13', 'ES24', 'UKD1', 'HU21', 'NL42', 'CZ06', 'FRJ1', 'FRD2', 'UKH3', 'DEA3', 'BG41', 'FRC2', 'ITC1', 'FRG0', 'UKJ1', 'RS21', 'NL22', 'UKC2', 'AT21', 'UKC1', 'FI1D', 'FRE2', 'EL53', 'SI04', 'RO31', 'UKF2', 'DE60', 'BE34', 'EL41', 'ITF2', 'RO21', 'AT11', 'ITC4', 'LV00', 'PT17', 'DEB3', 'DEG0', 'CH03', 'ES64', 'CZ07', 'ES51', 'UKM8', 'BE32', 'DK02', 'FRB0', 'HU11', 'DE93', 'CZ08', 'RO42', 'EL51', 'CH02', 'BG32', 'ITI2', 'NO06', 'ITF6', 'SE12', 'UKD7', 'DE50', 'FI1C', 'SE21', 'IE06', 'PL42', 'ES21', 'RS22', 'ITG1', 'UKG2', 'BE22', 'UKD6', 'IS00', 'FI1B', 'NL31', 'UKI5', 'NO01', 'DED2', 'CZ04', 'DEC0', 'PL81', 'CY00', 'ITI1', 'ES30', 'FI20', 'DEF0', 'SE22', 'NL32', 'BE21', 'DED4', 'CZ05', 'NL21', 'PL61', 'FRD1', 'BG31', 'NL11', 'RO32', 'FRH0', 'ITH5', 'LI00', 'FRJ2', 'PL22', 'DE24', 'FR10', 'DE12', 'PT16', 'AT34', 'ITI3', 'DED5', 'DE11', 'EL63', 'ITF4', 'UKH2', 'DE91', 'HU32', 'ITH2', 'AL03', 'UKE3', 'UKG1', 'BE31', 'BE23', 'PL91', 'EL65', 'DEE0', 'HU23', 'DE92', 'HR04', 'PT15', 'HU31', 'UKD4', 'HU33', 'NL34', 'NO02', 'RO41', 'FRF3', 'UKK4', 'DE80', 'NO04', 'UKL2', 'BE25', 'DEA4', 'CZ01', 'EL64', 'FRY1', 'CZ02', 'RO12', 'PL82', 'RS12', 'HR03', 'ES11', 'PL21', 'DK01', 'ES61', 'DE23', 'ES63', 'LU00', 'UKI4', 'CH01', 'SE32', 'MK00', 'DEA2', 'EL61', 'ITH4', 'SK03', 'BG34', 'EL62', 'UKI7', 'RS11', 'ES13', 'NO07', 'DK05', 'SE31', 'BE24', 'DEB1', 'UKI6', 'ES43', 'FRK1', 'PL43', 'PT18', 'PT30', 'DE40', 'DE94', 'BG33', 'PL92', 'FRI1', 'SK01', 'IE05', 'UKM7', 'DE14', 'DE21', 'BG42', 'AT32', 'ES23', 'NO05', 'UKN0', 'FRE1', 'FRY2', 'KO01', 'NL13', 'RO11', 'PL62', 'AT13', 'UKE2', 'DE27', 'ITH3', 'ES70', 'FRY5', 'UKK1', 'DK03', 'UKK3', 'CH06', 'EL30', 'BE35', 'CH04', 'DK04', 'HU12', 'AL01', 'DE22', 'AT31', 'PL84', 'AL02', 'UKD3', 'AT22', 'PT20', 'CH07', 'FI19', 'SE11', 'FRY3', 'UKM6', 'DE73', 'ITF3', 'PL71', 'AT12', 'RO22', 'SE33', 'UKL1', 'BE10', 'CZ03', 'DEA1', 'HU22', 'PL41', 'BE33', 'UKJ4', 'UKE4', 'NL33', 'FRI3', 'UKM9', 'ITF1', 'ME00', 'FRY4', 'IE04', 'DE72', 'ES62', 'PL51', 'UKH1', 'PL52', 'DE71', 'NO03', 'SK04', 'ES12', 'ITH1', 'LT01', 'FRI2', 'FRL0', 'UKJ3', 'BA00'}\n",
      "{'ES42', 'UKF1', 'ITC3', 'DE25', 'SE23', 'NL41', 'UKM5', 'ITC2', 'PL72', 'FRF2', 'ITF5', 'FRC1', 'NL12', 'UKG3', 'DE30', 'ITI4', 'ITG2', 'DEA5', 'ES41', 'UKJ2', 'UKF3', 'LT02', 'UKK2', 'EL43', 'EE00', 'UKI3', 'AT33', 'MT00', 'FRM0', 'ES52', 'FRF1', 'EL52', 'FRK2', 'SI03', 'PT11', 'SK02', 'ES53', 'EL42', 'PL63', 'UKE1', 'EL54', 'ES22', 'DEB2', 'CH05', 'DE26', 'NL23', 'DE13', 'ES24', 'UKD1', 'HU21', 'NL42', 'CZ06', 'FRJ1', 'FRD2', 'UKH3', 'DEA3', 'BG41', 'FRC2', 'ITC1', 'FRG0', 'UKJ1', 'RS21', 'NL22', 'UKC2', 'AT21', 'UKC1', 'FI1D', 'FRE2', 'EL53', 'SI04', 'RO31', 'UKF2', 'DE60', 'BE34', 'EL41', 'ITF2', 'RO21', 'AT11', 'ITC4', 'LV00', 'PT17', 'DEB3', 'DEG0', 'CH03', 'ES64', 'CZ07', 'ES51', 'UKM8', 'BE32', 'DK02', 'FRB0', 'HU11', 'DE93', 'CZ08', 'RO42', 'EL51', 'CH02', 'BG32', 'ITI2', 'NO06', 'ITF6', 'SE12', 'UKD7', 'DE50', 'FI1C', 'SE21', 'IE06', 'PL42', 'ES21', 'RS22', 'ITG1', 'UKG2', 'BE22', 'UKD6', 'IS00', 'FI1B', 'NL31', 'UKI5', 'NO01', 'DED2', 'CZ04', 'DEC0', 'PL81', 'CY00', 'ITI1', 'ES30', 'FI20', 'DEF0', 'SE22', 'NL32', 'BE21', 'DED4', 'CZ05', 'NL21', 'PL61', 'FRD1', 'BG31', 'NL11', 'RO32', 'FRH0', 'ITH5', 'LI00', 'FRJ2', 'PL22', 'DE24', 'FR10', 'DE12', 'PT16', 'AT34', 'ITI3', 'DED5', 'DE11', 'EL63', 'ITF4', 'UKH2', 'DE91', 'HU32', 'ITH2', 'AL03', 'UKE3', 'UKG1', 'BE31', 'BE23', 'PL91', 'EL65', 'DEE0', 'HU23', 'DE92', 'HR04', 'PT15', 'HU31', 'UKD4', 'HU33', 'NL34', 'NO02', 'RO41', 'FRF3', 'UKK4', 'DE80', 'NO04', 'UKL2', 'BE25', 'DEA4', 'CZ01', 'EL64', 'FRY1', 'CZ02', 'RO12', 'PL82', 'RS12', 'HR03', 'ES11', 'PL21', 'DK01', 'ES61', 'DE23', 'ES63', 'LU00', 'UKI4', 'CH01', 'SE32', 'MK00', 'DEA2', 'EL61', 'ITH4', 'SK03', 'BG34', 'EL62', 'UKI7', 'RS11', 'ES13', 'NO07', 'DK05', 'SE31', 'BE24', 'DEB1', 'UKI6', 'ES43', 'FRK1', 'PL43', 'PT18', 'PT30', 'DE40', 'DE94', 'BG33', 'PL92', 'FRI1', 'SK01', 'IE05', 'UKM7', 'DE14', 'DE21', 'BG42', 'AT32', 'ES23', 'NO05', 'UKN0', 'FRE1', 'FRY2', 'KO01', 'NL13', 'RO11', 'PL62', 'AT13', 'UKE2', 'DE27', 'ITH3', 'ES70', 'FRY5', 'UKK1', 'DK03', 'UKK3', 'CH06', 'EL30', 'BE35', 'CH04', 'DK04', 'HU12', 'AL01', 'DE22', 'AT31', 'PL84', 'AL02', 'UKD3', 'AT22', 'PT20', 'CH07', 'FI19', 'SE11', 'FRY3', 'UKM6', 'DE73', 'ITF3', 'PL71', 'AT12', 'RO22', 'SE33', 'UKL1', 'BE10', 'CZ03', 'DEA1', 'HU22', 'PL41', 'BE33', 'UKJ4', 'UKE4', 'NL33', 'FRI3', 'UKM9', 'ITF1', 'ME00', 'FRY4', 'IE04', 'DE72', 'ES62', 'PL51', 'UKH1', 'PL52', 'DE71', 'NO03', 'SK04', 'ES12', 'ITH1', 'LT01', 'FRI2', 'FRL0', 'UKJ3', 'BA00'}\n",
      "{'ES42', 'UKF1', 'ITC3', 'DE25', 'SE23', 'NL41', 'UKM5', 'ITC2', 'PL72', 'FRF2', 'ITF5', 'FRC1', 'NL12', 'UKG3', 'DE30', 'ITI4', 'ITG2', 'DEA5', 'ES41', 'UKJ2', 'UKF3', 'LT02', 'UKK2', 'EL43', 'EE00', 'UKI3', 'AT33', 'MT00', 'FRM0', 'ES52', 'FRF1', 'EL52', 'FRK2', 'SI03', 'PT11', 'SK02', 'ES53', 'EL42', 'PL63', 'UKE1', 'EL54', 'ES22', 'DEB2', 'CH05', 'DE26', 'NL23', 'DE13', 'ES24', 'UKD1', 'HU21', 'NL42', 'CZ06', 'FRJ1', 'FRD2', 'UKH3', 'DEA3', 'BG41', 'FRC2', 'ITC1', 'FRG0', 'UKJ1', 'RS21', 'NL22', 'UKC2', 'AT21', 'UKC1', 'FI1D', 'FRE2', 'EL53', 'SI04', 'RO31', 'UKF2', 'DE60', 'BE34', 'EL41', 'ITF2', 'RO21', 'AT11', 'ITC4', 'LV00', 'PT17', 'DEB3', 'DEG0', 'CH03', 'ES64', 'CZ07', 'ES51', 'UKM8', 'BE32', 'DK02', 'FRB0', 'HU11', 'DE93', 'CZ08', 'RO42', 'EL51', 'CH02', 'BG32', 'ITI2', 'NO06', 'ITF6', 'SE12', 'UKD7', 'DE50', 'FI1C', 'SE21', 'IE06', 'PL42', 'ES21', 'RS22', 'ITG1', 'UKG2', 'BE22', 'UKD6', 'IS00', 'FI1B', 'NL31', 'UKI5', 'NO01', 'DED2', 'CZ04', 'DEC0', 'PL81', 'CY00', 'ITI1', 'ES30', 'FI20', 'DEF0', 'SE22', 'NL32', 'BE21', 'DED4', 'CZ05', 'NL21', 'PL61', 'FRD1', 'BG31', 'NL11', 'RO32', 'FRH0', 'ITH5', 'LI00', 'FRJ2', 'PL22', 'DE24', 'FR10', 'DE12', 'PT16', 'AT34', 'ITI3', 'DED5', 'DE11', 'EL63', 'ITF4', 'UKH2', 'DE91', 'HU32', 'ITH2', 'AL03', 'UKE3', 'UKG1', 'BE31', 'BE23', 'PL91', 'EL65', 'DEE0', 'HU23', 'DE92', 'HR04', 'PT15', 'HU31', 'UKD4', 'HU33', 'NL34', 'NO02', 'RO41', 'FRF3', 'UKK4', 'DE80', 'NO04', 'UKL2', 'BE25', 'DEA4', 'CZ01', 'EL64', 'FRY1', 'CZ02', 'RO12', 'PL82', 'RS12', 'HR03', 'ES11', 'PL21', 'DK01', 'ES61', 'DE23', 'ES63', 'LU00', 'UKI4', 'CH01', 'SE32', 'MK00', 'DEA2', 'EL61', 'ITH4', 'SK03', 'BG34', 'EL62', 'UKI7', 'RS11', 'ES13', 'NO07', 'DK05', 'SE31', 'BE24', 'DEB1', 'UKI6', 'ES43', 'FRK1', 'PL43', 'PT18', 'PT30', 'DE40', 'DE94', 'BG33', 'PL92', 'FRI1', 'SK01', 'IE05', 'UKM7', 'DE14', 'DE21', 'BG42', 'AT32', 'ES23', 'NO05', 'UKN0', 'FRE1', 'FRY2', 'KO01', 'NL13', 'RO11', 'PL62', 'AT13', 'UKE2', 'DE27', 'ITH3', 'ES70', 'FRY5', 'UKK1', 'DK03', 'UKK3', 'CH06', 'EL30', 'BE35', 'CH04', 'DK04', 'HU12', 'AL01', 'DE22', 'AT31', 'PL84', 'AL02', 'UKD3', 'AT22', 'PT20', 'CH07', 'FI19', 'SE11', 'FRY3', 'UKM6', 'DE73', 'ITF3', 'PL71', 'AT12', 'RO22', 'SE33', 'UKL1', 'BE10', 'CZ03', 'DEA1', 'HU22', 'PL41', 'BE33', 'UKJ4', 'UKE4', 'NL33', 'FRI3', 'UKM9', 'ITF1', 'ME00', 'FRY4', 'IE04', 'DE72', 'ES62', 'PL51', 'UKH1', 'PL52', 'DE71', 'NO03', 'SK04', 'ES12', 'ITH1', 'LT01', 'FRI2', 'FRL0', 'UKJ3', 'BA00'}\n",
      "{'ES42', 'UKF1', 'ITC3', 'DE25', 'SE23', 'NL41', 'UKM5', 'ITC2', 'PL72', 'FRF2', 'ITF5', 'FRC1', 'NL12', 'UKG3', 'DE30', 'ITI4', 'ITG2', 'DEA5', 'ES41', 'UKJ2', 'UKF3', 'LT02', 'UKK2', 'EL43', 'EE00', 'UKI3', 'AT33', 'MT00', 'FRM0', 'ES52', 'FRF1', 'EL52', 'FRK2', 'SI03', 'PT11', 'SK02', 'ES53', 'EL42', 'PL63', 'UKE1', 'EL54', 'ES22', 'DEB2', 'CH05', 'DE26', 'NL23', 'DE13', 'ES24', 'UKD1', 'HU21', 'NL42', 'CZ06', 'FRJ1', 'FRD2', 'UKH3', 'DEA3', 'BG41', 'FRC2', 'ITC1', 'FRG0', 'UKJ1', 'RS21', 'NL22', 'UKC2', 'AT21', 'UKC1', 'FI1D', 'FRE2', 'EL53', 'SI04', 'RO31', 'UKF2', 'DE60', 'BE34', 'EL41', 'ITF2', 'RO21', 'AT11', 'ITC4', 'LV00', 'PT17', 'DEB3', 'DEG0', 'CH03', 'ES64', 'CZ07', 'ES51', 'UKM8', 'BE32', 'DK02', 'FRB0', 'HU11', 'DE93', 'CZ08', 'RO42', 'EL51', 'CH02', 'BG32', 'ITI2', 'NO06', 'ITF6', 'SE12', 'UKD7', 'DE50', 'FI1C', 'SE21', 'IE06', 'PL42', 'ES21', 'RS22', 'ITG1', 'UKG2', 'BE22', 'UKD6', 'IS00', 'FI1B', 'NL31', 'UKI5', 'NO01', 'DED2', 'CZ04', 'DEC0', 'PL81', 'CY00', 'ITI1', 'ES30', 'FI20', 'DEF0', 'SE22', 'NL32', 'BE21', 'DED4', 'CZ05', 'NL21', 'PL61', 'FRD1', 'BG31', 'NL11', 'RO32', 'FRH0', 'ITH5', 'LI00', 'FRJ2', 'PL22', 'DE24', 'FR10', 'DE12', 'PT16', 'AT34', 'ITI3', 'DED5', 'DE11', 'EL63', 'ITF4', 'UKH2', 'DE91', 'HU32', 'ITH2', 'AL03', 'UKE3', 'UKG1', 'BE31', 'BE23', 'PL91', 'EL65', 'DEE0', 'HU23', 'DE92', 'HR04', 'PT15', 'HU31', 'UKD4', 'HU33', 'NL34', 'NO02', 'RO41', 'FRF3', 'UKK4', 'DE80', 'NO04', 'UKL2', 'BE25', 'DEA4', 'CZ01', 'EL64', 'FRY1', 'CZ02', 'RO12', 'PL82', 'RS12', 'HR03', 'ES11', 'PL21', 'DK01', 'ES61', 'DE23', 'ES63', 'LU00', 'UKI4', 'CH01', 'SE32', 'MK00', 'DEA2', 'EL61', 'ITH4', 'SK03', 'BG34', 'EL62', 'UKI7', 'RS11', 'ES13', 'NO07', 'DK05', 'SE31', 'BE24', 'DEB1', 'UKI6', 'ES43', 'FRK1', 'PL43', 'PT18', 'PT30', 'DE40', 'DE94', 'BG33', 'PL92', 'FRI1', 'SK01', 'IE05', 'UKM7', 'DE14', 'DE21', 'BG42', 'AT32', 'ES23', 'NO05', 'UKN0', 'FRE1', 'FRY2', 'KO01', 'NL13', 'RO11', 'PL62', 'AT13', 'UKE2', 'DE27', 'ITH3', 'ES70', 'FRY5', 'UKK1', 'DK03', 'UKK3', 'CH06', 'EL30', 'BE35', 'CH04', 'DK04', 'HU12', 'AL01', 'DE22', 'AT31', 'PL84', 'AL02', 'UKD3', 'AT22', 'PT20', 'CH07', 'FI19', 'SE11', 'FRY3', 'UKM6', 'DE73', 'ITF3', 'PL71', 'AT12', 'RO22', 'SE33', 'UKL1', 'BE10', 'CZ03', 'DEA1', 'HU22', 'PL41', 'BE33', 'UKJ4', 'UKE4', 'NL33', 'FRI3', 'UKM9', 'ITF1', 'ME00', 'FRY4', 'IE04', 'DE72', 'ES62', 'PL51', 'UKH1', 'PL52', 'DE71', 'NO03', 'SK04', 'ES12', 'ITH1', 'LT01', 'FRI2', 'FRL0', 'UKJ3', 'BA00'}\n",
      "{'ES42', 'UKF1', 'ITC3', 'DE25', 'SE23', 'NL41', 'UKM5', 'ITC2', 'PL72', 'FRF2', 'ITF5', 'FRC1', 'NL12', 'UKG3', 'DE30', 'ITI4', 'ITG2', 'DEA5', 'ES41', 'UKJ2', 'UKF3', 'LT02', 'UKK2', 'EL43', 'EE00', 'UKI3', 'AT33', 'MT00', 'FRM0', 'ES52', 'FRF1', 'EL52', 'FRK2', 'SI03', 'PT11', 'SK02', 'ES53', 'EL42', 'PL63', 'UKE1', 'EL54', 'ES22', 'DEB2', 'CH05', 'DE26', 'NL23', 'DE13', 'ES24', 'UKD1', 'HU21', 'NL42', 'CZ06', 'FRJ1', 'FRD2', 'UKH3', 'DEA3', 'BG41', 'FRC2', 'ITC1', 'FRG0', 'UKJ1', 'RS21', 'NL22', 'UKC2', 'AT21', 'UKC1', 'FI1D', 'FRE2', 'EL53', 'SI04', 'RO31', 'UKF2', 'DE60', 'BE34', 'EL41', 'ITF2', 'RO21', 'AT11', 'ITC4', 'LV00', 'PT17', 'DEB3', 'DEG0', 'CH03', 'ES64', 'CZ07', 'ES51', 'UKM8', 'BE32', 'DK02', 'FRB0', 'HU11', 'DE93', 'CZ08', 'RO42', 'EL51', 'CH02', 'BG32', 'ITI2', 'NO06', 'ITF6', 'SE12', 'UKD7', 'DE50', 'FI1C', 'SE21', 'IE06', 'PL42', 'ES21', 'RS22', 'ITG1', 'UKG2', 'BE22', 'UKD6', 'IS00', 'FI1B', 'NL31', 'UKI5', 'NO01', 'DED2', 'CZ04', 'DEC0', 'PL81', 'CY00', 'ITI1', 'ES30', 'FI20', 'DEF0', 'SE22', 'NL32', 'BE21', 'DED4', 'CZ05', 'NL21', 'PL61', 'FRD1', 'BG31', 'NL11', 'RO32', 'FRH0', 'ITH5', 'LI00', 'FRJ2', 'PL22', 'DE24', 'FR10', 'DE12', 'PT16', 'AT34', 'ITI3', 'DED5', 'DE11', 'EL63', 'ITF4', 'UKH2', 'DE91', 'HU32', 'ITH2', 'AL03', 'UKE3', 'UKG1', 'BE31', 'BE23', 'PL91', 'EL65', 'DEE0', 'HU23', 'DE92', 'HR04', 'PT15', 'HU31', 'UKD4', 'HU33', 'NL34', 'NO02', 'RO41', 'FRF3', 'UKK4', 'DE80', 'NO04', 'UKL2', 'BE25', 'DEA4', 'CZ01', 'EL64', 'FRY1', 'CZ02', 'RO12', 'PL82', 'RS12', 'HR03', 'ES11', 'PL21', 'DK01', 'ES61', 'DE23', 'ES63', 'LU00', 'UKI4', 'CH01', 'SE32', 'MK00', 'DEA2', 'EL61', 'ITH4', 'SK03', 'BG34', 'EL62', 'UKI7', 'RS11', 'ES13', 'NO07', 'DK05', 'SE31', 'BE24', 'DEB1', 'UKI6', 'ES43', 'FRK1', 'PL43', 'PT18', 'PT30', 'DE40', 'DE94', 'BG33', 'PL92', 'FRI1', 'SK01', 'IE05', 'UKM7', 'DE14', 'DE21', 'BG42', 'AT32', 'ES23', 'NO05', 'UKN0', 'FRE1', 'FRY2', 'KO01', 'NL13', 'RO11', 'PL62', 'AT13', 'UKE2', 'DE27', 'ITH3', 'ES70', 'FRY5', 'UKK1', 'DK03', 'UKK3', 'CH06', 'EL30', 'BE35', 'CH04', 'DK04', 'HU12', 'AL01', 'DE22', 'AT31', 'PL84', 'AL02', 'UKD3', 'AT22', 'PT20', 'CH07', 'FI19', 'SE11', 'FRY3', 'UKM6', 'DE73', 'ITF3', 'PL71', 'AT12', 'RO22', 'SE33', 'UKL1', 'BE10', 'CZ03', 'DEA1', 'HU22', 'PL41', 'BE33', 'UKJ4', 'UKE4', 'NL33', 'FRI3', 'UKM9', 'ITF1', 'ME00', 'FRY4', 'IE04', 'DE72', 'ES62', 'PL51', 'UKH1', 'PL52', 'DE71', 'NO03', 'SK04', 'ES12', 'ITH1', 'LT01', 'FRI2', 'FRL0', 'UKJ3', 'BA00'}\n",
      "{'ES42', 'UKF1', 'ITC3', 'DE25', 'SE23', 'NL41', 'UKM5', 'ITC2', 'PL72', 'FRF2', 'ITF5', 'FRC1', 'NL12', 'UKG3', 'DE30', 'ITI4', 'ITG2', 'DEA5', 'ES41', 'UKJ2', 'UKF3', 'LT02', 'UKK2', 'EL43', 'EE00', 'UKI3', 'AT33', 'MT00', 'FRM0', 'ES52', 'FRF1', 'EL52', 'FRK2', 'SI03', 'PT11', 'SK02', 'ES53', 'EL42', 'PL63', 'UKE1', 'EL54', 'ES22', 'DEB2', 'CH05', 'DE26', 'NL23', 'DE13', 'ES24', 'UKD1', 'HU21', 'NL42', 'CZ06', 'FRJ1', 'FRD2', 'UKH3', 'DEA3', 'BG41', 'FRC2', 'ITC1', 'FRG0', 'UKJ1', 'RS21', 'NL22', 'UKC2', 'AT21', 'UKC1', 'FI1D', 'FRE2', 'EL53', 'SI04', 'RO31', 'UKF2', 'DE60', 'BE34', 'EL41', 'ITF2', 'RO21', 'AT11', 'ITC4', 'LV00', 'PT17', 'DEB3', 'DEG0', 'CH03', 'ES64', 'CZ07', 'ES51', 'UKM8', 'BE32', 'DK02', 'FRB0', 'HU11', 'DE93', 'CZ08', 'RO42', 'EL51', 'CH02', 'BG32', 'ITI2', 'NO06', 'ITF6', 'SE12', 'UKD7', 'DE50', 'FI1C', 'SE21', 'IE06', 'PL42', 'ES21', 'RS22', 'ITG1', 'UKG2', 'BE22', 'UKD6', 'IS00', 'FI1B', 'NL31', 'UKI5', 'NO01', 'DED2', 'CZ04', 'DEC0', 'PL81', 'CY00', 'ITI1', 'ES30', 'FI20', 'DEF0', 'SE22', 'NL32', 'BE21', 'DED4', 'CZ05', 'NL21', 'PL61', 'FRD1', 'BG31', 'NL11', 'RO32', 'FRH0', 'ITH5', 'LI00', 'FRJ2', 'PL22', 'DE24', 'FR10', 'DE12', 'PT16', 'AT34', 'ITI3', 'DED5', 'DE11', 'EL63', 'ITF4', 'UKH2', 'DE91', 'HU32', 'ITH2', 'AL03', 'UKE3', 'UKG1', 'BE31', 'BE23', 'PL91', 'EL65', 'DEE0', 'HU23', 'DE92', 'HR04', 'PT15', 'HU31', 'UKD4', 'HU33', 'NL34', 'NO02', 'RO41', 'FRF3', 'UKK4', 'DE80', 'NO04', 'UKL2', 'BE25', 'DEA4', 'CZ01', 'EL64', 'FRY1', 'CZ02', 'RO12', 'PL82', 'RS12', 'HR03', 'ES11', 'PL21', 'DK01', 'ES61', 'DE23', 'ES63', 'LU00', 'UKI4', 'CH01', 'SE32', 'MK00', 'DEA2', 'EL61', 'ITH4', 'SK03', 'BG34', 'EL62', 'UKI7', 'RS11', 'ES13', 'NO07', 'DK05', 'SE31', 'BE24', 'DEB1', 'UKI6', 'ES43', 'FRK1', 'PL43', 'PT18', 'PT30', 'DE40', 'DE94', 'BG33', 'PL92', 'FRI1', 'SK01', 'IE05', 'UKM7', 'DE14', 'DE21', 'BG42', 'AT32', 'ES23', 'NO05', 'UKN0', 'FRE1', 'FRY2', 'KO01', 'NL13', 'RO11', 'PL62', 'AT13', 'UKE2', 'DE27', 'ITH3', 'ES70', 'FRY5', 'UKK1', 'DK03', 'UKK3', 'CH06', 'EL30', 'BE35', 'CH04', 'DK04', 'HU12', 'AL01', 'DE22', 'AT31', 'PL84', 'AL02', 'UKD3', 'AT22', 'PT20', 'CH07', 'FI19', 'SE11', 'FRY3', 'UKM6', 'DE73', 'ITF3', 'PL71', 'AT12', 'RO22', 'SE33', 'UKL1', 'BE10', 'CZ03', 'DEA1', 'HU22', 'PL41', 'BE33', 'UKJ4', 'UKE4', 'NL33', 'FRI3', 'UKM9', 'ITF1', 'ME00', 'FRY4', 'IE04', 'DE72', 'ES62', 'PL51', 'UKH1', 'PL52', 'DE71', 'NO03', 'SK04', 'ES12', 'ITH1', 'LT01', 'FRI2', 'FRL0', 'UKJ3', 'BA00'}\n",
      "{'ES42', 'UKF1', 'ITC3', 'DE25', 'SE23', 'NL41', 'UKM5', 'ITC2', 'PL72', 'FRF2', 'ITF5', 'FRC1', 'NL12', 'UKG3', 'DE30', 'ITI4', 'ITG2', 'DEA5', 'ES41', 'UKJ2', 'UKF3', 'LT02', 'UKK2', 'EL43', 'EE00', 'UKI3', 'AT33', 'MT00', 'FRM0', 'ES52', 'FRF1', 'EL52', 'FRK2', 'SI03', 'PT11', 'SK02', 'ES53', 'EL42', 'PL63', 'UKE1', 'EL54', 'ES22', 'DEB2', 'CH05', 'DE26', 'NL23', 'DE13', 'ES24', 'UKD1', 'HU21', 'NL42', 'CZ06', 'FRJ1', 'FRD2', 'UKH3', 'DEA3', 'BG41', 'FRC2', 'ITC1', 'FRG0', 'UKJ1', 'RS21', 'NL22', 'UKC2', 'AT21', 'UKC1', 'FI1D', 'FRE2', 'EL53', 'SI04', 'RO31', 'UKF2', 'DE60', 'BE34', 'EL41', 'ITF2', 'RO21', 'AT11', 'ITC4', 'LV00', 'PT17', 'DEB3', 'DEG0', 'CH03', 'ES64', 'CZ07', 'ES51', 'UKM8', 'BE32', 'DK02', 'FRB0', 'HU11', 'DE93', 'CZ08', 'RO42', 'EL51', 'CH02', 'BG32', 'ITI2', 'NO06', 'ITF6', 'SE12', 'UKD7', 'DE50', 'FI1C', 'SE21', 'IE06', 'PL42', 'ES21', 'RS22', 'ITG1', 'UKG2', 'BE22', 'UKD6', 'IS00', 'FI1B', 'NL31', 'UKI5', 'NO01', 'DED2', 'CZ04', 'DEC0', 'PL81', 'CY00', 'ITI1', 'ES30', 'FI20', 'DEF0', 'SE22', 'NL32', 'BE21', 'DED4', 'CZ05', 'NL21', 'PL61', 'FRD1', 'BG31', 'NL11', 'RO32', 'FRH0', 'ITH5', 'LI00', 'FRJ2', 'PL22', 'DE24', 'FR10', 'DE12', 'PT16', 'AT34', 'ITI3', 'DED5', 'DE11', 'EL63', 'ITF4', 'UKH2', 'DE91', 'HU32', 'ITH2', 'AL03', 'UKE3', 'UKG1', 'BE31', 'BE23', 'PL91', 'EL65', 'DEE0', 'HU23', 'DE92', 'HR04', 'PT15', 'HU31', 'UKD4', 'HU33', 'NL34', 'NO02', 'RO41', 'FRF3', 'UKK4', 'DE80', 'NO04', 'UKL2', 'BE25', 'DEA4', 'CZ01', 'EL64', 'FRY1', 'CZ02', 'RO12', 'PL82', 'RS12', 'HR03', 'ES11', 'PL21', 'DK01', 'ES61', 'DE23', 'ES63', 'LU00', 'UKI4', 'CH01', 'SE32', 'MK00', 'DEA2', 'EL61', 'ITH4', 'SK03', 'BG34', 'EL62', 'UKI7', 'RS11', 'ES13', 'NO07', 'DK05', 'SE31', 'BE24', 'DEB1', 'UKI6', 'ES43', 'FRK1', 'PL43', 'PT18', 'PT30', 'DE40', 'DE94', 'BG33', 'PL92', 'FRI1', 'SK01', 'IE05', 'UKM7', 'DE14', 'DE21', 'BG42', 'AT32', 'ES23', 'NO05', 'UKN0', 'FRE1', 'FRY2', 'KO01', 'NL13', 'RO11', 'PL62', 'AT13', 'UKE2', 'DE27', 'ITH3', 'ES70', 'FRY5', 'UKK1', 'DK03', 'UKK3', 'CH06', 'EL30', 'BE35', 'CH04', 'DK04', 'HU12', 'AL01', 'DE22', 'AT31', 'PL84', 'AL02', 'UKD3', 'AT22', 'PT20', 'CH07', 'FI19', 'SE11', 'FRY3', 'UKM6', 'DE73', 'ITF3', 'PL71', 'AT12', 'RO22', 'SE33', 'UKL1', 'BE10', 'CZ03', 'DEA1', 'HU22', 'PL41', 'BE33', 'UKJ4', 'UKE4', 'NL33', 'FRI3', 'UKM9', 'ITF1', 'ME00', 'FRY4', 'IE04', 'DE72', 'ES62', 'PL51', 'UKH1', 'PL52', 'DE71', 'NO03', 'SK04', 'ES12', 'ITH1', 'LT01', 'FRI2', 'FRL0', 'UKJ3', 'BA00'}\n",
      "{'ES42', 'UKF1', 'ITC3', 'DE25', 'SE23', 'NL41', 'UKM5', 'ITC2', 'PL72', 'FRF2', 'ITF5', 'FRC1', 'NL12', 'UKG3', 'DE30', 'ITI4', 'ITG2', 'DEA5', 'ES41', 'UKJ2', 'UKF3', 'LT02', 'UKK2', 'EL43', 'EE00', 'UKI3', 'AT33', 'MT00', 'FRM0', 'ES52', 'FRF1', 'EL52', 'FRK2', 'SI03', 'PT11', 'SK02', 'ES53', 'EL42', 'PL63', 'UKE1', 'EL54', 'ES22', 'DEB2', 'CH05', 'DE26', 'NL23', 'DE13', 'ES24', 'UKD1', 'HU21', 'NL42', 'CZ06', 'FRJ1', 'FRD2', 'UKH3', 'DEA3', 'BG41', 'FRC2', 'ITC1', 'FRG0', 'UKJ1', 'RS21', 'NL22', 'UKC2', 'AT21', 'UKC1', 'FI1D', 'FRE2', 'EL53', 'SI04', 'RO31', 'UKF2', 'DE60', 'BE34', 'EL41', 'ITF2', 'RO21', 'AT11', 'ITC4', 'LV00', 'PT17', 'DEB3', 'DEG0', 'CH03', 'ES64', 'CZ07', 'ES51', 'UKM8', 'BE32', 'DK02', 'FRB0', 'HU11', 'DE93', 'CZ08', 'RO42', 'EL51', 'CH02', 'BG32', 'ITI2', 'NO06', 'ITF6', 'SE12', 'UKD7', 'DE50', 'FI1C', 'SE21', 'IE06', 'PL42', 'ES21', 'RS22', 'ITG1', 'UKG2', 'BE22', 'UKD6', 'IS00', 'FI1B', 'NL31', 'UKI5', 'NO01', 'DED2', 'CZ04', 'DEC0', 'PL81', 'CY00', 'ITI1', 'ES30', 'FI20', 'DEF0', 'SE22', 'NL32', 'BE21', 'DED4', 'CZ05', 'NL21', 'PL61', 'FRD1', 'BG31', 'NL11', 'RO32', 'FRH0', 'ITH5', 'LI00', 'FRJ2', 'PL22', 'DE24', 'FR10', 'DE12', 'PT16', 'AT34', 'ITI3', 'DED5', 'DE11', 'EL63', 'ITF4', 'UKH2', 'DE91', 'HU32', 'ITH2', 'AL03', 'UKE3', 'UKG1', 'BE31', 'BE23', 'PL91', 'EL65', 'DEE0', 'HU23', 'DE92', 'HR04', 'PT15', 'HU31', 'UKD4', 'HU33', 'NL34', 'NO02', 'RO41', 'FRF3', 'UKK4', 'DE80', 'NO04', 'UKL2', 'BE25', 'DEA4', 'CZ01', 'EL64', 'FRY1', 'CZ02', 'RO12', 'PL82', 'RS12', 'HR03', 'ES11', 'PL21', 'DK01', 'ES61', 'DE23', 'ES63', 'LU00', 'UKI4', 'CH01', 'SE32', 'MK00', 'DEA2', 'EL61', 'ITH4', 'SK03', 'BG34', 'EL62', 'UKI7', 'RS11', 'ES13', 'NO07', 'DK05', 'SE31', 'BE24', 'DEB1', 'UKI6', 'ES43', 'FRK1', 'PL43', 'PT18', 'PT30', 'DE40', 'DE94', 'BG33', 'PL92', 'FRI1', 'SK01', 'IE05', 'UKM7', 'DE14', 'DE21', 'BG42', 'AT32', 'ES23', 'NO05', 'UKN0', 'FRE1', 'FRY2', 'KO01', 'NL13', 'RO11', 'PL62', 'AT13', 'UKE2', 'DE27', 'ITH3', 'ES70', 'FRY5', 'UKK1', 'DK03', 'UKK3', 'CH06', 'EL30', 'BE35', 'CH04', 'DK04', 'HU12', 'AL01', 'DE22', 'AT31', 'PL84', 'AL02', 'UKD3', 'AT22', 'PT20', 'CH07', 'FI19', 'SE11', 'FRY3', 'UKM6', 'DE73', 'ITF3', 'PL71', 'AT12', 'RO22', 'SE33', 'UKL1', 'BE10', 'CZ03', 'DEA1', 'HU22', 'PL41', 'BE33', 'UKJ4', 'UKE4', 'NL33', 'FRI3', 'UKM9', 'ITF1', 'ME00', 'FRY4', 'IE04', 'DE72', 'ES62', 'PL51', 'UKH1', 'PL52', 'DE71', 'NO03', 'SK04', 'ES12', 'ITH1', 'LT01', 'FRI2', 'FRL0', 'UKJ3', 'BA00'}\n",
      "Input was successfully read.\n",
      "Preprocessing Data ...\n",
      "Preprocessing was successfully completed.\n",
      "Creating instance filters...\n",
      "Instance filters were successfully created.\n",
      "Initiating model...\n",
      "Model was successfully initiated.\n",
      "Writing preprocessing output...\n",
      "Preprocessing output was successfully written.\n",
      "Writing scenario output...\n",
      "Model output was successfully written.\n"
     ]
    },
    {
     "data": {
      "text/plain": "<Figure size 640x480 with 0 Axes>"
     },
     "metadata": {},
     "output_type": "display_data"
    }
   ],
   "source": [
    "from endemo2 import endemo\n",
    "import warnings\n",
    "import numpy as np\n",
    "\n",
    "warnings.simplefilter('ignore', np.RankWarning)\n",
    "warnings.simplefilter('ignore', UserWarning)\n",
    "\n",
    "model_instance = endemo.Endemo()\n",
    "model_instance.execute_with_preprocessing()\n"
   ],
   "metadata": {
    "collapsed": false,
    "ExecuteTime": {
     "end_time": "2023-08-11T11:30:27.300280100Z",
     "start_time": "2023-08-11T11:30:17.190317600Z"
    }
   }
  },
  {
   "cell_type": "code",
   "execution_count": null,
   "outputs": [],
   "source": [
    "# instance 2\n",
    "model_instance.execute_without_preprocessing()"
   ],
   "metadata": {
    "collapsed": false
   }
  },
  {
   "cell_type": "code",
   "execution_count": 1,
   "outputs": [
    {
     "data": {
      "text/plain": "(1999.0, 2001.0)"
     },
     "execution_count": 1,
     "metadata": {},
     "output_type": "execute_result"
    }
   ],
   "source": [
    "# instance 3\n",
    "model_instance.execute_without_preprocessing()"
   ],
   "metadata": {
    "collapsed": false,
    "ExecuteTime": {
     "end_time": "2023-08-10T08:20:48.621306800Z",
     "start_time": "2023-08-10T08:20:47.380379600Z"
    }
   }
  },
  {
   "cell_type": "markdown",
   "source": [
    "### Check if settings were read correctly"
   ],
   "metadata": {
    "collapsed": false,
    "ExecuteTime": {
     "end_time": "2023-08-10T08:09:11.880678400Z",
     "start_time": "2023-08-10T08:09:11.861278700Z"
    }
   },
   "outputs": [
    {
     "data": {
      "text/plain": "5"
     },
     "execution_count": 4,
     "metadata": {},
     "output_type": "execute_result"
    }
   ],
   "execution_count": 4
  },
  {
   "cell_type": "code",
   "execution_count": null,
   "outputs": [],
   "source": [
    "# general settings\n",
    "gs = model_instance.input_manager.ctrl.general_settings\n",
    "print(\"Forecast year: \" + str(gs.target_year))\n",
    "print(\"Active sectors: \" + str(gs.get_active_sectors()))\n",
    "# print(\"Population Forecast: \" + input_manager.ctrl.general_settings.population_forecast)\n",
    "#print(\"Timeseries Forecast: \" + ...)\n",
    "# nuts ...\n",
    "# world\n",
    "# nuts2 classification\n",
    "# graphical output\n",
    "# calculate final energy demand"
   ],
   "metadata": {
    "collapsed": false
   }
  },
  {
   "cell_type": "code",
   "execution_count": null,
   "outputs": [],
   "source": [
    "print(\"Active Countries: \\n\" + str(gs.active_countries))"
   ],
   "metadata": {
    "collapsed": false
   }
  },
  {
   "cell_type": "code",
   "execution_count": null,
   "outputs": [],
   "source": [
    "# industry settings\n",
    "inds = model_instance.input_manager.ctrl.industry_settings\n",
    "print(\"Forecast method: \" + str(inds.forecast_method))\n",
    "# print(\"Timetrendmodel for u-shape\")\n",
    "print(\"Calculated per capita: \" + str(inds.production_quantity_calc_per_capita))\n",
    "print(\"Calc Specific Energy Requirements: \" + str(inds.trend_calc_for_spec))\n",
    "print(\"H2 subst of heat: \" + str(inds.h2_subst_of_heat))\n",
    "# print(nuts2...)\n",
    "print(\"Skip years: \" + str(inds.skip_years))\n",
    "print(\"Last available year (excluding): \" + str(inds.last_available_year))"
   ],
   "metadata": {
    "collapsed": false
   }
  },
  {
   "cell_type": "markdown",
   "source": [
    "## Test Utility functions\n",
    "### Test Regression"
   ],
   "metadata": {
    "collapsed": false
   }
  },
  {
   "cell_type": "code",
   "execution_count": null,
   "outputs": [],
   "source": [
    "import endemo2.utility as uty\n",
    "\n",
    "# Test Linear Regression\n",
    "\n",
    "x = [2003, 2004, 2005, 2006, 2007, 2008, 2009, 2010, 2011]\n",
    "y = [1258.809906,1259.17278,1259.17278,1111.120188,1063.946568,1124.9094,1100.233968,1100.233968,1095.153732]\n",
    "data = list(zip(x, y))\n",
    "\n",
    "uty.linear_regression(data, visualize=True)\n",
    "\n",
    "# Test Quadratic Regression\n",
    "\n",
    "x = [6, 9, 12, 12, 15, 21, 24, 24, 27, 30, 36, 39, 45, 48, 57, 60]\n",
    "y = [12, 18, 30, 42, 48, 78, 90, 96, 96, 90, 84, 78, 66, 54, 36, 24]\n",
    "data = list(zip(x, y))\n",
    "\n",
    "uty.quadratic_regression(data, visualize=True)\n"
   ],
   "metadata": {
    "collapsed": false
   }
  },
  {
   "cell_type": "markdown",
   "source": [
    "### Test filter out NaN and Inf"
   ],
   "metadata": {
    "collapsed": false
   }
  },
  {
   "cell_type": "code",
   "execution_count": null,
   "outputs": [],
   "source": [
    "import numpy as np\n",
    "import math\n",
    "import endemo2.utility as uty\n",
    "\n",
    "x = [6, 9, 12, 12, 15, 21, 24, 24, 27, 30, 36, 39, 45, 48, 57, 60]\n",
    "y = [12, np.NaN, np.inf, 42, 48, 78, 90, 96, 96, 90, 84, 78, 66, 54, 36, 24]\n",
    "data = list(zip(x, y))\n",
    "\n",
    "uty.filter_out_nan_and_inf(data)"
   ],
   "metadata": {
    "collapsed": false
   }
  },
  {
   "cell_type": "markdown",
   "source": [
    "### Combining Data on the x axis\n",
    "\n",
    "Attention! If the x axis is ascending for both data arrays, use ascending_x=True for better performance!"
   ],
   "metadata": {
    "collapsed": false
   }
  },
  {
   "cell_type": "code",
   "execution_count": null,
   "outputs": [],
   "source": [
    "import endemo2.utility as uty\n",
    "\n",
    "a = [(1, 100), (2, 200), (3, 300), (4, 400), (5, 500)]\n",
    "b = [(2, 2000), (3, 3000), (5, 5000)]\n",
    "\n",
    "print(uty.combine_data_on_x(a, b, ascending_x=True))\n",
    "\n",
    "a = [(1, 100), (2, 200), (3, 300), (4, 400), (5, 500)]\n",
    "b = [(3, 3000),(2, 2000),  (5, 5000)]\n",
    "\n",
    "print(uty.combine_data_on_x(a, b))\n"
   ],
   "metadata": {
    "collapsed": false
   }
  },
  {
   "cell_type": "markdown",
   "source": [
    "### Zip on X explained"
   ],
   "metadata": {
    "collapsed": false
   }
  },
  {
   "cell_type": "code",
   "execution_count": null,
   "outputs": [],
   "source": [
    "import endemo2.utility as uty\n",
    "\n",
    "a = [(1, 100), (2, 200), (3, 300), (4, 400), (5, 500)]\n",
    "b = [(2, 2000), (3, 3000), (5, 5000)]\n",
    "\n",
    "print(list(uty.zip_on_x(a, b)))"
   ],
   "metadata": {
    "collapsed": false
   }
  },
  {
   "cell_type": "code",
   "execution_count": null,
   "outputs": [],
   "source": [
    "import endemo2.utility as uty\n",
    "\n",
    "amount = [(1998, 10), (2001, 12), (2003, 11), (2006, 13)]\n",
    "population = [(2000, 10000), (2001, 11000), (2002, 12000), (2003, 13000), (2004, 14000), (2005, 14000), (2006, 15000)]\n",
    "gdp = [(2000, 20), (2001, 30), (2002, 20), (2003, 30), (2004, 40), (2005, 50), (2006, 60)]\n",
    "\n",
    "zip_amount_pop = list(uty.zip_on_x(amount, population))\n",
    "\n",
    "print(\"zipped amount & population: \" + str(zip_amount_pop))\n",
    "print(\"Transformed amount to per capita: \" + str(list(map(lambda arg: (arg[0][0], arg[0][1] / arg[1][1]), zip_amount_pop))))"
   ],
   "metadata": {
    "collapsed": false
   }
  },
  {
   "cell_type": "code",
   "execution_count": null,
   "outputs": [],
   "source": [
    "import endemo2.utility as uty\n",
    "\n",
    "x = [(2000, 20), (2001, 30), (2002, 20), (2003, 30), (2004, 40), (2005, 50), (2006, 60)]\n",
    "uty.cut_after_x(x, 2002)\n"
   ],
   "metadata": {
    "collapsed": false
   }
  },
  {
   "cell_type": "code",
   "execution_count": null,
   "outputs": [],
   "source": [
    "x[:len(x)-1]"
   ],
   "metadata": {
    "collapsed": false
   }
  },
  {
   "cell_type": "code",
   "execution_count": null,
   "outputs": [],
   "source": [
    "from endemo2.data_structures.containers import Demand, Heat\n",
    "d0:Demand = Demand()\n",
    "print(str(d0))\n",
    "d1 = Demand(1, Heat(1, 1, 1, 1), 1)\n",
    "print(str(d1))\n",
    "d2 = Demand(1, Heat(1, 1, 1, 1), 1)\n",
    "print(str(d2))\n",
    "d3 = Demand(1, Heat(1, 1, 1, 1), 1)\n",
    "print(str(d3))\n",
    "d0.add(d1)\n",
    "d0.add(d2)\n",
    "d0.add(d3)\n",
    "print(str(d0))\n",
    "\n"
   ],
   "metadata": {
    "collapsed": false
   }
  },
  {
   "cell_type": "code",
   "execution_count": null,
   "outputs": [],
   "source": [],
   "metadata": {
    "collapsed": false
   }
  }
 ],
 "metadata": {
  "kernelspec": {
   "display_name": "Python 3 (ipykernel)",
   "language": "python",
   "name": "python3"
  },
  "language_info": {
   "codemirror_mode": {
    "name": "ipython",
    "version": 3
   },
   "file_extension": ".py",
   "mimetype": "text/x-python",
   "name": "python",
   "nbconvert_exporter": "python",
   "pygments_lexer": "ipython3",
   "version": "3.10.11"
  }
 },
 "nbformat": 4,
 "nbformat_minor": 1
}
