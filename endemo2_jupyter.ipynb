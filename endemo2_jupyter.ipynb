{
 "cells": [
  {
   "cell_type": "markdown",
   "metadata": {},
   "source": [
    "# Endemo 2 - Useful Energy Demand Model Rework"
   ]
  },
  {
   "cell_type": "markdown",
   "metadata": {},
   "source": [
    "## Industry Sector\n",
    "\n"
   ]
  },
  {
   "cell_type": "markdown",
   "source": [
    "### Import Packages"
   ],
   "metadata": {
    "collapsed": false
   }
  },
  {
   "cell_type": "code",
   "execution_count": 1,
   "outputs": [],
   "source": [
    "import pathlib\n",
    "\n",
    "import xlrd as x\n",
    "import pandas as pd\n",
    "from pathlib import Path\n",
    "import os"
   ],
   "metadata": {
    "collapsed": false
   }
  },
  {
   "cell_type": "markdown",
   "source": [
    "### Import Custom Classes"
   ],
   "metadata": {
    "collapsed": false
   }
  },
  {
   "cell_type": "code",
   "execution_count": 2,
   "outputs": [],
   "source": [
    "from control_parameters import ControlParameters\n",
    "from industry_sector import Industry\n",
    "from household_sector import Household\n",
    "from transport_sector import Transport\n",
    "from commercial_trade_services_sector import CommercialTradeServices\n",
    "from countries import Countries\n",
    "from product import Product"
   ],
   "metadata": {
    "collapsed": false
   }
  },
  {
   "cell_type": "markdown",
   "source": [
    "### Associate strings with code\n",
    "\n",
    "SECTOR_NAME_TO_OBJECT_MAP: necessary to connect the activated sectors in Set_and_Control_Parameters.xlsl with the code execution"
   ],
   "metadata": {
    "collapsed": false
   }
  },
  {
   "cell_type": "code",
   "execution_count": 3,
   "outputs": [],
   "source": [
    "SECTOR_NAME_TO_OBJECT_MAP = dict({\"industry\":Industry(), \"households\":Household(), \"transport\":Transport(), \"commertial, trade, services\":CommercialTradeServices()})\n",
    "\n",
    "\n"
   ],
   "metadata": {
    "collapsed": false
   }
  },
  {
   "cell_type": "markdown",
   "source": [
    "### Set Input Paths"
   ],
   "metadata": {
    "collapsed": false
   }
  },
  {
   "cell_type": "code",
   "execution_count": 4,
   "outputs": [
    {
     "name": "stdout",
     "output_type": "stream",
     "text": [
      "Input folder at C:\\Users\\Chris\\Documents\\Master_Semester_1\\IDP\\endemo2\\input\n"
     ]
    }
   ],
   "source": [
    "# change path to point to your endemo2 folder\n",
    "\n",
    "super_path = Path(os.path.abspath(''))\n",
    "input_path = super_path / 'input'\n",
    "print(\"Input folder at \" + str(input_path))\n",
    "\n",
    "general_path = input_path / 'general'\n",
    "industry_path = input_path / 'industry'\n"
   ],
   "metadata": {
    "collapsed": false
   }
  },
  {
   "cell_type": "markdown",
   "source": [
    "### Read control parameters"
   ],
   "metadata": {
    "collapsed": false
   }
  },
  {
   "cell_type": "code",
   "execution_count": 5,
   "outputs": [
    {
     "name": "stdout",
     "output_type": "stream",
     "text": [
      "sectors_active_values: {'industry': 1, 'households': 1, 'transport': 1, 'commertial, trade, services': 1}\n",
      "parameter_values: {'Forecast year': 2050, 'Population forecast': 1, 'Timeseries forecast': 1, 'NUTS2 geographical resolution': 1, 'World calculation': 0, 'NUTS2 classification': 2016, 'Graphical output': 1}\n"
     ]
    }
   ],
   "source": [
    "set_and_control_parameters = pd.read_excel(input_path / 'Set_and_Control_Parameters.xlsx')\n",
    "ctrl = ControlParameters(set_and_control_parameters)\n",
    "print(ctrl)"
   ],
   "metadata": {
    "collapsed": false
   }
  },
  {
   "cell_type": "markdown",
   "source": [
    "### Read available countries"
   ],
   "metadata": {
    "collapsed": false
   }
  },
  {
   "cell_type": "code",
   "execution_count": 6,
   "outputs": [
    {
     "name": "stdout",
     "output_type": "stream",
     "text": [
      "valid countries: {'France', 'Kazakhstan', 'Sri Lanka', 'Palestine', 'Qatar', 'Latvia', 'Japan', 'Bosnia and Herzegovina', 'Korea DPR', 'Montenegro', 'Tajikistan', 'Kuwait', 'Iran', 'Norway', 'Lithuania', 'Taiwan (China)', 'Thailand', 'Lao PDR', 'Armenia', 'Bulgaria', 'Yemen', 'Israel', 'Cyprus', 'Timor-Leste', 'Pakistan', 'Syria', 'Spain', 'Denmark', 'India', 'Iceland', 'Maldives', 'Indonesia', 'Slovenia', 'Ireland', 'Brunei Darussalam', 'Iraq', 'China', 'Switzerland', 'Austria', 'Albania', 'North Macedonia', 'Greece', 'Germany', 'Philippines', 'Poland', 'Romania', 'Belgium', 'Italy', 'United Arab Emirates', 'Hong Kong (China)', 'Bahrain', 'Afghanistan', 'Bhutan', 'United Kingdom', 'Korea', 'Myanmar', 'Nepal', 'Jordan', 'Croatia', 'Vietnam', 'Singapore', 'Kosovo', 'Georgia', 'Bangladesh', 'Slovakia', 'Czechia', 'Cambodia', 'Hungary', 'Kyrgyzstan', 'Turkey', 'Turkmenistan', 'Macao (China)', 'Lebanon', 'Luxembourg', 'Saudi Arabia', 'Azerbaijan', 'Portugal', 'Serbia', 'Sweden', 'Oman', 'Estonia', 'Malaysia', 'Finland', 'Netherlands', 'Mongolia', 'Uzbekistan', 'Liechtenstein'}\n"
     ]
    }
   ],
   "source": [
    "abbreviations = pd.read_excel(input_path / 'Set_and_Control_Parameters.xlsx', sheet_name=\"Countries\")\n",
    "countries = Countries(abbreviations)\n",
    "print(countries)"
   ],
   "metadata": {
    "collapsed": false
   }
  },
  {
   "cell_type": "markdown",
   "source": [
    "### Read production data"
   ],
   "metadata": {
    "collapsed": false
   }
  },
  {
   "cell_type": "code",
   "execution_count": 11,
   "outputs": [
    {
     "name": "stdout",
     "output_type": "stream",
     "text": [
      "0                 steel\n",
      "1          steel_direct\n",
      "2              alu_prim\n",
      "3               alu_sec\n",
      "4           cooper_prim\n",
      "5            cooper_sec\n",
      "6               chlorin\n",
      "7               ammonia\n",
      "8              methanol\n",
      "9              ethylene\n",
      "10            propylene\n",
      "11              aromate\n",
      "12      ammonia_classic\n",
      "13     methanol_classic\n",
      "14     ethylene_classic\n",
      "15    propylene_classic\n",
      "16      aromate_classic\n",
      "17                paper\n",
      "18               cement\n",
      "19                glass\n",
      "Name: Main subsectors, dtype: object\n"
     ]
    }
   ],
   "source": [
    "\n",
    "from collections import namedtuple\n",
    "\n",
    "product_names = pd.read_excel(input_path / 'Set_and_Control_Parameters.xlsx', sheet_name=\"IND_subsectors\").get('Main subsectors')\n",
    "print(product_names)\n",
    "\n",
    "Retrieve = namedtuple(\"Retrieve\", [\"filename\", \"sheetname\", \"transform\"])\n",
    "\n",
    "ugly_data_retrievement = {\"steel\": Retrieve(\"Steel\", \"Data\", lambda p : p),\n",
    "                          \"alu_prim\": Retrieve(\"Aluminium\", \"Prim_Data\", lambda p : p),\n",
    "                          \"alu_sec\": Retrieve(\"Aluminium\", \"Sec_Data\", lambda p : p),\n",
    "                          \"cooper_prim\": Retrieve(\"Cooper\", \"Copper_WSP\", lambda p : p)\n",
    "                          }\n",
    "file_name = ugly_data_retrievement[\"cooper_prim\"].filename + \"_Production.xlsx\"\n",
    "excel = pd.read_excel(industry_path / file_name, sheet_name=ugly_data_retrievement[\"cooper_prim\"].sheetname)\n",
    "\n",
    "excel = excel.loc[excel['Type'] == \"Primary\"]\n",
    "\n",
    "#product_data = dict()\n",
    "\n",
    "#for product_name in product_names:\n",
    " #   file_name = product_name + \"_Production.xlsx\"\n",
    "  #  excel = pd.read_excel(industry_path / file_name)\n",
    "   # product_data[product_name] = Product(product_name, excel, countries)\n"
   ],
   "metadata": {
    "collapsed": false,
    "ExecuteTime": {
     "end_time": "2023-05-03T16:33:12.657930200Z",
     "start_time": "2023-05-03T16:33:11.023468700Z"
    }
   }
  },
  {
   "cell_type": "code",
   "execution_count": null,
   "outputs": [],
   "source": [],
   "metadata": {
    "collapsed": false
   }
  },
  {
   "cell_type": "code",
   "execution_count": null,
   "outputs": [],
   "source": [],
   "metadata": {
    "collapsed": false
   }
  },
  {
   "cell_type": "code",
   "execution_count": null,
   "outputs": [],
   "source": [],
   "metadata": {
    "collapsed": false
   }
  },
  {
   "cell_type": "code",
   "execution_count": null,
   "outputs": [],
   "source": [],
   "metadata": {
    "collapsed": false
   }
  }
 ],
 "metadata": {
  "kernelspec": {
   "display_name": "Python 3 (ipykernel)",
   "language": "python",
   "name": "python3"
  },
  "language_info": {
   "codemirror_mode": {
    "name": "ipython",
    "version": 3
   },
   "file_extension": ".py",
   "mimetype": "text/x-python",
   "name": "python",
   "nbconvert_exporter": "python",
   "pygments_lexer": "ipython3",
   "version": "3.10.11"
  }
 },
 "nbformat": 4,
 "nbformat_minor": 1
}
