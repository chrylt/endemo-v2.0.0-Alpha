{
 "cells": [
  {
   "cell_type": "markdown",
   "metadata": {},
   "source": [
    "# Endemo - Useful Energy Demand Model"
   ]
  },
  {
   "cell_type": "markdown",
   "source": [
    "## Create Input Manager"
   ],
   "metadata": {
    "collapsed": false
   }
  },
  {
   "cell_type": "raw",
   "source": [
    "import os\n",
    "from pathlib import Path\n",
    "import pandas as pd\n",
    "from endemo2.general import country_containers as cc\n",
    "\n",
    "super_path = Path(os.path.abspath(''))\n",
    "input_path = super_path / 'input'\n",
    "output_path = super_path / 'output'\n",
    "general_path = input_path / 'general'\n",
    "industry_path = input_path / 'industry'\n",
    "\n",
    "ex_country_groups = pd.ExcelFile(industry_path / \"Country_Groups.xlsx\")\n",
    "\n",
    "# read country groups\n",
    "country_groups = dict[str, [[str]]]({cc.GroupType.SEPARATE: [], cc.GroupType.JOINED: [], cc.GroupType.JOINED_DIVERSIFIED: []})\n",
    "\n",
    "df_country_groups = pd.read_excel(ex_country_groups, sheet_name=\"Example\")      #sheet_name=product_name)\n",
    "\n",
    "map_group_type = {\"joined\": cc.GroupType.JOINED,\n",
    "                  \"joined_diversified\": cc.GroupType.JOINED_DIVERSIFIED,\n",
    "                  \"separate\": cc.GroupType.SEPARATE}\n",
    "\n",
    "all_countries = set([\"Germany\", \"Austria\", \"Switzerland\", \"Hungary\", \"Belgium\"])\n",
    "grouped_countries = set()\n",
    "all_others_group_type = None\n",
    "\n",
    "for _, row in df_country_groups.iterrows():\n",
    "    group_type = map_group_type[row[\"Combination Type\"]]\n",
    "    new_group = [entry for entry in row[1:] if str(entry) != \"nan\"]\n",
    "    if \"all_others\" in new_group:\n",
    "        all_others_group_type = group_type\n",
    "        continue\n",
    "    country_groups[group_type].append(new_group)\n",
    "    grouped_countries |= set(new_group)\n",
    "if all_others_group_type is not None:\n",
    "    country_groups[all_others_group_type] = [country for country in all_countries if country not in grouped_countries]\n"
   ],
   "metadata": {
    "collapsed": false
   }
  },
  {
   "cell_type": "code",
   "execution_count": 1,
   "outputs": [
    {
     "name": "stdout",
     "output_type": "stream",
     "text": [
      "Input was successfully read.\n",
      "Preprocessing was successfully completed.\n",
      "Instance filters were successfully created.\n",
      "Model was successfully initiated.\n",
      "Preprocessing output was successfully written.\n",
      "{'BE10': 0.0, 'BE21': 0.0, 'BE22': 0.14285714285714285, 'BE23': 0.5952380952380952, 'BE24': 0.0, 'BE25': 0.0, 'BE31': 0.0, 'BE32': 0.2619047619047619, 'BE33': 0.0, 'BE34': 0.0, 'BE35': 0.0}\n",
      "{'BG31': 0.0, 'BG32': 0.0, 'BG33': 0.0, 'BG34': 0.0, 'BG41': 1.0, 'BG42': 0.0}\n",
      "{'CZ01': 0.0, 'CZ02': 0.0, 'CZ03': 0.056179775280898875, 'CZ04': 0.0, 'CZ05': 0.0, 'CZ06': 0.0, 'CZ07': 0.0, 'CZ08': 0.9438202247191011}\n",
      "{'DK01': 0.2, 'DK02': 0.2, 'DK03': 0.2, 'DK04': 0.2, 'DK05': 0.2}\n",
      "{'DE11': 0.0, 'DE12': 0.0, 'DE13': 0.05716899153898925, 'DE14': 0.0, 'DE21': 0.0, 'DE22': 0.0, 'DE23': 0.0, 'DE24': 0.0, 'DE25': 0.0, 'DE26': 0.0, 'DE27': 0.026983764006402927, 'DE30': 0.0, 'DE40': 0.11891150240109764, 'DE50': 0.08689686713926366, 'DE60': 0.02515435627715527, 'DE71': 0.0, 'DE72': 0.00914703864623828, 'DE73': 0.0, 'DE80': 0.0, 'DE91': 0.14177909901669333, 'DE92': 0.0, 'DE93': 0.0, 'DE94': 0.039332266178824606, 'DEA1': 0.2643494168762863, 'DEA2': 0.0, 'DEA3': 0.0, 'DEA4': 0.0, 'DEA5': 0.028127143837182712, 'DEB1': 0.0, 'DEB2': 0.0, 'DEB3': 0.0, 'DEC0': 0.15206951749371142, 'DED2': 0.024925680310999315, 'DED4': 0.0, 'DED5': 0.0, 'DEE0': 0.0, 'DEF0': 0.0, 'DEG0': 0.02515435627715527}\n",
      "{'IE04': 0.3333333333333333, 'IE05': 0.3333333333333333, 'IE06': 0.3333333333333333}\n",
      "{'EL30': 0.34782608695652173, 'EL41': 0.0, 'EL42': 0.0, 'EL43': 0.0, 'EL51': 0.0, 'EL52': 0.17391304347826086, 'EL53': 0.0, 'EL54': 0.0, 'EL61': 0.4782608695652174, 'EL62': 0.0, 'EL63': 0.0, 'EL64': 0.0, 'EL65': 0.0}\n",
      "{'ES11': 0.03108348134991119, 'ES12': 0.23978685612788633, 'ES13': 0.04396092362344583, 'ES21': 0.36101243339253997, 'ES22': 0.0, 'ES23': 0.0, 'ES24': 0.022202486678507993, 'ES30': 0.02664298401420959, 'ES41': 0.0, 'ES42': 0.0, 'ES43': 0.0, 'ES51': 0.10657193605683836, 'ES52': 0.0, 'ES53': 0.0, 'ES61': 0.16873889875666073, 'ES62': 0.0, 'ES63': 0.0, 'ES64': 0.0, 'ES70': 0.0}\n",
      "{'FR10': 0.10434322033898305, 'FRB0': 0.0, 'FRC1': 0.012711864406779662, 'FRC2': 0.0, 'FRD1': 0.0, 'FRD2': 0.0, 'FRE1': 0.4385593220338983, 'FRE2': 0.0, 'FRF1': 0.0, 'FRF2': 0.0, 'FRF3': 0.06673728813559322, 'FRG0': 0.0, 'FRH0': 0.0, 'FRI1': 0.0635593220338983, 'FRI2': 0.0, 'FRI3': 0.0, 'FRJ1': 0.0, 'FRJ2': 0.0, 'FRK1': 0.0, 'FRK2': 0.018538135593220338, 'FRL0': 0.2955508474576271, 'FRM0': 0.0, 'FRY1': 0.0, 'FRY2': 0.0, 'FRY3': 0.0, 'FRY4': 0.0, 'FRY5': 0.0}\n",
      "{'HR02': 0.6542056074766355, 'HR03': 0.34579439252336447, 'HR04': 0.6542056074766355, 'HR05': 0.0, 'HR06': 0.0}\n",
      "{'ITC1': 0.01763668430335097, 'ITC2': 0.007642563198118754, 'ITC3': 0.0, 'ITC4': 0.3459729570840682, 'ITF1': 0.0, 'ITF2': 0.0, 'ITF3': 0.0, 'ITF4': 0.33803644914756026, 'ITF5': 0.0, 'ITF6': 0.0, 'ITG1': 0.014697236919459141, 'ITG2': 0.0, 'ITH1': 0.005878894767783657, 'ITH2': 0.01763668430335097, 'ITH3': 0.17254556143445032, 'ITH4': 0.03733098177542622, 'ITH5': 0.0, 'ITI1': 0.0, 'ITI2': 0.04262198706643151, 'ITI3': 0.0, 'ITI4': 0.0}\n",
      "{'LV00': 1.0}\n",
      "{'LU00': 1.0}\n",
      "{'HU11': 0.0, 'HU12': 0.0, 'HU21': 0.8048780487804879, 'HU22': 0.0, 'HU23': 0.0, 'HU31': 0.1951219512195122, 'HU32': 0.0, 'HU33': 0.0}\n",
      "{'NL11': 0.0, 'NL12': 0.0, 'NL13': 0.0, 'NL21': 0.0, 'NL22': 0.0, 'NL23': 0.0, 'NL31': 0.0, 'NL32': 1.0, 'NL33': 0.0, 'NL34': 0.0, 'NL41': 0.0, 'NL42': 0.0}\n",
      "{'AT11': 0.0, 'AT12': 0.0, 'AT13': 0.0, 'AT21': 0.0, 'AT22': 0.28698752228163993, 'AT31': 0.7130124777183601, 'AT32': 0.0, 'AT33': 0.0, 'AT34': 0.0}\n",
      "{'PL21': 0.21505376344086022, 'PL22': 0.6286186931348222, 'PL41': 0.0, 'PL42': 0.0, 'PL43': 0.0, 'PL51': 0.0, 'PL52': 0.0, 'PL61': 0.0, 'PL62': 0.0, 'PL63': 0.0, 'PL71': 0.0, 'PL72': 0.07444168734491315, 'PL81': 0.0, 'PL82': 0.019851116625310174, 'PL84': 0.0, 'PL91': 0.062034739454094295, 'PL92': 0.0}\n",
      "{'PT11': 0.35294117647058826, 'PT15': 0.0, 'PT16': 0.0, 'PT17': 0.6470588235294118, 'PT18': 0.0, 'PT20': 0.0, 'PT30': 0.0}\n",
      "{'RO11': 0.0, 'RO12': 0.0, 'RO21': 0.0, 'RO22': 0.5818181818181818, 'RO31': 0.08545454545454545, 'RO32': 0.0, 'RO41': 0.0, 'RO42': 0.3327272727272727}\n",
      "{'SI03': 0.3670886075949367, 'SI04': 0.6329113924050633}\n",
      "{'SK01': 0.0, 'SK02': 0.0, 'SK03': 0.07216494845360824, 'SK04': 0.9278350515463918}\n",
      "{'FI19': 0.0, 'FI1B': 0.0, 'FI1C': 0.08450704225352113, 'FI1D': 0.9154929577464789, 'FI20': 0.0}\n",
      "{'SE11': 0.0, 'SE12': 0.29335634167385677, 'SE21': 0.0, 'SE22': 0.0, 'SE23': 0.0, 'SE31': 0.3270060396893874, 'SE32': 0.0, 'SE33': 0.3796376186367558}\n",
      "{'UKC1': 0.0, 'UKC2': 0.0, 'UKD1': 0.0, 'UKD3': 0.0, 'UKD4': 0.0, 'UKD6': 0.0, 'UKD7': 0.0, 'UKE1': 0.28699551569506726, 'UKE2': 0.0, 'UKE3': 0.16591928251121077, 'UKE4': 0.0, 'UKF1': 0.0, 'UKF2': 0.0, 'UKF3': 0.0, 'UKG1': 0.0, 'UKG2': 0.0, 'UKG3': 0.0, 'UKH1': 0.0, 'UKH2': 0.0, 'UKH3': 0.0, 'UKI3': 0.0, 'UKI4': 0.0, 'UKI5': 0.0, 'UKI6': 0.0, 'UKI7': 0.0, 'UKJ1': 0.0, 'UKJ2': 0.0, 'UKJ3': 0.0, 'UKJ4': 0.0, 'UKK1': 0.0, 'UKK2': 0.0, 'UKK3': 0.0, 'UKK4': 0.0, 'UKL1': 0.43946188340807174, 'UKL2': 0.10762331838565023, 'UKM5': 0.0, 'UKM6': 0.0, 'UKM7': 0.0, 'UKM8': 0.0, 'UKM9': 0.0, 'UKN0': 0.0}\n",
      "{'NO02': 0.14285714285714285, 'NO06': 0.14285714285714285, 'NO07': 0.14285714285714285, 'NO08': 0.14285714285714285, 'NO09': 0.14285714285714285, 'NO0A': 0.14285714285714285, 'NO0B': 0.14285714285714285, 'NO01': 0.08074534161490685, 'NO03': 0.062111801242236024, 'NO04': 0.14285714285714285, 'NO05': 0.14285714285714285}\n",
      "{'CH01': 0.14285714285714285, 'CH02': 0.14285714285714285, 'CH03': 0.14285714285714285, 'CH04': 0.14285714285714285, 'CH05': 0.14285714285714285, 'CH06': 0.14285714285714285, 'CH07': 0.14285714285714285}\n",
      "{'ME00': 1.0}\n",
      "{'MK00': 1.0}\n",
      "{'AL01': 0.3333333333333333, 'AL02': 0.3333333333333333, 'AL03': 0.3333333333333333}\n",
      "{'RS11': 0.25, 'RS12': 0.25, 'RS21': 0.25, 'RS22': 0.25}\n",
      "{'BA00': 1.0}\n"
     ]
    },
    {
     "ename": "AttributeError",
     "evalue": "'NoneType' object has no attribute 'get_nuts2_capacities'",
     "output_type": "error",
     "traceback": [
      "\u001B[1;31m---------------------------------------------------------------------------\u001B[0m",
      "\u001B[1;31mAttributeError\u001B[0m                            Traceback (most recent call last)",
      "Cell \u001B[1;32mIn[1], line 4\u001B[0m\n\u001B[0;32m      1\u001B[0m \u001B[38;5;28;01mfrom\u001B[39;00m \u001B[38;5;21;01mendemo2\u001B[39;00m \u001B[38;5;28;01mimport\u001B[39;00m endemo\n\u001B[0;32m      3\u001B[0m model_instance \u001B[38;5;241m=\u001B[39m endemo\u001B[38;5;241m.\u001B[39mEndemo()\n\u001B[1;32m----> 4\u001B[0m \u001B[43mmodel_instance\u001B[49m\u001B[38;5;241;43m.\u001B[39;49m\u001B[43mexecute_with_preprocessing\u001B[49m\u001B[43m(\u001B[49m\u001B[43m)\u001B[49m\n",
      "File \u001B[1;32m~\\Documents\\Master_Semester_1\\IDP\\endemo2\\endemo2\\endemo.py:40\u001B[0m, in \u001B[0;36mEndemo.execute_with_preprocessing\u001B[1;34m(self)\u001B[0m\n\u001B[0;32m     37\u001B[0m \u001B[38;5;28mself\u001B[39m\u001B[38;5;241m.\u001B[39mcreate_instance()\n\u001B[0;32m     39\u001B[0m \u001B[38;5;66;03m# generate output files\u001B[39;00m\n\u001B[1;32m---> 40\u001B[0m \u001B[38;5;28;43mself\u001B[39;49m\u001B[38;5;241;43m.\u001B[39;49m\u001B[43mwrite_output\u001B[49m\u001B[43m(\u001B[49m\u001B[43m)\u001B[49m\n",
      "File \u001B[1;32m~\\Documents\\Master_Semester_1\\IDP\\endemo2\\endemo2\\endemo.py:90\u001B[0m, in \u001B[0;36mEndemo.write_output\u001B[1;34m(self)\u001B[0m\n\u001B[0;32m     88\u001B[0m \u001B[38;5;250m\u001B[39m\u001B[38;5;124;03m\"\"\" Writes the models' output to the output folder. \"\"\"\u001B[39;00m\n\u001B[0;32m     89\u001B[0m \u001B[38;5;28mself\u001B[39m\u001B[38;5;241m.\u001B[39mwrite_preprocessing_output(\u001B[38;5;124m\"\u001B[39m\u001B[38;5;124mpreprocessing\u001B[39m\u001B[38;5;124m\"\u001B[39m)\n\u001B[1;32m---> 90\u001B[0m \u001B[38;5;28;43mself\u001B[39;49m\u001B[38;5;241;43m.\u001B[39;49m\u001B[43mwrite_model_output\u001B[49m\u001B[43m(\u001B[49m\u001B[43m)\u001B[49m\n",
      "File \u001B[1;32m~\\Documents\\Master_Semester_1\\IDP\\endemo2\\endemo2\\endemo.py:84\u001B[0m, in \u001B[0;36mEndemo.write_model_output\u001B[1;34m(self, folder_name)\u001B[0m\n\u001B[0;32m     82\u001B[0m \u001B[38;5;28;01mdef\u001B[39;00m \u001B[38;5;21mwrite_model_output\u001B[39m(\u001B[38;5;28mself\u001B[39m, folder_name: \u001B[38;5;28mstr\u001B[39m \u001B[38;5;241m=\u001B[39m \u001B[38;5;124m\"\u001B[39m\u001B[38;5;124m\"\u001B[39m):\n\u001B[0;32m     83\u001B[0m \u001B[38;5;250m    \u001B[39m\u001B[38;5;124;03m\"\"\" Writes all the output that comes from preprocessing. \"\"\"\u001B[39;00m\n\u001B[1;32m---> 84\u001B[0m     \u001B[43mgenerate_instance_output\u001B[49m\u001B[43m(\u001B[49m\u001B[38;5;28;43mself\u001B[39;49m\u001B[38;5;241;43m.\u001B[39;49m\u001B[43minput_manager\u001B[49m\u001B[43m,\u001B[49m\u001B[43m \u001B[49m\u001B[38;5;28;43mself\u001B[39;49m\u001B[38;5;241;43m.\u001B[39;49m\u001B[43mcountries\u001B[49m\u001B[43m)\u001B[49m\n\u001B[0;32m     85\u001B[0m     \u001B[38;5;28mprint\u001B[39m(\u001B[38;5;124m\"\u001B[39m\u001B[38;5;124mModel output was successfully written.\u001B[39m\u001B[38;5;124m\"\u001B[39m)\n",
      "File \u001B[1;32m~\\Documents\\Master_Semester_1\\IDP\\endemo2\\endemo2\\output\\instance_output.py:11\u001B[0m, in \u001B[0;36mgenerate_instance_output\u001B[1;34m(input_manager, countries)\u001B[0m\n\u001B[0;32m     10\u001B[0m \u001B[38;5;28;01mdef\u001B[39;00m \u001B[38;5;21mgenerate_instance_output\u001B[39m(input_manager: Input, countries: \u001B[38;5;28mdict\u001B[39m[\u001B[38;5;28mstr\u001B[39m, Country]):\n\u001B[1;32m---> 11\u001B[0m     \u001B[43mgenerate_demand_output\u001B[49m\u001B[43m(\u001B[49m\u001B[43minput_manager\u001B[49m\u001B[43m,\u001B[49m\u001B[43m \u001B[49m\u001B[43mcountries\u001B[49m\u001B[43m)\u001B[49m\n",
      "File \u001B[1;32m~\\Documents\\Master_Semester_1\\IDP\\endemo2\\endemo2\\output\\instance_output.py:57\u001B[0m, in \u001B[0;36mgenerate_demand_output\u001B[1;34m(input_manager, countries)\u001B[0m\n\u001B[0;32m     55\u001B[0m industry: Industry \u001B[38;5;241m=\u001B[39m country\u001B[38;5;241m.\u001B[39mget_sector(SectorIdentifier\u001B[38;5;241m.\u001B[39mINDUSTRY)\n\u001B[0;32m     56\u001B[0m product: Product \u001B[38;5;241m=\u001B[39m industry\u001B[38;5;241m.\u001B[39mget_product(product_name)\n\u001B[1;32m---> 57\u001B[0m dict_nuts2_demand: \u001B[38;5;28mdict\u001B[39m[\u001B[38;5;28mstr\u001B[39m, Demand] \u001B[38;5;241m=\u001B[39m \u001B[43mproduct\u001B[49m\u001B[38;5;241;43m.\u001B[39;49m\u001B[43mget_demand_distributed_by_nuts2\u001B[49m\u001B[43m(\u001B[49m\u001B[43m)\u001B[49m\n\u001B[0;32m     58\u001B[0m \u001B[38;5;28;01mfor\u001B[39;00m (nuts2_region_name, demand) \u001B[38;5;129;01min\u001B[39;00m dict_nuts2_demand\u001B[38;5;241m.\u001B[39mitems():\n\u001B[0;32m     59\u001B[0m     fg\u001B[38;5;241m.\u001B[39madd_entry(\u001B[38;5;124m\"\u001B[39m\u001B[38;5;124mNUTS2 Region\u001B[39m\u001B[38;5;124m\"\u001B[39m, nuts2_region_name)\n",
      "File \u001B[1;32m~\\Documents\\Master_Semester_1\\IDP\\endemo2\\endemo2\\industry\\products.py:53\u001B[0m, in \u001B[0;36mProduct.get_demand_distributed_by_nuts2\u001B[1;34m(self)\u001B[0m\n\u001B[0;32m     45\u001B[0m \u001B[38;5;250m\u001B[39m\u001B[38;5;124;03m\"\"\"\u001B[39;00m\n\u001B[0;32m     46\u001B[0m \u001B[38;5;124;03mCalculated demand and distributes result according to installed capacities of nuts2\u001B[39;00m\n\u001B[0;32m     47\u001B[0m \n\u001B[0;32m     48\u001B[0m \u001B[38;5;124;03m:return: The demand distributed by nuts2 regions as a dictionary {region_name -> region_demand}\u001B[39;00m\n\u001B[0;32m     49\u001B[0m \u001B[38;5;124;03m\"\"\"\u001B[39;00m\n\u001B[0;32m     51\u001B[0m product_demand \u001B[38;5;241m=\u001B[39m \u001B[38;5;28mself\u001B[39m\u001B[38;5;241m.\u001B[39mcalculate_demand()\n\u001B[0;32m     52\u001B[0m installed_capacities \u001B[38;5;241m=\u001B[39m \\\n\u001B[1;32m---> 53\u001B[0m     \u001B[38;5;28;43mself\u001B[39;49m\u001B[38;5;241;43m.\u001B[39;49m\u001B[43m_product_instance_filter\u001B[49m\u001B[38;5;241;43m.\u001B[39;49m\u001B[43mget_nuts2_capacities\u001B[49m(\u001B[38;5;28mself\u001B[39m\u001B[38;5;241m.\u001B[39m_country_name, \u001B[38;5;28mself\u001B[39m\u001B[38;5;241m.\u001B[39m_product_name)\n\u001B[0;32m     55\u001B[0m distributed_demand \u001B[38;5;241m=\u001B[39m \u001B[38;5;28mdict\u001B[39m[\u001B[38;5;28mstr\u001B[39m, Demand]()\n\u001B[0;32m     57\u001B[0m \u001B[38;5;28;01mfor\u001B[39;00m (nuts2_region_name, installed_capacity) \u001B[38;5;129;01min\u001B[39;00m installed_capacities\u001B[38;5;241m.\u001B[39mitems():\n",
      "\u001B[1;31mAttributeError\u001B[0m: 'NoneType' object has no attribute 'get_nuts2_capacities'"
     ]
    }
   ],
   "source": [
    "from endemo2 import endemo\n",
    "\n",
    "model_instance = endemo.Endemo()\n",
    "model_instance.execute_with_preprocessing()\n"
   ],
   "metadata": {
    "collapsed": false,
    "ExecuteTime": {
     "end_time": "2023-08-03T17:07:28.564967700Z",
     "start_time": "2023-08-03T17:07:19.732204Z"
    }
   }
  },
  {
   "cell_type": "markdown",
   "source": [
    "### Check if settings were read correctly"
   ],
   "metadata": {
    "collapsed": false
   }
  },
  {
   "cell_type": "code",
   "execution_count": null,
   "outputs": [],
   "source": [
    "# general settings\n",
    "gs = model_instance.input_manager.ctrl.general_settings\n",
    "print(\"Forecast year: \" + str(gs.target_year))\n",
    "print(\"Active sectors: \" + str(gs.get_active_sectors()))\n",
    "# print(\"Population Forecast: \" + input_manager.ctrl.general_settings.population_forecast)\n",
    "#print(\"Timeseries Forecast: \" + ...)\n",
    "# nuts ...\n",
    "# world\n",
    "# nuts2 classification\n",
    "# graphical output\n",
    "# calculate final energy demand"
   ],
   "metadata": {
    "collapsed": false
   }
  },
  {
   "cell_type": "code",
   "execution_count": null,
   "outputs": [],
   "source": [
    "print(\"Active Countries: \\n\" + str(gs.active_countries))"
   ],
   "metadata": {
    "collapsed": false
   }
  },
  {
   "cell_type": "code",
   "execution_count": null,
   "outputs": [],
   "source": [
    "# industry settings\n",
    "inds = model_instance.input_manager.ctrl.industry_settings\n",
    "print(\"Forecast method: \" + str(inds.forecast_method))\n",
    "# print(\"Timetrendmodel for u-shape\")\n",
    "print(\"Calculated per capita: \" + str(inds.production_quantity_calc_per_capita))\n",
    "print(\"Calc Specific Energy Requirements: \" + str(inds.trend_calc_for_spec))\n",
    "print(\"H2 subst of heat: \" + str(inds.h2_subst_of_heat))\n",
    "# print(nuts2...)\n",
    "print(\"Skip years: \" + str(inds.skip_years))\n",
    "print(\"Last available year (excluding): \" + str(inds.last_available_year))"
   ],
   "metadata": {
    "collapsed": false
   }
  },
  {
   "cell_type": "markdown",
   "source": [
    "## Generate output"
   ],
   "metadata": {
    "collapsed": false
   }
  },
  {
   "cell_type": "markdown",
   "source": [
    "### Demand Prognosis Output"
   ],
   "metadata": {
    "collapsed": false
   }
  },
  {
   "cell_type": "raw",
   "source": [
    "demand_out_file_path = input_manager.output_path / (\"endemo2_demand_projections_\" + str(target_year) + \".xlsx\")\n",
    "\n",
    "with pd.ExcelWriter(demand_out_file_path) as excel_writer:\n",
    "    for product_name, product_obj in input_manager.industry_input.active_products.items():\n",
    "        sheet_name = product_name\n",
    "        dict_demand_out = {\"Country\": [], \"Electricity [TWh]\": [], \"Heat [TWh]\": [], \"Hydrogen [TWh]\": [], \"Heat Q1 [TWh]\": [], \"Heat Q2 [TWh]\": [], \"Heat Q3 [TWh]\": [], \"Heat Q4 [TWh]\": [], \"Perc. Used [%]\": []}\n",
    "        for country in countries:\n",
    "            dict_demand_out[\"Country\"].append(country.get_name())\n",
    "            product = country.get_sector(sector.SectorIdentifier.INDUSTRY).get_product(product_name)\n",
    "            demand: output.Demand = product.calculate_demand(target_year)\n",
    "            dict_demand_out[\"Electricity [TWh]\"].append(demand.electricity)\n",
    "            dict_demand_out[\"Heat [TWh]\"].append(demand.heat.q1 + demand.heat.q2 + demand.heat.q3 + demand.heat.q4)\n",
    "            dict_demand_out[\"Hydrogen [TWh]\"].append(demand.hydrogen)\n",
    "            dict_demand_out[\"Heat Q1 [TWh]\"].append(demand.heat.q1)\n",
    "            dict_demand_out[\"Heat Q2 [TWh]\"].append(demand.heat.q2)\n",
    "            dict_demand_out[\"Heat Q3 [TWh]\"].append(demand.heat.q3)\n",
    "            dict_demand_out[\"Heat Q4 [TWh]\"].append(demand.heat.q4)\n",
    "            dict_demand_out[\"Perc. Used [%]\"].append(product._perc_used * 100)\n",
    "        df_demand_out = pd.DataFrame(dict_demand_out)\n",
    "        df_demand_out.to_excel(excel_writer, index=False, sheet_name=sheet_name, float_format=\"%.5f\")\n",
    "\n",
    "print(\"Product Demand prognosis for year \" + str(target_year) + \" was successfully written to \" + str(demand_out_file_path))"
   ],
   "metadata": {
    "collapsed": false
   }
  },
  {
   "cell_type": "markdown",
   "source": [
    "## Test Utility functions\n",
    "### Test Regression"
   ],
   "metadata": {
    "collapsed": false
   }
  },
  {
   "cell_type": "code",
   "execution_count": null,
   "outputs": [],
   "source": [
    "import endemo2.utility.utility as uty\n",
    "\n",
    "# Test Linear Regression\n",
    "\n",
    "x = [2003, 2004, 2005, 2006, 2007, 2008, 2009, 2010, 2011]\n",
    "y = [1258.809906,1259.17278,1259.17278,1111.120188,1063.946568,1124.9094,1100.233968,1100.233968,1095.153732]\n",
    "data = list(zip(x, y))\n",
    "\n",
    "uty.linear_regression(data, visualize=True)\n",
    "\n",
    "# Test Quadratic Regression\n",
    "\n",
    "x = [6, 9, 12, 12, 15, 21, 24, 24, 27, 30, 36, 39, 45, 48, 57, 60]\n",
    "y = [12, 18, 30, 42, 48, 78, 90, 96, 96, 90, 84, 78, 66, 54, 36, 24]\n",
    "data = list(zip(x, y))\n",
    "\n",
    "uty.quadratic_regression(data, visualize=True)\n"
   ],
   "metadata": {
    "collapsed": false
   }
  },
  {
   "cell_type": "markdown",
   "source": [
    "### Test filter out NaN and Inf"
   ],
   "metadata": {
    "collapsed": false
   }
  },
  {
   "cell_type": "code",
   "execution_count": null,
   "outputs": [],
   "source": [
    "import numpy as np\n",
    "import math\n",
    "import endemo2.utility.utility as uty\n",
    "\n",
    "x = [6, 9, 12, 12, 15, 21, 24, 24, 27, 30, 36, 39, 45, 48, 57, 60]\n",
    "y = [12, np.NaN, np.inf, 42, 48, 78, 90, 96, 96, 90, 84, 78, 66, 54, 36, 24]\n",
    "data = list(zip(x, y))\n",
    "\n",
    "uty.filter_out_nan_and_inf(data)"
   ],
   "metadata": {
    "collapsed": false
   }
  },
  {
   "cell_type": "markdown",
   "source": [
    "### Combining Data on the x axis\n",
    "\n",
    "Attention! If the x axis is ascending for both data arrays, use ascending_x=True for better performance!"
   ],
   "metadata": {
    "collapsed": false
   }
  },
  {
   "cell_type": "code",
   "execution_count": null,
   "outputs": [],
   "source": [
    "import endemo2.utility as uty\n",
    "\n",
    "a = [(1, 100), (2, 200), (3, 300), (4, 400), (5, 500)]\n",
    "b = [(2, 2000), (3, 3000), (5, 5000)]\n",
    "\n",
    "print(uty.combine_data_on_x(a, b, ascending_x=True))\n",
    "\n",
    "a = [(1, 100), (2, 200), (3, 300), (4, 400), (5, 500)]\n",
    "b = [(3, 3000),(2, 2000),  (5, 5000)]\n",
    "\n",
    "print(uty.combine_data_on_x(a, b))\n"
   ],
   "metadata": {
    "collapsed": false
   }
  },
  {
   "cell_type": "markdown",
   "source": [
    "### Zip on X explained"
   ],
   "metadata": {
    "collapsed": false
   }
  },
  {
   "cell_type": "code",
   "execution_count": null,
   "outputs": [],
   "source": [
    "import endemo2.utility.utility as uty\n",
    "\n",
    "a = [(1, 100), (2, 200), (3, 300), (4, 400), (5, 500)]\n",
    "b = [(2, 2000), (3, 3000), (5, 5000)]\n",
    "\n",
    "print(list(uty.zip_on_x(a, b)))"
   ],
   "metadata": {
    "collapsed": false
   }
  },
  {
   "cell_type": "code",
   "execution_count": null,
   "outputs": [],
   "source": [
    "import endemo2.utility.utility as uty\n",
    "\n",
    "amount = [(1998, 10), (2001, 12), (2003, 11), (2006, 13)]\n",
    "population = [(2000, 10000), (2001, 11000), (2002, 12000), (2003, 13000), (2004, 14000), (2005, 14000), (2006, 15000)]\n",
    "gdp = [(2000, 20), (2001, 30), (2002, 20), (2003, 30), (2004, 40), (2005, 50), (2006, 60)]\n",
    "\n",
    "zip_amount_pop = list(uty.zip_on_x(amount, population))\n",
    "\n",
    "print(\"zipped amount & population: \" + str(zip_amount_pop))\n",
    "print(\"Transformed amount to per capita: \" + str(list(map(lambda arg: (arg[0][0], arg[0][1] / arg[1][1]), zip_amount_pop))))"
   ],
   "metadata": {
    "collapsed": false
   }
  },
  {
   "cell_type": "code",
   "execution_count": null,
   "outputs": [],
   "source": [
    "import endemo2.utility.utility as uty\n",
    "\n",
    "x = [(2000, 20), (2001, 30), (2002, 20), (2003, 30), (2004, 40), (2005, 50), (2006, 60)]\n",
    "uty.cut_after_x(x, 2002)\n"
   ],
   "metadata": {
    "collapsed": false
   }
  },
  {
   "cell_type": "code",
   "execution_count": null,
   "outputs": [],
   "source": [
    "x[:len(x)-1]"
   ],
   "metadata": {
    "collapsed": false
   }
  },
  {
   "cell_type": "code",
   "execution_count": null,
   "outputs": [],
   "source": [
    "from endemo2.general.demand_containers import Demand, Heat\n",
    "d0:Demand = Demand()\n",
    "print(str(d0))\n",
    "d1 = Demand(1, Heat(1, 1, 1, 1), 1)\n",
    "print(str(d1))\n",
    "d2 = Demand(1, Heat(1, 1, 1, 1), 1)\n",
    "print(str(d2))\n",
    "d3 = Demand(1, Heat(1, 1, 1, 1), 1)\n",
    "print(str(d3))\n",
    "d0.add(d1)\n",
    "d0.add(d2)\n",
    "d0.add(d3)\n",
    "print(str(d0))\n",
    "\n"
   ],
   "metadata": {
    "collapsed": false
   }
  },
  {
   "cell_type": "code",
   "execution_count": null,
   "outputs": [],
   "source": [],
   "metadata": {
    "collapsed": false
   }
  }
 ],
 "metadata": {
  "kernelspec": {
   "display_name": "Python 3 (ipykernel)",
   "language": "python",
   "name": "python3"
  },
  "language_info": {
   "codemirror_mode": {
    "name": "ipython",
    "version": 3
   },
   "file_extension": ".py",
   "mimetype": "text/x-python",
   "name": "python",
   "nbconvert_exporter": "python",
   "pygments_lexer": "ipython3",
   "version": "3.10.11"
  }
 },
 "nbformat": 4,
 "nbformat_minor": 1
}
