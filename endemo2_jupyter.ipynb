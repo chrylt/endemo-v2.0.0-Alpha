{
 "cells": [
  {
   "cell_type": "markdown",
   "metadata": {},
   "source": [
    "# Endemo - Useful Energy Demand Model"
   ]
  },
  {
   "cell_type": "markdown",
   "source": [
    "## Create Input Manager"
   ],
   "metadata": {
    "collapsed": false
   }
  },
  {
   "cell_type": "code",
   "execution_count": 1,
   "outputs": [
    {
     "name": "stdout",
     "output_type": "stream",
     "text": [
      "Reading Input ...\n",
      "Input was successfully read.\n",
      "Preprocessing Data ...\n",
      "Preprocessing was successfully completed.\n",
      "Creating instance filters...\n",
      "Instance filters were successfully created.\n",
      "Initiating model...\n",
      "Model was successfully initiated.\n",
      "Writing preprocessing output...\n",
      "Preprocessing output was successfully written.\n",
      "Writing scenario output...\n"
     ]
    },
    {
     "ename": "PermissionError",
     "evalue": "[Errno 13] Permission denied: 'C:\\\\Users\\\\Chris\\\\Documents\\\\Master_Semester_1\\\\IDP\\\\endemo2\\\\output\\\\results_2023-08-11\\\\scenario_2018_ind_quadr_gdp\\\\ind_demand_forecast_per_country.xlsx'",
     "output_type": "error",
     "traceback": [
      "\u001B[1;31m---------------------------------------------------------------------------\u001B[0m",
      "\u001B[1;31mPermissionError\u001B[0m                           Traceback (most recent call last)",
      "Cell \u001B[1;32mIn[1], line 9\u001B[0m\n\u001B[0;32m      6\u001B[0m warnings\u001B[38;5;241m.\u001B[39msimplefilter(\u001B[38;5;124m'\u001B[39m\u001B[38;5;124mignore\u001B[39m\u001B[38;5;124m'\u001B[39m, \u001B[38;5;167;01mUserWarning\u001B[39;00m)\n\u001B[0;32m      8\u001B[0m model_instance \u001B[38;5;241m=\u001B[39m endemo\u001B[38;5;241m.\u001B[39mEndemo()\n\u001B[1;32m----> 9\u001B[0m \u001B[43mmodel_instance\u001B[49m\u001B[38;5;241;43m.\u001B[39;49m\u001B[43mexecute_with_preprocessing\u001B[49m\u001B[43m(\u001B[49m\u001B[43m)\u001B[49m\n",
      "File \u001B[1;32m~\\Documents\\Master_Semester_1\\IDP\\endemo2\\endemo2\\endemo.py:47\u001B[0m, in \u001B[0;36mEndemo.execute_with_preprocessing\u001B[1;34m(self)\u001B[0m\n\u001B[0;32m     44\u001B[0m \u001B[38;5;28mself\u001B[39m\u001B[38;5;241m.\u001B[39mcreate_instance()\n\u001B[0;32m     46\u001B[0m \u001B[38;5;66;03m# generate output files\u001B[39;00m\n\u001B[1;32m---> 47\u001B[0m \u001B[38;5;28;43mself\u001B[39;49m\u001B[38;5;241;43m.\u001B[39;49m\u001B[43mwrite_all_output\u001B[49m\u001B[43m(\u001B[49m\u001B[43m)\u001B[49m\n",
      "File \u001B[1;32m~\\Documents\\Master_Semester_1\\IDP\\endemo2\\endemo2\\endemo.py:94\u001B[0m, in \u001B[0;36mEndemo.write_all_output\u001B[1;34m(self)\u001B[0m\n\u001B[0;32m     92\u001B[0m \u001B[38;5;250m\u001B[39m\u001B[38;5;124;03m\"\"\" Writes the whole output to the output folder. \"\"\"\u001B[39;00m\n\u001B[0;32m     93\u001B[0m \u001B[38;5;28mself\u001B[39m\u001B[38;5;241m.\u001B[39mwrite_preprocessing_output()\n\u001B[1;32m---> 94\u001B[0m \u001B[38;5;28;43mself\u001B[39;49m\u001B[38;5;241;43m.\u001B[39;49m\u001B[43mwrite_model_output\u001B[49m\u001B[43m(\u001B[49m\u001B[43m)\u001B[49m\n",
      "File \u001B[1;32m~\\Documents\\Master_Semester_1\\IDP\\endemo2\\endemo2\\endemo.py:105\u001B[0m, in \u001B[0;36mEndemo.write_model_output\u001B[1;34m(self)\u001B[0m\n\u001B[0;32m    103\u001B[0m \u001B[38;5;250m\u001B[39m\u001B[38;5;124;03m\"\"\" Writes all the output that comes from the model instance. \"\"\"\u001B[39;00m\n\u001B[0;32m    104\u001B[0m \u001B[38;5;28mprint\u001B[39m(\u001B[38;5;124m\"\u001B[39m\u001B[38;5;124mWriting scenario output...\u001B[39m\u001B[38;5;124m\"\u001B[39m)\n\u001B[1;32m--> 105\u001B[0m \u001B[43mgenerate_instance_output\u001B[49m\u001B[43m(\u001B[49m\u001B[38;5;28;43mself\u001B[39;49m\u001B[38;5;241;43m.\u001B[39;49m\u001B[43minput_manager\u001B[49m\u001B[43m,\u001B[49m\u001B[43m \u001B[49m\u001B[38;5;28;43mself\u001B[39;49m\u001B[38;5;241;43m.\u001B[39;49m\u001B[43mcountries\u001B[49m\u001B[43m,\u001B[49m\n\u001B[0;32m    106\u001B[0m \u001B[43m                         \u001B[49m\u001B[38;5;28;43mself\u001B[39;49m\u001B[38;5;241;43m.\u001B[39;49m\u001B[43mcountry_instance_filter\u001B[49m\u001B[43m,\u001B[49m\u001B[43m \u001B[49m\u001B[38;5;28;43mself\u001B[39;49m\u001B[38;5;241;43m.\u001B[39;49m\u001B[43mproduct_instance_filter\u001B[49m\u001B[43m)\u001B[49m\n\u001B[0;32m    107\u001B[0m \u001B[38;5;28mprint\u001B[39m(\u001B[38;5;124m\"\u001B[39m\u001B[38;5;124mModel output was successfully written.\u001B[39m\u001B[38;5;124m\"\u001B[39m)\n",
      "File \u001B[1;32m~\\Documents\\Master_Semester_1\\IDP\\endemo2\\endemo2\\output\\instance_output.py:57\u001B[0m, in \u001B[0;36mgenerate_instance_output\u001B[1;34m(input_manager, countries, country_instance_filter, product_instance_filter)\u001B[0m\n\u001B[0;32m     54\u001B[0m shutil\u001B[38;5;241m.\u001B[39mcopy(Input\u001B[38;5;241m.\u001B[39mctrl_path, scenario_output_folder \u001B[38;5;241m/\u001B[39m \u001B[38;5;124m\"\u001B[39m\u001B[38;5;124mSet_and_Control_Parameters.xlsx\u001B[39m\u001B[38;5;124m\"\u001B[39m)\n\u001B[0;32m     56\u001B[0m \u001B[38;5;66;03m# generate all outputs\u001B[39;00m\n\u001B[1;32m---> 57\u001B[0m \u001B[43mgenerate_demand_output\u001B[49m\u001B[43m(\u001B[49m\u001B[43mscenario_output_folder_name\u001B[49m\u001B[43m,\u001B[49m\u001B[43m \u001B[49m\u001B[43minput_manager\u001B[49m\u001B[43m,\u001B[49m\u001B[43m \u001B[49m\u001B[43mcountries\u001B[49m\u001B[43m)\u001B[49m\n\u001B[0;32m     58\u001B[0m generate_gdp_output(scenario_output_folder_name, input_manager, countries, country_instance_filter)\n\u001B[0;32m     59\u001B[0m generate_population_prognosis_output(scenario_output_folder_name, input_manager, countries, country_instance_filter)\n",
      "File \u001B[1;32m~\\Documents\\Master_Semester_1\\IDP\\endemo2\\endemo2\\output\\instance_output.py:90\u001B[0m, in \u001B[0;36mgenerate_demand_output\u001B[1;34m(scenario_output_folder, input_manager, countries)\u001B[0m\n\u001B[0;32m     88\u001B[0m \u001B[38;5;28;01mif\u001B[39;00m \u001B[38;5;129;01mnot\u001B[39;00m input_manager\u001B[38;5;241m.\u001B[39mctrl\u001B[38;5;241m.\u001B[39mgeneral_settings\u001B[38;5;241m.\u001B[39mtoggle_nuts2_resolution:\n\u001B[0;32m     89\u001B[0m     filename \u001B[38;5;241m=\u001B[39m \u001B[38;5;124m\"\u001B[39m\u001B[38;5;124mind_demand_forecast_per_country.xlsx\u001B[39m\u001B[38;5;124m\"\u001B[39m\n\u001B[1;32m---> 90\u001B[0m     fg \u001B[38;5;241m=\u001B[39m \u001B[43mFileGenerator\u001B[49m\u001B[43m(\u001B[49m\u001B[43minput_manager\u001B[49m\u001B[43m,\u001B[49m\u001B[43m \u001B[49m\u001B[43mscenario_output_folder\u001B[49m\u001B[43m,\u001B[49m\u001B[43m \u001B[49m\u001B[43mfilename\u001B[49m\u001B[43m)\u001B[49m\n\u001B[0;32m     91\u001B[0m     \u001B[38;5;28;01mwith\u001B[39;00m fg:\n\u001B[0;32m     92\u001B[0m         \u001B[38;5;28;01mfor\u001B[39;00m product_name, product_obj \u001B[38;5;129;01min\u001B[39;00m input_manager\u001B[38;5;241m.\u001B[39mindustry_input\u001B[38;5;241m.\u001B[39mdict_product_input\u001B[38;5;241m.\u001B[39mitems():\n",
      "File \u001B[1;32m~\\Documents\\Master_Semester_1\\IDP\\endemo2\\endemo2\\output\\output_utility.py:70\u001B[0m, in \u001B[0;36mFileGenerator.__init__\u001B[1;34m(self, input_manager, directory, filename)\u001B[0m\n\u001B[0;32m     67\u001B[0m     \u001B[38;5;28mself\u001B[39m\u001B[38;5;241m.\u001B[39mout_file_path \u001B[38;5;241m=\u001B[39m input_manager\u001B[38;5;241m.\u001B[39moutput_path \u001B[38;5;241m/\u001B[39m day_directory_name \u001B[38;5;241m/\u001B[39m directory \u001B[38;5;241m/\u001B[39m filename\n\u001B[0;32m     69\u001B[0m \u001B[38;5;28mself\u001B[39m\u001B[38;5;241m.\u001B[39minput_manager \u001B[38;5;241m=\u001B[39m input_manager\n\u001B[1;32m---> 70\u001B[0m \u001B[38;5;28mself\u001B[39m\u001B[38;5;241m.\u001B[39mexcel_writer \u001B[38;5;241m=\u001B[39m \u001B[43mpd\u001B[49m\u001B[38;5;241;43m.\u001B[39;49m\u001B[43mExcelWriter\u001B[49m\u001B[43m(\u001B[49m\u001B[38;5;28;43mself\u001B[39;49m\u001B[38;5;241;43m.\u001B[39;49m\u001B[43mout_file_path\u001B[49m\u001B[43m)\u001B[49m\n\u001B[0;32m     71\u001B[0m \u001B[38;5;28mself\u001B[39m\u001B[38;5;241m.\u001B[39mcurrent_sheet_name \u001B[38;5;241m=\u001B[39m \u001B[38;5;124m\"\u001B[39m\u001B[38;5;124m\"\u001B[39m\n\u001B[0;32m     72\u001B[0m \u001B[38;5;28mself\u001B[39m\u001B[38;5;241m.\u001B[39mcurrent_out_dict \u001B[38;5;241m=\u001B[39m \u001B[38;5;28mdict\u001B[39m()\n",
      "File \u001B[1;32m~\\anaconda3\\envs\\endemo2\\lib\\site-packages\\pandas\\io\\excel\\_openpyxl.py:60\u001B[0m, in \u001B[0;36mOpenpyxlWriter.__init__\u001B[1;34m(self, path, engine, date_format, datetime_format, mode, storage_options, if_sheet_exists, engine_kwargs, **kwargs)\u001B[0m\n\u001B[0;32m     56\u001B[0m \u001B[38;5;28;01mfrom\u001B[39;00m \u001B[38;5;21;01mopenpyxl\u001B[39;00m\u001B[38;5;21;01m.\u001B[39;00m\u001B[38;5;21;01mworkbook\u001B[39;00m \u001B[38;5;28;01mimport\u001B[39;00m Workbook\n\u001B[0;32m     58\u001B[0m engine_kwargs \u001B[38;5;241m=\u001B[39m combine_kwargs(engine_kwargs, kwargs)\n\u001B[1;32m---> 60\u001B[0m \u001B[38;5;28;43msuper\u001B[39;49m\u001B[43m(\u001B[49m\u001B[43m)\u001B[49m\u001B[38;5;241;43m.\u001B[39;49m\u001B[38;5;21;43m__init__\u001B[39;49m\u001B[43m(\u001B[49m\n\u001B[0;32m     61\u001B[0m \u001B[43m    \u001B[49m\u001B[43mpath\u001B[49m\u001B[43m,\u001B[49m\n\u001B[0;32m     62\u001B[0m \u001B[43m    \u001B[49m\u001B[43mmode\u001B[49m\u001B[38;5;241;43m=\u001B[39;49m\u001B[43mmode\u001B[49m\u001B[43m,\u001B[49m\n\u001B[0;32m     63\u001B[0m \u001B[43m    \u001B[49m\u001B[43mstorage_options\u001B[49m\u001B[38;5;241;43m=\u001B[39;49m\u001B[43mstorage_options\u001B[49m\u001B[43m,\u001B[49m\n\u001B[0;32m     64\u001B[0m \u001B[43m    \u001B[49m\u001B[43mif_sheet_exists\u001B[49m\u001B[38;5;241;43m=\u001B[39;49m\u001B[43mif_sheet_exists\u001B[49m\u001B[43m,\u001B[49m\n\u001B[0;32m     65\u001B[0m \u001B[43m    \u001B[49m\u001B[43mengine_kwargs\u001B[49m\u001B[38;5;241;43m=\u001B[39;49m\u001B[43mengine_kwargs\u001B[49m\u001B[43m,\u001B[49m\n\u001B[0;32m     66\u001B[0m \u001B[43m\u001B[49m\u001B[43m)\u001B[49m\n\u001B[0;32m     68\u001B[0m \u001B[38;5;66;03m# ExcelWriter replaced \"a\" by \"r+\" to allow us to first read the excel file from\u001B[39;00m\n\u001B[0;32m     69\u001B[0m \u001B[38;5;66;03m# the file and later write to it\u001B[39;00m\n\u001B[0;32m     70\u001B[0m \u001B[38;5;28;01mif\u001B[39;00m \u001B[38;5;124m\"\u001B[39m\u001B[38;5;124mr+\u001B[39m\u001B[38;5;124m\"\u001B[39m \u001B[38;5;129;01min\u001B[39;00m \u001B[38;5;28mself\u001B[39m\u001B[38;5;241m.\u001B[39m_mode:  \u001B[38;5;66;03m# Load from existing workbook\u001B[39;00m\n",
      "File \u001B[1;32m~\\anaconda3\\envs\\endemo2\\lib\\site-packages\\pandas\\io\\excel\\_base.py:1313\u001B[0m, in \u001B[0;36mExcelWriter.__init__\u001B[1;34m(self, path, engine, date_format, datetime_format, mode, storage_options, if_sheet_exists, engine_kwargs, **kwargs)\u001B[0m\n\u001B[0;32m   1309\u001B[0m \u001B[38;5;28mself\u001B[39m\u001B[38;5;241m.\u001B[39m_handles \u001B[38;5;241m=\u001B[39m IOHandles(\n\u001B[0;32m   1310\u001B[0m     cast(IO[\u001B[38;5;28mbytes\u001B[39m], path), compression\u001B[38;5;241m=\u001B[39m{\u001B[38;5;124m\"\u001B[39m\u001B[38;5;124mcompression\u001B[39m\u001B[38;5;124m\"\u001B[39m: \u001B[38;5;28;01mNone\u001B[39;00m}\n\u001B[0;32m   1311\u001B[0m )\n\u001B[0;32m   1312\u001B[0m \u001B[38;5;28;01mif\u001B[39;00m \u001B[38;5;129;01mnot\u001B[39;00m \u001B[38;5;28misinstance\u001B[39m(path, ExcelWriter):\n\u001B[1;32m-> 1313\u001B[0m     \u001B[38;5;28mself\u001B[39m\u001B[38;5;241m.\u001B[39m_handles \u001B[38;5;241m=\u001B[39m \u001B[43mget_handle\u001B[49m\u001B[43m(\u001B[49m\n\u001B[0;32m   1314\u001B[0m \u001B[43m        \u001B[49m\u001B[43mpath\u001B[49m\u001B[43m,\u001B[49m\u001B[43m \u001B[49m\u001B[43mmode\u001B[49m\u001B[43m,\u001B[49m\u001B[43m \u001B[49m\u001B[43mstorage_options\u001B[49m\u001B[38;5;241;43m=\u001B[39;49m\u001B[43mstorage_options\u001B[49m\u001B[43m,\u001B[49m\u001B[43m \u001B[49m\u001B[43mis_text\u001B[49m\u001B[38;5;241;43m=\u001B[39;49m\u001B[38;5;28;43;01mFalse\u001B[39;49;00m\n\u001B[0;32m   1315\u001B[0m \u001B[43m    \u001B[49m\u001B[43m)\u001B[49m\n\u001B[0;32m   1316\u001B[0m \u001B[38;5;28mself\u001B[39m\u001B[38;5;241m.\u001B[39m_cur_sheet \u001B[38;5;241m=\u001B[39m \u001B[38;5;28;01mNone\u001B[39;00m\n\u001B[0;32m   1318\u001B[0m \u001B[38;5;28;01mif\u001B[39;00m date_format \u001B[38;5;129;01mis\u001B[39;00m \u001B[38;5;28;01mNone\u001B[39;00m:\n",
      "File \u001B[1;32m~\\anaconda3\\envs\\endemo2\\lib\\site-packages\\pandas\\io\\common.py:865\u001B[0m, in \u001B[0;36mget_handle\u001B[1;34m(path_or_buf, mode, encoding, compression, memory_map, is_text, errors, storage_options)\u001B[0m\n\u001B[0;32m    856\u001B[0m         handle \u001B[38;5;241m=\u001B[39m \u001B[38;5;28mopen\u001B[39m(\n\u001B[0;32m    857\u001B[0m             handle,\n\u001B[0;32m    858\u001B[0m             ioargs\u001B[38;5;241m.\u001B[39mmode,\n\u001B[1;32m   (...)\u001B[0m\n\u001B[0;32m    861\u001B[0m             newline\u001B[38;5;241m=\u001B[39m\u001B[38;5;124m\"\u001B[39m\u001B[38;5;124m\"\u001B[39m,\n\u001B[0;32m    862\u001B[0m         )\n\u001B[0;32m    863\u001B[0m     \u001B[38;5;28;01melse\u001B[39;00m:\n\u001B[0;32m    864\u001B[0m         \u001B[38;5;66;03m# Binary mode\u001B[39;00m\n\u001B[1;32m--> 865\u001B[0m         handle \u001B[38;5;241m=\u001B[39m \u001B[38;5;28;43mopen\u001B[39;49m\u001B[43m(\u001B[49m\u001B[43mhandle\u001B[49m\u001B[43m,\u001B[49m\u001B[43m \u001B[49m\u001B[43mioargs\u001B[49m\u001B[38;5;241;43m.\u001B[39;49m\u001B[43mmode\u001B[49m\u001B[43m)\u001B[49m\n\u001B[0;32m    866\u001B[0m     handles\u001B[38;5;241m.\u001B[39mappend(handle)\n\u001B[0;32m    868\u001B[0m \u001B[38;5;66;03m# Convert BytesIO or file objects passed with an encoding\u001B[39;00m\n",
      "\u001B[1;31mPermissionError\u001B[0m: [Errno 13] Permission denied: 'C:\\\\Users\\\\Chris\\\\Documents\\\\Master_Semester_1\\\\IDP\\\\endemo2\\\\output\\\\results_2023-08-11\\\\scenario_2018_ind_quadr_gdp\\\\ind_demand_forecast_per_country.xlsx'"
     ]
    },
    {
     "data": {
      "text/plain": "<Figure size 640x480 with 0 Axes>"
     },
     "metadata": {},
     "output_type": "display_data"
    }
   ],
   "source": [
    "from endemo2 import endemo\n",
    "import warnings\n",
    "import numpy as np\n",
    "\n",
    "warnings.simplefilter('ignore', np.RankWarning)\n",
    "warnings.simplefilter('ignore', UserWarning)\n",
    "\n",
    "model_instance = endemo.Endemo()\n",
    "model_instance.execute_with_preprocessing()\n"
   ],
   "metadata": {
    "collapsed": false
   }
  },
  {
   "cell_type": "code",
   "execution_count": null,
   "outputs": [],
   "source": [
    "# instance 2\n",
    "model_instance.execute_without_preprocessing()"
   ],
   "metadata": {
    "collapsed": false
   }
  },
  {
   "cell_type": "code",
   "execution_count": 1,
   "outputs": [
    {
     "data": {
      "text/plain": "(1999.0, 2001.0)"
     },
     "execution_count": 1,
     "metadata": {},
     "output_type": "execute_result"
    }
   ],
   "source": [
    "# instance 3\n",
    "model_instance.execute_without_preprocessing()"
   ],
   "metadata": {
    "collapsed": false,
    "ExecuteTime": {
     "end_time": "2023-08-10T08:20:48.621306800Z",
     "start_time": "2023-08-10T08:20:47.380379600Z"
    }
   }
  },
  {
   "cell_type": "markdown",
   "source": [
    "### Check if settings were read correctly"
   ],
   "metadata": {
    "collapsed": false,
    "ExecuteTime": {
     "end_time": "2023-08-10T08:09:11.880678400Z",
     "start_time": "2023-08-10T08:09:11.861278700Z"
    }
   },
   "outputs": [
    {
     "data": {
      "text/plain": "5"
     },
     "execution_count": 4,
     "metadata": {},
     "output_type": "execute_result"
    }
   ],
   "execution_count": 4
  },
  {
   "cell_type": "code",
   "execution_count": null,
   "outputs": [],
   "source": [
    "# general settings\n",
    "gs = model_instance.input_manager.ctrl.general_settings\n",
    "print(\"Forecast year: \" + str(gs.target_year))\n",
    "print(\"Active sectors: \" + str(gs.get_active_sectors()))\n",
    "# print(\"Population Forecast: \" + input_manager.ctrl.general_settings.population_forecast)\n",
    "#print(\"Timeseries Forecast: \" + ...)\n",
    "# nuts ...\n",
    "# world\n",
    "# nuts2 classification\n",
    "# graphical output\n",
    "# calculate final energy demand"
   ],
   "metadata": {
    "collapsed": false
   }
  },
  {
   "cell_type": "code",
   "execution_count": null,
   "outputs": [],
   "source": [
    "print(\"Active Countries: \\n\" + str(gs.active_countries))"
   ],
   "metadata": {
    "collapsed": false
   }
  },
  {
   "cell_type": "code",
   "execution_count": null,
   "outputs": [],
   "source": [
    "# industry settings\n",
    "inds = model_instance.input_manager.ctrl.industry_settings\n",
    "print(\"Forecast method: \" + str(inds.forecast_method))\n",
    "# print(\"Timetrendmodel for u-shape\")\n",
    "print(\"Calculated per capita: \" + str(inds.production_quantity_calc_per_capita))\n",
    "print(\"Calc Specific Energy Requirements: \" + str(inds.trend_calc_for_spec))\n",
    "print(\"H2 subst of heat: \" + str(inds.h2_subst_of_heat))\n",
    "# print(nuts2...)\n",
    "print(\"Skip years: \" + str(inds.skip_years))\n",
    "print(\"Last available year (excluding): \" + str(inds.last_available_year))"
   ],
   "metadata": {
    "collapsed": false
   }
  },
  {
   "cell_type": "markdown",
   "source": [
    "## Test Utility functions\n",
    "### Test Regression"
   ],
   "metadata": {
    "collapsed": false
   }
  },
  {
   "cell_type": "code",
   "execution_count": null,
   "outputs": [],
   "source": [
    "import endemo2.utility as uty\n",
    "\n",
    "# Test Linear Regression\n",
    "\n",
    "x = [2003, 2004, 2005, 2006, 2007, 2008, 2009, 2010, 2011]\n",
    "y = [1258.809906,1259.17278,1259.17278,1111.120188,1063.946568,1124.9094,1100.233968,1100.233968,1095.153732]\n",
    "data = list(zip(x, y))\n",
    "\n",
    "uty.linear_regression(data, visualize=True)\n",
    "\n",
    "# Test Quadratic Regression\n",
    "\n",
    "x = [6, 9, 12, 12, 15, 21, 24, 24, 27, 30, 36, 39, 45, 48, 57, 60]\n",
    "y = [12, 18, 30, 42, 48, 78, 90, 96, 96, 90, 84, 78, 66, 54, 36, 24]\n",
    "data = list(zip(x, y))\n",
    "\n",
    "uty.quadratic_regression(data, visualize=True)\n"
   ],
   "metadata": {
    "collapsed": false
   }
  },
  {
   "cell_type": "markdown",
   "source": [
    "### Test filter out NaN and Inf"
   ],
   "metadata": {
    "collapsed": false
   }
  },
  {
   "cell_type": "code",
   "execution_count": null,
   "outputs": [],
   "source": [
    "import numpy as np\n",
    "import math\n",
    "import endemo2.utility as uty\n",
    "\n",
    "x = [6, 9, 12, 12, 15, 21, 24, 24, 27, 30, 36, 39, 45, 48, 57, 60]\n",
    "y = [12, np.NaN, np.inf, 42, 48, 78, 90, 96, 96, 90, 84, 78, 66, 54, 36, 24]\n",
    "data = list(zip(x, y))\n",
    "\n",
    "uty.filter_out_nan_and_inf(data)"
   ],
   "metadata": {
    "collapsed": false
   }
  },
  {
   "cell_type": "markdown",
   "source": [
    "### Combining Data on the x axis\n",
    "\n",
    "Attention! If the x axis is ascending for both data arrays, use ascending_x=True for better performance!"
   ],
   "metadata": {
    "collapsed": false
   }
  },
  {
   "cell_type": "code",
   "execution_count": null,
   "outputs": [],
   "source": [
    "import endemo2.utility as uty\n",
    "\n",
    "a = [(1, 100), (2, 200), (3, 300), (4, 400), (5, 500)]\n",
    "b = [(2, 2000), (3, 3000), (5, 5000)]\n",
    "\n",
    "print(uty.combine_data_on_x(a, b, ascending_x=True))\n",
    "\n",
    "a = [(1, 100), (2, 200), (3, 300), (4, 400), (5, 500)]\n",
    "b = [(3, 3000),(2, 2000),  (5, 5000)]\n",
    "\n",
    "print(uty.combine_data_on_x(a, b))\n"
   ],
   "metadata": {
    "collapsed": false
   }
  },
  {
   "cell_type": "markdown",
   "source": [
    "### Zip on X explained"
   ],
   "metadata": {
    "collapsed": false
   }
  },
  {
   "cell_type": "code",
   "execution_count": null,
   "outputs": [],
   "source": [
    "import endemo2.utility as uty\n",
    "\n",
    "a = [(1, 100), (2, 200), (3, 300), (4, 400), (5, 500)]\n",
    "b = [(2, 2000), (3, 3000), (5, 5000)]\n",
    "\n",
    "print(list(uty.zip_on_x(a, b)))"
   ],
   "metadata": {
    "collapsed": false
   }
  },
  {
   "cell_type": "code",
   "execution_count": null,
   "outputs": [],
   "source": [
    "import endemo2.utility as uty\n",
    "\n",
    "amount = [(1998, 10), (2001, 12), (2003, 11), (2006, 13)]\n",
    "population = [(2000, 10000), (2001, 11000), (2002, 12000), (2003, 13000), (2004, 14000), (2005, 14000), (2006, 15000)]\n",
    "gdp = [(2000, 20), (2001, 30), (2002, 20), (2003, 30), (2004, 40), (2005, 50), (2006, 60)]\n",
    "\n",
    "zip_amount_pop = list(uty.zip_on_x(amount, population))\n",
    "\n",
    "print(\"zipped amount & population: \" + str(zip_amount_pop))\n",
    "print(\"Transformed amount to per capita: \" + str(list(map(lambda arg: (arg[0][0], arg[0][1] / arg[1][1]), zip_amount_pop))))"
   ],
   "metadata": {
    "collapsed": false
   }
  },
  {
   "cell_type": "code",
   "execution_count": null,
   "outputs": [],
   "source": [
    "import endemo2.utility as uty\n",
    "\n",
    "x = [(2000, 20), (2001, 30), (2002, 20), (2003, 30), (2004, 40), (2005, 50), (2006, 60)]\n",
    "uty.cut_after_x(x, 2002)\n"
   ],
   "metadata": {
    "collapsed": false
   }
  },
  {
   "cell_type": "code",
   "execution_count": null,
   "outputs": [],
   "source": [
    "x[:len(x)-1]"
   ],
   "metadata": {
    "collapsed": false
   }
  },
  {
   "cell_type": "code",
   "execution_count": null,
   "outputs": [],
   "source": [
    "from endemo2.data_structures.containers import Demand, Heat\n",
    "d0:Demand = Demand()\n",
    "print(str(d0))\n",
    "d1 = Demand(1, Heat(1, 1, 1, 1), 1)\n",
    "print(str(d1))\n",
    "d2 = Demand(1, Heat(1, 1, 1, 1), 1)\n",
    "print(str(d2))\n",
    "d3 = Demand(1, Heat(1, 1, 1, 1), 1)\n",
    "print(str(d3))\n",
    "d0.add(d1)\n",
    "d0.add(d2)\n",
    "d0.add(d3)\n",
    "print(str(d0))\n",
    "\n"
   ],
   "metadata": {
    "collapsed": false
   }
  },
  {
   "cell_type": "code",
   "execution_count": null,
   "outputs": [],
   "source": [],
   "metadata": {
    "collapsed": false
   }
  }
 ],
 "metadata": {
  "kernelspec": {
   "display_name": "Python 3 (ipykernel)",
   "language": "python",
   "name": "python3"
  },
  "language_info": {
   "codemirror_mode": {
    "name": "ipython",
    "version": 3
   },
   "file_extension": ".py",
   "mimetype": "text/x-python",
   "name": "python",
   "nbconvert_exporter": "python",
   "pygments_lexer": "ipython3",
   "version": "3.10.11"
  }
 },
 "nbformat": 4,
 "nbformat_minor": 1
}
