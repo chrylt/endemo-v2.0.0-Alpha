{
 "cells": [
  {
   "cell_type": "markdown",
   "metadata": {},
   "source": [
    "# Endemo 2 - Useful Energy Demand Model Rework"
   ]
  },
  {
   "cell_type": "markdown",
   "metadata": {},
   "source": [
    "## Industry Sector\n",
    "\n"
   ]
  },
  {
   "cell_type": "markdown",
   "source": [
    "### Import Packages"
   ],
   "metadata": {
    "collapsed": false
   }
  },
  {
   "cell_type": "code",
   "execution_count": 1,
   "outputs": [],
   "source": [
    "import pathlib\n",
    "\n",
    "import xlrd as x\n",
    "import pandas as pd\n",
    "from pathlib import Path\n",
    "import os"
   ],
   "metadata": {
    "collapsed": false
   }
  },
  {
   "cell_type": "markdown",
   "source": [
    "### Import Custom Classes"
   ],
   "metadata": {
    "collapsed": false
   }
  },
  {
   "cell_type": "code",
   "execution_count": 2,
   "outputs": [
    {
     "name": "stderr",
     "output_type": "stream",
     "text": [
      "C:\\Users\\Chris\\Documents\\Master_Semester_1\\IDP\\endemo2\\ControlParameters.py:26: SyntaxWarning: \"is\" with a literal. Did you mean \"==\"?\n",
      "  return [sector for (sector, isActive) in self._sectors_active_values.items() if isActive is 1 ]\n"
     ]
    }
   ],
   "source": [
    "from ControlParameters import ControlParameters\n",
    "from Industry import Industry\n",
    "from Household import Household\n",
    "from Transport import Transport\n",
    "from CommercialTradeServices import CommercialTradeServices"
   ],
   "metadata": {
    "collapsed": false
   }
  },
  {
   "cell_type": "markdown",
   "source": [
    "### Associate strings with code"
   ],
   "metadata": {
    "collapsed": false
   }
  },
  {
   "cell_type": "code",
   "execution_count": 3,
   "outputs": [],
   "source": [
    "SECTOR_NAME_TO_OBJECT_MAP = dict({\"industry\":Industry(), \"households\":Household(), \"transport\":Transport(), \"commertial, trade, services\":CommercialTradeServices()})\n",
    "\n",
    "\n"
   ],
   "metadata": {
    "collapsed": false
   }
  },
  {
   "cell_type": "markdown",
   "source": [
    "### Set Input Paths"
   ],
   "metadata": {
    "collapsed": false
   }
  },
  {
   "cell_type": "code",
   "execution_count": 4,
   "outputs": [
    {
     "name": "stdout",
     "output_type": "stream",
     "text": [
      "C:\\Users\\Chris\\Documents\\Master_Semester_1\\IDP\\endemo2\\input\n"
     ]
    }
   ],
   "source": [
    "# change path to point to your endemo2 folder\n",
    "\n",
    "super_path = Path(os.path.abspath(''))\n",
    "input_path = super_path / 'input'\n",
    "print(\"Input folder at\" + str(input_path))\n",
    "\n",
    "\n"
   ],
   "metadata": {
    "collapsed": false
   }
  },
  {
   "cell_type": "markdown",
   "source": [
    "### Read control parameters"
   ],
   "metadata": {
    "collapsed": false
   }
  },
  {
   "cell_type": "code",
   "execution_count": 5,
   "outputs": [
    {
     "name": "stdout",
     "output_type": "stream",
     "text": [
      "sectors_active_values: {'industry': 1, 'households': 1, 'transport': 1, 'commertial, trade, services': 1}\n",
      "parameter_values: {'Forecast year': 2050, 'Population forecast': 1, 'Timeseries forecast': 1, 'NUTS2 geographical resolution': 1, 'World calculation': 0, 'NUTS2 classification': 2016, 'Graphical output': 1}\n"
     ]
    }
   ],
   "source": [
    "Set_and_Control_Parameters = pd.read_excel(input_path / 'Set_and_Control_Parameters.xlsx')\n",
    "ctrl = ControlParameters(Set_and_Control_Parameters)\n",
    "print(ctrl)"
   ],
   "metadata": {
    "collapsed": false
   }
  },
  {
   "cell_type": "code",
   "execution_count": 5,
   "outputs": [],
   "source": [],
   "metadata": {
    "collapsed": false
   }
  },
  {
   "cell_type": "code",
   "execution_count": 5,
   "outputs": [],
   "source": [],
   "metadata": {
    "collapsed": false
   }
  },
  {
   "cell_type": "code",
   "execution_count": 5,
   "outputs": [],
   "source": [],
   "metadata": {
    "collapsed": false
   }
  },
  {
   "cell_type": "code",
   "execution_count": 5,
   "outputs": [],
   "source": [],
   "metadata": {
    "collapsed": false
   }
  }
 ],
 "metadata": {
  "kernelspec": {
   "display_name": "Python 3 (ipykernel)",
   "language": "python",
   "name": "python3"
  },
  "language_info": {
   "codemirror_mode": {
    "name": "ipython",
    "version": 3
   },
   "file_extension": ".py",
   "mimetype": "text/x-python",
   "name": "python",
   "nbconvert_exporter": "python",
   "pygments_lexer": "ipython3",
   "version": "3.10.11"
  }
 },
 "nbformat": 4,
 "nbformat_minor": 1
}
